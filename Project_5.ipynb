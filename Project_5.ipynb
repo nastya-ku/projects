{
 "cells": [
  {
   "cell_type": "markdown",
   "id": "66c85f97",
   "metadata": {},
   "source": [
    "# Анализ сервиса аренды самокатов GoFast.\n",
    "\n",
    "Вы аналитик популярного сервиса аренды самокатов GoFast. Вам передали данные о некоторых пользователях из нескольких городов, а также об их поездках. Проанализируйте данные и проверьте некоторые гипотезы, которые могут помочь бизнесу вырасти.\n",
    "Чтобы совершать поездки по городу, пользователи сервиса GoFast пользуются мобильным приложением. Сервисом можно пользоваться:\n",
    "- без подписки\n",
    "    - абонентская плата отсутствует;\n",
    "    - стоимость одной минуты поездки — 8 рублей;\n",
    "    - стоимость старта (начала поездки) — 50 рублей;\n",
    "- с подпиской Ultra\n",
    "    - абонентская плата — 199 рублей в месяц;\n",
    "    - стоимость одной минуты поездки — 6 рублей;\n",
    "    - стоимость старта — бесплатно.\n",
    "\n",
    "\n",
    "**План проекта:**\n",
    "- Изучение данных;\n",
    "- Предобработка данных;\n",
    "- Исследовательский анализ;\n",
    "- Объединение данных;\n",
    "- Подсчет выручки.\n",
    "- Проветка гипотез\n",
    "\n",
    "**Описание данных:**\n",
    "1. `users_go`\n",
    "    - `user_id` - уникальный идентификатор пользователя\n",
    "    - `name` - имя пользователя\n",
    "    - `age` - возраст\n",
    "    - `city` - город\n",
    "    - `subscription_type` - тип подписки (free, ultra)\n",
    "2. `rides_go`\n",
    "    - `user_id` - уникальный идентификатор пользователя\n",
    "    - `distance` - расстояние, которое пользователь проехал в текущей сессии (в метрах)\n",
    "    - `duration` - продолжительность сессии (в минутах) — время с того момента, как пользователь нажал кнопку «Начать поездку» до момента, как он нажал кнопку «Завершить поездку»\n",
    "    - `date` - дата совершения поездки\n",
    "3. `subscriptions_go`\n",
    "    - `subscription_type` - тип подписки\n",
    "    - `minute_price` - стоимость одной минуты поездки по данной подписке\n",
    "    - `start_ride_price` - стоимость начала поездки\n",
    "    - `subscription_fee` - стоимость ежемесячного платежа"
   ]
  },
  {
   "cell_type": "code",
   "execution_count": 1,
   "id": "72576667",
   "metadata": {},
   "outputs": [],
   "source": [
    "import pandas as pd\n",
    "import matplotlib.pyplot as plt\n",
    "import numpy as np\n",
    "import seaborn as sns\n",
    "from scipy import stats as st"
   ]
  },
  {
   "cell_type": "markdown",
   "id": "c42cbe00",
   "metadata": {},
   "source": [
    "#### Шаг 1. Загрузка данных"
   ]
  },
  {
   "cell_type": "code",
   "execution_count": 2,
   "id": "8d80711a",
   "metadata": {},
   "outputs": [],
   "source": [
    "try:\n",
    "    users = pd.read_csv('/datasets/users_go.csv')\n",
    "    rides = pd.read_csv('/datasets/rides_go.csv')\n",
    "    subscriptions = pd.read_csv('/datasets/subscriptions_go.csv')\n",
    "except:\n",
    "    users = pd.read_csv('https://code.s3.yandex.net/datasets/users_go.csv')\n",
    "    rides = pd.read_csv('https://code.s3.yandex.net/datasets/rides_go.csv')\n",
    "    subscriptions = pd.read_csv('https://code.s3.yandex.net/datasets/subscriptions_go.csv')"
   ]
  },
  {
   "cell_type": "markdown",
   "id": "2136789d",
   "metadata": {},
   "source": [
    "##### Загружаем данные пользователей"
   ]
  },
  {
   "cell_type": "code",
   "execution_count": 3,
   "id": "eff9f206",
   "metadata": {},
   "outputs": [
    {
     "data": {
      "text/html": [
       "<div>\n",
       "<style scoped>\n",
       "    .dataframe tbody tr th:only-of-type {\n",
       "        vertical-align: middle;\n",
       "    }\n",
       "\n",
       "    .dataframe tbody tr th {\n",
       "        vertical-align: top;\n",
       "    }\n",
       "\n",
       "    .dataframe thead th {\n",
       "        text-align: right;\n",
       "    }\n",
       "</style>\n",
       "<table border=\"1\" class=\"dataframe\">\n",
       "  <thead>\n",
       "    <tr style=\"text-align: right;\">\n",
       "      <th></th>\n",
       "      <th>user_id</th>\n",
       "      <th>name</th>\n",
       "      <th>age</th>\n",
       "      <th>city</th>\n",
       "      <th>subscription_type</th>\n",
       "    </tr>\n",
       "  </thead>\n",
       "  <tbody>\n",
       "    <tr>\n",
       "      <th>0</th>\n",
       "      <td>1</td>\n",
       "      <td>Кира</td>\n",
       "      <td>22</td>\n",
       "      <td>Тюмень</td>\n",
       "      <td>ultra</td>\n",
       "    </tr>\n",
       "    <tr>\n",
       "      <th>1</th>\n",
       "      <td>2</td>\n",
       "      <td>Станислав</td>\n",
       "      <td>31</td>\n",
       "      <td>Омск</td>\n",
       "      <td>ultra</td>\n",
       "    </tr>\n",
       "    <tr>\n",
       "      <th>2</th>\n",
       "      <td>3</td>\n",
       "      <td>Алексей</td>\n",
       "      <td>20</td>\n",
       "      <td>Москва</td>\n",
       "      <td>ultra</td>\n",
       "    </tr>\n",
       "    <tr>\n",
       "      <th>3</th>\n",
       "      <td>4</td>\n",
       "      <td>Константин</td>\n",
       "      <td>26</td>\n",
       "      <td>Ростов-на-Дону</td>\n",
       "      <td>ultra</td>\n",
       "    </tr>\n",
       "    <tr>\n",
       "      <th>4</th>\n",
       "      <td>5</td>\n",
       "      <td>Адель</td>\n",
       "      <td>28</td>\n",
       "      <td>Омск</td>\n",
       "      <td>ultra</td>\n",
       "    </tr>\n",
       "  </tbody>\n",
       "</table>\n",
       "</div>"
      ],
      "text/plain": [
       "   user_id        name  age            city subscription_type\n",
       "0        1        Кира   22          Тюмень             ultra\n",
       "1        2   Станислав   31            Омск             ultra\n",
       "2        3     Алексей   20          Москва             ultra\n",
       "3        4  Константин   26  Ростов-на-Дону             ultra\n",
       "4        5       Адель   28            Омск             ultra"
      ]
     },
     "execution_count": 3,
     "metadata": {},
     "output_type": "execute_result"
    }
   ],
   "source": [
    "users.head()"
   ]
  },
  {
   "cell_type": "code",
   "execution_count": 4,
   "id": "27e4e3e3",
   "metadata": {},
   "outputs": [
    {
     "name": "stdout",
     "output_type": "stream",
     "text": [
      "<class 'pandas.core.frame.DataFrame'>\n",
      "RangeIndex: 1565 entries, 0 to 1564\n",
      "Data columns (total 5 columns):\n",
      " #   Column             Non-Null Count  Dtype \n",
      "---  ------             --------------  ----- \n",
      " 0   user_id            1565 non-null   int64 \n",
      " 1   name               1565 non-null   object\n",
      " 2   age                1565 non-null   int64 \n",
      " 3   city               1565 non-null   object\n",
      " 4   subscription_type  1565 non-null   object\n",
      "dtypes: int64(2), object(3)\n",
      "memory usage: 61.3+ KB\n"
     ]
    },
    {
     "data": {
      "text/plain": [
       "user_id              0\n",
       "name                 0\n",
       "age                  0\n",
       "city                 0\n",
       "subscription_type    0\n",
       "dtype: int64"
      ]
     },
     "execution_count": 4,
     "metadata": {},
     "output_type": "execute_result"
    }
   ],
   "source": [
    "#выведем информаццию о данных пользователей\n",
    "users.info()\n",
    "#посмотрим пропуски в данных\n",
    "users.isna().sum()"
   ]
  },
  {
   "cell_type": "code",
   "execution_count": 5,
   "id": "a236e9fb",
   "metadata": {},
   "outputs": [
    {
     "data": {
      "text/plain": [
       "array([[<Axes: title={'center': 'user_id'}>,\n",
       "        <Axes: title={'center': 'age'}>]], dtype=object)"
      ]
     },
     "execution_count": 5,
     "metadata": {},
     "output_type": "execute_result"
    },
    {
     "data": {
      "image/png": "[encoded data removed]",
      "text/plain": [
       "<Figure size 700x500 with 2 Axes>"
      ]
     },
     "metadata": {},
     "output_type": "display_data"
    }
   ],
   "source": [
    "#посттроим диаграммы по всем числовым столцам\n",
    "users.hist(figsize=(7, 5))"
   ]
  },
  {
   "cell_type": "markdown",
   "id": "63a5b139",
   "metadata": {},
   "source": [
    "##### Загружаем данные поездок"
   ]
  },
  {
   "cell_type": "code",
   "execution_count": 6,
   "id": "bba04b71",
   "metadata": {},
   "outputs": [
    {
     "data": {
      "text/html": [
       "<div>\n",
       "<style scoped>\n",
       "    .dataframe tbody tr th:only-of-type {\n",
       "        vertical-align: middle;\n",
       "    }\n",
       "\n",
       "    .dataframe tbody tr th {\n",
       "        vertical-align: top;\n",
       "    }\n",
       "\n",
       "    .dataframe thead th {\n",
       "        text-align: right;\n",
       "    }\n",
       "</style>\n",
       "<table border=\"1\" class=\"dataframe\">\n",
       "  <thead>\n",
       "    <tr style=\"text-align: right;\">\n",
       "      <th></th>\n",
       "      <th>user_id</th>\n",
       "      <th>distance</th>\n",
       "      <th>duration</th>\n",
       "      <th>date</th>\n",
       "    </tr>\n",
       "  </thead>\n",
       "  <tbody>\n",
       "    <tr>\n",
       "      <th>0</th>\n",
       "      <td>1</td>\n",
       "      <td>4409.919140</td>\n",
       "      <td>25.599769</td>\n",
       "      <td>2021-01-01</td>\n",
       "    </tr>\n",
       "    <tr>\n",
       "      <th>1</th>\n",
       "      <td>1</td>\n",
       "      <td>2617.592153</td>\n",
       "      <td>15.816871</td>\n",
       "      <td>2021-01-18</td>\n",
       "    </tr>\n",
       "    <tr>\n",
       "      <th>2</th>\n",
       "      <td>1</td>\n",
       "      <td>754.159807</td>\n",
       "      <td>6.232113</td>\n",
       "      <td>2021-04-20</td>\n",
       "    </tr>\n",
       "    <tr>\n",
       "      <th>3</th>\n",
       "      <td>1</td>\n",
       "      <td>2694.783254</td>\n",
       "      <td>18.511000</td>\n",
       "      <td>2021-08-11</td>\n",
       "    </tr>\n",
       "    <tr>\n",
       "      <th>4</th>\n",
       "      <td>1</td>\n",
       "      <td>4028.687306</td>\n",
       "      <td>26.265803</td>\n",
       "      <td>2021-08-28</td>\n",
       "    </tr>\n",
       "  </tbody>\n",
       "</table>\n",
       "</div>"
      ],
      "text/plain": [
       "   user_id     distance   duration        date\n",
       "0        1  4409.919140  25.599769  2021-01-01\n",
       "1        1  2617.592153  15.816871  2021-01-18\n",
       "2        1   754.159807   6.232113  2021-04-20\n",
       "3        1  2694.783254  18.511000  2021-08-11\n",
       "4        1  4028.687306  26.265803  2021-08-28"
      ]
     },
     "execution_count": 6,
     "metadata": {},
     "output_type": "execute_result"
    }
   ],
   "source": [
    "rides.head()"
   ]
  },
  {
   "cell_type": "code",
   "execution_count": 7,
   "id": "9a4cc634",
   "metadata": {},
   "outputs": [
    {
     "name": "stdout",
     "output_type": "stream",
     "text": [
      "<class 'pandas.core.frame.DataFrame'>\n",
      "RangeIndex: 18068 entries, 0 to 18067\n",
      "Data columns (total 4 columns):\n",
      " #   Column    Non-Null Count  Dtype  \n",
      "---  ------    --------------  -----  \n",
      " 0   user_id   18068 non-null  int64  \n",
      " 1   distance  18068 non-null  float64\n",
      " 2   duration  18068 non-null  float64\n",
      " 3   date      18068 non-null  object \n",
      "dtypes: float64(2), int64(1), object(1)\n",
      "memory usage: 564.8+ KB\n"
     ]
    },
    {
     "data": {
      "text/plain": [
       "user_id     0\n",
       "distance    0\n",
       "duration    0\n",
       "date        0\n",
       "dtype: int64"
      ]
     },
     "execution_count": 7,
     "metadata": {},
     "output_type": "execute_result"
    }
   ],
   "source": [
    "#выведем информаццию о данных поездок\n",
    "rides.info()\n",
    "#посмотрим пропуски в данных\n",
    "rides.isna().sum()"
   ]
  },
  {
   "cell_type": "code",
   "execution_count": 8,
   "id": "49e30cea",
   "metadata": {},
   "outputs": [
    {
     "data": {
      "text/plain": [
       "array([[<Axes: title={'center': 'user_id'}>,\n",
       "        <Axes: title={'center': 'distance'}>],\n",
       "       [<Axes: title={'center': 'duration'}>, <Axes: >]], dtype=object)"
      ]
     },
     "execution_count": 8,
     "metadata": {},
     "output_type": "execute_result"
    },
    {
     "data": {
      "image/png": "[encoded data removed]",
      "text/plain": [
       "<Figure size 700x1000 with 4 Axes>"
      ]
     },
     "metadata": {},
     "output_type": "display_data"
    }
   ],
   "source": [
    "#посттроим диаграммы по всем числовым столцам\n",
    "rides.hist(figsize=(7, 10))"
   ]
  },
  {
   "cell_type": "markdown",
   "id": "e42d9fd9",
   "metadata": {},
   "source": [
    "##### Загружаем данные поездок"
   ]
  },
  {
   "cell_type": "code",
   "execution_count": 9,
   "id": "81411527",
   "metadata": {},
   "outputs": [
    {
     "data": {
      "text/html": [
       "<div>\n",
       "<style scoped>\n",
       "    .dataframe tbody tr th:only-of-type {\n",
       "        vertical-align: middle;\n",
       "    }\n",
       "\n",
       "    .dataframe tbody tr th {\n",
       "        vertical-align: top;\n",
       "    }\n",
       "\n",
       "    .dataframe thead th {\n",
       "        text-align: right;\n",
       "    }\n",
       "</style>\n",
       "<table border=\"1\" class=\"dataframe\">\n",
       "  <thead>\n",
       "    <tr style=\"text-align: right;\">\n",
       "      <th></th>\n",
       "      <th>subscription_type</th>\n",
       "      <th>minute_price</th>\n",
       "      <th>start_ride_price</th>\n",
       "      <th>subscription_fee</th>\n",
       "    </tr>\n",
       "  </thead>\n",
       "  <tbody>\n",
       "    <tr>\n",
       "      <th>0</th>\n",
       "      <td>free</td>\n",
       "      <td>8</td>\n",
       "      <td>50</td>\n",
       "      <td>0</td>\n",
       "    </tr>\n",
       "    <tr>\n",
       "      <th>1</th>\n",
       "      <td>ultra</td>\n",
       "      <td>6</td>\n",
       "      <td>0</td>\n",
       "      <td>199</td>\n",
       "    </tr>\n",
       "  </tbody>\n",
       "</table>\n",
       "</div>"
      ],
      "text/plain": [
       "  subscription_type  minute_price  start_ride_price  subscription_fee\n",
       "0              free             8                50                 0\n",
       "1             ultra             6                 0               199"
      ]
     },
     "execution_count": 9,
     "metadata": {},
     "output_type": "execute_result"
    }
   ],
   "source": [
    "subscriptions.head()"
   ]
  },
  {
   "cell_type": "code",
   "execution_count": 10,
   "id": "cbb26e43",
   "metadata": {},
   "outputs": [
    {
     "name": "stdout",
     "output_type": "stream",
     "text": [
      "<class 'pandas.core.frame.DataFrame'>\n",
      "RangeIndex: 2 entries, 0 to 1\n",
      "Data columns (total 4 columns):\n",
      " #   Column             Non-Null Count  Dtype \n",
      "---  ------             --------------  ----- \n",
      " 0   subscription_type  2 non-null      object\n",
      " 1   minute_price       2 non-null      int64 \n",
      " 2   start_ride_price   2 non-null      int64 \n",
      " 3   subscription_fee   2 non-null      int64 \n",
      "dtypes: int64(3), object(1)\n",
      "memory usage: 192.0+ bytes\n"
     ]
    },
    {
     "data": {
      "text/plain": [
       "subscription_type    0\n",
       "minute_price         0\n",
       "start_ride_price     0\n",
       "subscription_fee     0\n",
       "dtype: int64"
      ]
     },
     "execution_count": 10,
     "metadata": {},
     "output_type": "execute_result"
    }
   ],
   "source": [
    "#выведем информаццию о данных подписок\n",
    "subscriptions.info()\n",
    "#посмотрим пропуски в данных\n",
    "subscriptions.isna().sum()"
   ]
  },
  {
   "cell_type": "markdown",
   "id": "e8411f4e",
   "metadata": {},
   "source": [
    "Вывод по первому пункту: в данных пользователей имеется 1565 записей, пропуски отсутствуют. В данных поездок имеется 18068 записи, пропуски отсутствуют. В данных подписок 2 записи, пропуски отсутствуют."
   ]
  },
  {
   "cell_type": "markdown",
   "id": "e95ebca7",
   "metadata": {},
   "source": [
    "#### Шаг 2. Предобработка данных"
   ]
  },
  {
   "cell_type": "code",
   "execution_count": 11,
   "id": "af6d202c",
   "metadata": {},
   "outputs": [
    {
     "name": "stdout",
     "output_type": "stream",
     "text": [
      "<class 'pandas.core.frame.DataFrame'>\n",
      "RangeIndex: 18068 entries, 0 to 18067\n",
      "Data columns (total 4 columns):\n",
      " #   Column    Non-Null Count  Dtype         \n",
      "---  ------    --------------  -----         \n",
      " 0   user_id   18068 non-null  int64         \n",
      " 1   distance  18068 non-null  float64       \n",
      " 2   duration  18068 non-null  float64       \n",
      " 3   date      18068 non-null  datetime64[ns]\n",
      "dtypes: datetime64[ns](1), float64(2), int64(1)\n",
      "memory usage: 564.8 KB\n"
     ]
    }
   ],
   "source": [
    "#изменим тип столбца date с типа object на тип datetime\n",
    "rides['date'] = pd.to_datetime(rides['date'], format='%Y-%m-%d')\n",
    "rides.info()"
   ]
  },
  {
   "cell_type": "code",
   "execution_count": 12,
   "id": "83ab84a8",
   "metadata": {},
   "outputs": [
    {
     "data": {
      "text/plain": [
       "user_id              int64\n",
       "distance           float64\n",
       "duration           float64\n",
       "date        datetime64[ns]\n",
       "dtype: object"
      ]
     },
     "execution_count": 12,
     "metadata": {},
     "output_type": "execute_result"
    }
   ],
   "source": [
    "rides.dtypes"
   ]
  },
  {
   "cell_type": "code",
   "execution_count": 13,
   "id": "9579ed0e",
   "metadata": {},
   "outputs": [
    {
     "name": "stdout",
     "output_type": "stream",
     "text": [
      "<class 'pandas.core.frame.DataFrame'>\n",
      "RangeIndex: 18068 entries, 0 to 18067\n",
      "Data columns (total 4 columns):\n",
      " #   Column    Non-Null Count  Dtype         \n",
      "---  ------    --------------  -----         \n",
      " 0   user_id   18068 non-null  int64         \n",
      " 1   distance  18068 non-null  float64       \n",
      " 2   duration  18068 non-null  float64       \n",
      " 3   date      18068 non-null  datetime64[ns]\n",
      "dtypes: datetime64[ns](1), float64(2), int64(1)\n",
      "memory usage: 564.8 KB\n"
     ]
    }
   ],
   "source": [
    "#изменим тип столбца date с типа object на тип datetime\n",
    "rides['date'] = pd.to_datetime(rides['date'], format='%Y-%m-%d')\n",
    "rides.info()"
   ]
  },
  {
   "cell_type": "code",
   "execution_count": 14,
   "id": "e0c3e3a6",
   "metadata": {},
   "outputs": [
    {
     "name": "stdout",
     "output_type": "stream",
     "text": [
      "<class 'pandas.core.frame.DataFrame'>\n",
      "RangeIndex: 18068 entries, 0 to 18067\n",
      "Data columns (total 4 columns):\n",
      " #   Column    Non-Null Count  Dtype         \n",
      "---  ------    --------------  -----         \n",
      " 0   user_id   18068 non-null  int64         \n",
      " 1   distance  18068 non-null  float64       \n",
      " 2   duration  18068 non-null  float64       \n",
      " 3   date      18068 non-null  datetime64[ns]\n",
      "dtypes: datetime64[ns](1), float64(2), int64(1)\n",
      "memory usage: 564.8 KB\n"
     ]
    }
   ],
   "source": [
    "#изменим тип столбца date с типа object на тип datetime\n",
    "rides['date'] = pd.to_datetime(rides['date'], format='%Y-%m-%d')\n",
    "rides.info()"
   ]
  },
  {
   "cell_type": "code",
   "execution_count": 15,
   "id": "2d437d9a",
   "metadata": {},
   "outputs": [
    {
     "data": {
      "text/plain": [
       "array([2021], dtype=int64)"
      ]
     },
     "execution_count": 15,
     "metadata": {},
     "output_type": "execute_result"
    }
   ],
   "source": [
    "#проверим уникальные значения года в данных \n",
    "rides['date'].dt.year.unique()"
   ]
  },
  {
   "cell_type": "code",
   "execution_count": 16,
   "id": "3e694781",
   "metadata": {},
   "outputs": [
    {
     "data": {
      "text/plain": [
       "array([ 1,  4,  8, 10, 11, 12,  3,  6,  7,  2,  5,  9], dtype=int64)"
      ]
     },
     "execution_count": 16,
     "metadata": {},
     "output_type": "execute_result"
    }
   ],
   "source": [
    "#создаем столбец с номером месяца в таблице rides\n",
    "rides['month'] = rides['date'].dt.month\n",
    "rides['month'].unique()"
   ]
  },
  {
   "cell_type": "code",
   "execution_count": 17,
   "id": "92fa61b5",
   "metadata": {},
   "outputs": [
    {
     "data": {
      "text/plain": [
       "31"
      ]
     },
     "execution_count": 17,
     "metadata": {},
     "output_type": "execute_result"
    }
   ],
   "source": [
    "#проверим данные на явные дубликаты\n",
    "users.duplicated().sum()"
   ]
  },
  {
   "cell_type": "code",
   "execution_count": 18,
   "id": "e3b4982e",
   "metadata": {},
   "outputs": [
    {
     "data": {
      "text/plain": [
       "0"
      ]
     },
     "execution_count": 18,
     "metadata": {},
     "output_type": "execute_result"
    }
   ],
   "source": [
    "#удалим явные дуликаты в данных пользователей\n",
    "users = users.drop_duplicates().reset_index(drop=True)\n",
    "#проверим количество дубликатов\n",
    "users.duplicated().sum()"
   ]
  },
  {
   "cell_type": "code",
   "execution_count": 19,
   "id": "a7b1ecd0",
   "metadata": {},
   "outputs": [
    {
     "data": {
      "text/html": [
       "<div>\n",
       "<style scoped>\n",
       "    .dataframe tbody tr th:only-of-type {\n",
       "        vertical-align: middle;\n",
       "    }\n",
       "\n",
       "    .dataframe tbody tr th {\n",
       "        vertical-align: top;\n",
       "    }\n",
       "\n",
       "    .dataframe thead th {\n",
       "        text-align: right;\n",
       "    }\n",
       "</style>\n",
       "<table border=\"1\" class=\"dataframe\">\n",
       "  <thead>\n",
       "    <tr style=\"text-align: right;\">\n",
       "      <th></th>\n",
       "      <th>user_id</th>\n",
       "      <th>name</th>\n",
       "      <th>age</th>\n",
       "      <th>city</th>\n",
       "      <th>subscription_type</th>\n",
       "    </tr>\n",
       "  </thead>\n",
       "  <tbody>\n",
       "  </tbody>\n",
       "</table>\n",
       "</div>"
      ],
      "text/plain": [
       "Empty DataFrame\n",
       "Columns: [user_id, name, age, city, subscription_type]\n",
       "Index: []"
      ]
     },
     "execution_count": 19,
     "metadata": {},
     "output_type": "execute_result"
    }
   ],
   "source": [
    "users.loc[(users[['user_id', 'name', 'age']].duplicated())]  "
   ]
  },
  {
   "cell_type": "code",
   "execution_count": 20,
   "id": "e0900191",
   "metadata": {},
   "outputs": [
    {
     "data": {
      "text/plain": [
       "array(['Тюмень', 'Омск', 'Москва', 'Ростов-на-Дону', 'Краснодар',\n",
       "       'Пятигорск', 'Екатеринбург', 'Сочи'], dtype=object)"
      ]
     },
     "execution_count": 20,
     "metadata": {},
     "output_type": "execute_result"
    }
   ],
   "source": [
    "#уникальные значения столбца с данными о городах\n",
    "users['city'].unique()"
   ]
  },
  {
   "cell_type": "code",
   "execution_count": 21,
   "id": "7b3b84e9",
   "metadata": {},
   "outputs": [
    {
     "data": {
      "text/plain": [
       "0"
      ]
     },
     "execution_count": 21,
     "metadata": {},
     "output_type": "execute_result"
    }
   ],
   "source": [
    "#проверим дубликаты в датасете rides\n",
    "rides.duplicated().sum()"
   ]
  },
  {
   "cell_type": "code",
   "execution_count": 22,
   "id": "f5af6525",
   "metadata": {},
   "outputs": [],
   "source": [
    "#округлим расстояние до 2-х знаков после запятой\n",
    "rides['distance'] = rides['distance'].round(2)\n",
    "#округлим продолжительность сессии до целых минут вверх и приведем к целочисленному типу\n",
    "rides['duration'] = np.ceil(rides['duration']).astype('int')"
   ]
  },
  {
   "cell_type": "code",
   "execution_count": 23,
   "id": "c96d9a31",
   "metadata": {},
   "outputs": [
    {
     "data": {
      "text/plain": [
       "0"
      ]
     },
     "execution_count": 23,
     "metadata": {},
     "output_type": "execute_result"
    }
   ],
   "source": [
    "#проверим дубликаты в датасете subscriptions\n",
    "subscriptions.duplicated().sum()"
   ]
  },
  {
   "cell_type": "markdown",
   "id": "a75eaa34",
   "metadata": {},
   "source": [
    "Вывод по второму пункту: в датасете `users` удалили 31 дубликат, неявных дубликатов не имеется. В датасете `rides` явные дубликаты не были выявлены, изменили тип данных в столбце `date`, добавили столбец с номером месяца, округлили расстояние до двух знаком после запятой и округлили продолжительность сессии до целых минут вверх. В датасете `subscriptions` ничего не меняли."
   ]
  },
  {
   "cell_type": "markdown",
   "id": "212593c7",
   "metadata": {},
   "source": [
    "#### Шаг 3. Исследовательский анализ данных"
   ]
  },
  {
   "cell_type": "markdown",
   "id": "999dbcbb",
   "metadata": {},
   "source": [
    "#####  Частота встречаемости городов."
   ]
  },
  {
   "cell_type": "code",
   "execution_count": 24,
   "id": "fef5fd33",
   "metadata": {},
   "outputs": [
    {
     "data": {
      "image/png": "[encoded data removed]",
      "text/plain": [
       "<Figure size 1000x500 with 1 Axes>"
      ]
     },
     "metadata": {},
     "output_type": "display_data"
    }
   ],
   "source": [
    "(users\n",
    " .pivot_table(index='city', values='user_id', aggfunc='count').sort_values(by='user_id', ascending=False)\n",
    " .plot(kind='bar', grid=True, figsize=(10, 5))\n",
    ")\n",
    "plt.title('Количество пользователей по городам')\n",
    "plt.ylabel('Город')\n",
    "plt.xlabel('Количество пользователей')\n",
    "plt.xticks(rotation=45)\n",
    "\n",
    "plt.show()"
   ]
  },
  {
   "cell_type": "code",
   "execution_count": 25,
   "id": "e3f8973a",
   "metadata": {},
   "outputs": [
    {
     "data": {
      "text/html": [
       "<div>\n",
       "<style scoped>\n",
       "    .dataframe tbody tr th:only-of-type {\n",
       "        vertical-align: middle;\n",
       "    }\n",
       "\n",
       "    .dataframe tbody tr th {\n",
       "        vertical-align: top;\n",
       "    }\n",
       "\n",
       "    .dataframe thead th {\n",
       "        text-align: right;\n",
       "    }\n",
       "</style>\n",
       "<table border=\"1\" class=\"dataframe\">\n",
       "  <thead>\n",
       "    <tr style=\"text-align: right;\">\n",
       "      <th></th>\n",
       "      <th>user_id</th>\n",
       "    </tr>\n",
       "    <tr>\n",
       "      <th>city</th>\n",
       "      <th></th>\n",
       "    </tr>\n",
       "  </thead>\n",
       "  <tbody>\n",
       "    <tr>\n",
       "      <th>Пятигорск</th>\n",
       "      <td>219</td>\n",
       "    </tr>\n",
       "    <tr>\n",
       "      <th>Екатеринбург</th>\n",
       "      <td>204</td>\n",
       "    </tr>\n",
       "    <tr>\n",
       "      <th>Ростов-на-Дону</th>\n",
       "      <td>198</td>\n",
       "    </tr>\n",
       "    <tr>\n",
       "      <th>Краснодар</th>\n",
       "      <td>193</td>\n",
       "    </tr>\n",
       "    <tr>\n",
       "      <th>Сочи</th>\n",
       "      <td>189</td>\n",
       "    </tr>\n",
       "    <tr>\n",
       "      <th>Омск</th>\n",
       "      <td>183</td>\n",
       "    </tr>\n",
       "    <tr>\n",
       "      <th>Тюмень</th>\n",
       "      <td>180</td>\n",
       "    </tr>\n",
       "    <tr>\n",
       "      <th>Москва</th>\n",
       "      <td>168</td>\n",
       "    </tr>\n",
       "  </tbody>\n",
       "</table>\n",
       "</div>"
      ],
      "text/plain": [
       "                user_id\n",
       "city                   \n",
       "Пятигорск           219\n",
       "Екатеринбург        204\n",
       "Ростов-на-Дону      198\n",
       "Краснодар           193\n",
       "Сочи                189\n",
       "Омск                183\n",
       "Тюмень              180\n",
       "Москва              168"
      ]
     },
     "execution_count": 25,
     "metadata": {},
     "output_type": "execute_result"
    }
   ],
   "source": [
    "users.pivot_table(index='city', values='user_id', aggfunc='count').sort_values(by='user_id', ascending=False)"
   ]
  },
  {
   "cell_type": "markdown",
   "id": "0899c05d",
   "metadata": {},
   "source": [
    "Вывод: наибольшее количество пользователей в Пятигорске, наименьшее - в Москве. По графику видно, что в первую пятерку входят в основном южные города, это объясняется тем, что сезон проката в этих городах дольше, чем северных, исключением является Екатеринбург, который находиться на второй позиции."
   ]
  },
  {
   "cell_type": "markdown",
   "id": "61c7f608",
   "metadata": {},
   "source": [
    "##### Соотношение пользователей с подпиской и без подписки"
   ]
  },
  {
   "cell_type": "code",
   "execution_count": 26,
   "id": "18b2355a",
   "metadata": {},
   "outputs": [
    {
     "data": {
      "image/png": "[encoded data removed]",
      "text/plain": [
       "<Figure size 500x500 with 1 Axes>"
      ]
     },
     "metadata": {},
     "output_type": "display_data"
    }
   ],
   "source": [
    "(users\n",
    " .pivot_table(index='subscription_type', values='user_id', aggfunc='count')\n",
    " .plot(kind='pie', y='user_id', figsize=(5, 5), autopct='%1.1f%%')\n",
    ")\n",
    "plt.title('Соотношение пользователей с подпиской и без подписки')\n",
    "\n",
    "\n",
    "plt.show()"
   ]
  },
  {
   "cell_type": "markdown",
   "id": "5768bd80",
   "metadata": {},
   "source": [
    "Вывод: количество пользователей без подписки 54.4%, с подпиской - 45.6%."
   ]
  },
  {
   "cell_type": "markdown",
   "id": "19dabb1f",
   "metadata": {},
   "source": [
    "##### Возраст пользователей"
   ]
  },
  {
   "cell_type": "code",
   "execution_count": 27,
   "id": "60e83521",
   "metadata": {},
   "outputs": [
    {
     "data": {
      "image/png": "[encoded data removed]",
      "text/plain": [
       "<Figure size 1000x500 with 1 Axes>"
      ]
     },
     "metadata": {},
     "output_type": "display_data"
    }
   ],
   "source": [
    "(users\n",
    " .pivot_table(index='age', values='user_id', aggfunc='count')\n",
    " .plot(kind='bar', grid=True, figsize=(10, 5))\n",
    ")\n",
    "plt.title('Количество пользователей по возрастам')\n",
    "plt.ylabel('Возраст')\n",
    "plt.xlabel('Количество пользователей')\n",
    "\n",
    "plt.show()"
   ]
  },
  {
   "cell_type": "code",
   "execution_count": 28,
   "id": "3b6b8886",
   "metadata": {},
   "outputs": [
    {
     "name": "stdout",
     "output_type": "stream",
     "text": [
      "24.903520208604956\n"
     ]
    },
    {
     "data": {
      "text/plain": [
       "count    1534.000000\n",
       "mean       24.903520\n",
       "std         4.572367\n",
       "min        12.000000\n",
       "25%        22.000000\n",
       "50%        25.000000\n",
       "75%        28.000000\n",
       "max        43.000000\n",
       "Name: age, dtype: float64"
      ]
     },
     "execution_count": 28,
     "metadata": {},
     "output_type": "execute_result"
    }
   ],
   "source": [
    "print(users['age'].mean())\n",
    "users['age'].describe()"
   ]
  },
  {
   "cell_type": "markdown",
   "id": "159d19aa",
   "metadata": {},
   "source": [
    "Вывод: по графику видно, что возраст пользователей подчиняется нормальному распределению с медианой 25 лет, средний возраст и медиана практически совпадают."
   ]
  },
  {
   "cell_type": "markdown",
   "id": "4f61dee3",
   "metadata": {},
   "source": [
    "##### Расстояние, которое пользователь преодолел за одну поездку"
   ]
  },
  {
   "cell_type": "code",
   "execution_count": 29,
   "id": "80561e52",
   "metadata": {},
   "outputs": [
    {
     "data": {
      "text/plain": [
       "count    18068.000000\n",
       "mean      3070.659992\n",
       "std       1116.831222\n",
       "min          0.860000\n",
       "25%       2543.227500\n",
       "50%       3133.610000\n",
       "75%       3776.220000\n",
       "max       7211.010000\n",
       "Name: distance, dtype: float64"
      ]
     },
     "execution_count": 29,
     "metadata": {},
     "output_type": "execute_result"
    }
   ],
   "source": [
    "rides['distance'].describe()"
   ]
  },
  {
   "cell_type": "code",
   "execution_count": 30,
   "id": "d9f6431a",
   "metadata": {},
   "outputs": [
    {
     "data": {
      "image/png": "[encoded data removed]",
      "text/plain": [
       "<Figure size 1200x700 with 1 Axes>"
      ]
     },
     "metadata": {},
     "output_type": "display_data"
    }
   ],
   "source": [
    "rides['distance'].hist(bins=400, range=(1, 6000), figsize=(12, 7))\n",
    "plt.title('Количество поездок в зависимости от расстояния поездки')\n",
    "plt.ylabel('Расстояние, метр')\n",
    "plt.xlabel('Количество поездок')\n",
    "\n",
    "plt.show()"
   ]
  },
  {
   "cell_type": "markdown",
   "id": "92c8d50b",
   "metadata": {},
   "source": [
    "Вывод: по графику видно, что на гистограмме имеется два пика: 700  и 3100, в промежутке с 1500 до 50000 нормальное распределение зависимости."
   ]
  },
  {
   "cell_type": "markdown",
   "id": "70dd3c8f",
   "metadata": {},
   "source": [
    "##### Продолжительность поездок"
   ]
  },
  {
   "cell_type": "code",
   "execution_count": 31,
   "id": "b9f02133",
   "metadata": {},
   "outputs": [
    {
     "data": {
      "text/plain": [
       "count    18068.000000\n",
       "mean        18.303520\n",
       "std          6.094928\n",
       "min          1.000000\n",
       "25%         14.000000\n",
       "50%         18.000000\n",
       "75%         22.000000\n",
       "max         41.000000\n",
       "Name: duration, dtype: float64"
      ]
     },
     "execution_count": 31,
     "metadata": {},
     "output_type": "execute_result"
    }
   ],
   "source": [
    "rides['duration'].describe()"
   ]
  },
  {
   "cell_type": "code",
   "execution_count": 32,
   "id": "5656b980",
   "metadata": {},
   "outputs": [
    {
     "data": {
      "image/png": "[encoded data removed]",
      "text/plain": [
       "<Figure size 640x480 with 2 Axes>"
      ]
     },
     "metadata": {},
     "output_type": "display_data"
    }
   ],
   "source": [
    "#rides['duration'].hist(bins=41, range=(1, 41))\n",
    "#plt.title('Количество поездок в зависимости от продолжительности')\n",
    "#plt.ylabel('Продолжительность поездки')\n",
    "#plt.xlabel('Количество поездок')\n",
    "\n",
    "#plt.show()\n",
    "\n",
    "\n",
    "# Создаем фигуру с двумя осями, расположенными вертикально\n",
    "fig, (ax_box, ax_hist) = plt.subplots(2, sharex=True, gridspec_kw={\"height_ratios\": (.15, .85)})\n",
    "\n",
    "# Строим боксплот вверху\n",
    "sns.boxplot(x=rides['duration'], ax=ax_box)\n",
    "\n",
    "# Строим гистограмму внизу\n",
    "ax_hist.hist(rides['duration'], bins=50)\n",
    "plt.xlabel('Продолжительность поездки')\n",
    "plt.ylabel('Количество поездок')\n",
    "\n",
    "# Убираем подпись оси X для боксплота\n",
    "ax_box.set(xlabel='')\n",
    "\n",
    "plt.tight_layout()\n",
    "plt.show()"
   ]
  },
  {
   "cell_type": "markdown",
   "id": "3704c0b6",
   "metadata": {},
   "source": [
    "Вывод: по графику видно, что зависимость продолжительности поездок подчиняется нормальному распределению, медианное значение - 18 минут."
   ]
  },
  {
   "cell_type": "markdown",
   "id": "8c42e8b7",
   "metadata": {},
   "source": [
    "Вывод по третьему пункту: \n",
    "- Наибольшее количество пользователей в Пятигорске, наименьшее - в Москве. В первую пятерку входят в основном южные города, это объясняется тем, что сезон проката в этих городах дольше, чем северных, исключением является Екатеринбург, который находиться на второй позиции.\n",
    "- Количество пользователей без подписки 54.4%, с подпиской - 45.6%.\n",
    "- Возраст пользователей подчиняется нормальному распределению с медианой 25 лет, средний возраст и медиана практически совпадают.\n",
    "- Количество поездок в зависимости от расстояния показывает, что медиана поездок находится на 3133 метров первый квартиль находится на значении 2543 метра, третий квартиль на 3776 метров. В промежутке с 1500 до 50000 наблюдается нормальное распределение зависимости, но имеется второй пик на 700 метров, и хотя он не попадает в основное распределение, просто откидывать его нельзя.\n",
    "- Зависимость продолжительности поездок подчиняется нормальному распределению, медианное значение - 18 минут, основные значения времени поезди лежат в интервале от 14 до 22 минут."
   ]
  },
  {
   "cell_type": "markdown",
   "id": "4ef51331",
   "metadata": {},
   "source": [
    "#### Шаг 4. Объединение данных"
   ]
  },
  {
   "cell_type": "code",
   "execution_count": 33,
   "id": "6bf288b5",
   "metadata": {},
   "outputs": [],
   "source": [
    "#объединим три датасета в один\n",
    "data = (users.merge(subscriptions, on='subscription_type')).merge(rides, on='user_id')"
   ]
  },
  {
   "cell_type": "code",
   "execution_count": 34,
   "id": "f72e1fbd",
   "metadata": {},
   "outputs": [
    {
     "data": {
      "text/html": [
       "<div>\n",
       "<style scoped>\n",
       "    .dataframe tbody tr th:only-of-type {\n",
       "        vertical-align: middle;\n",
       "    }\n",
       "\n",
       "    .dataframe tbody tr th {\n",
       "        vertical-align: top;\n",
       "    }\n",
       "\n",
       "    .dataframe thead th {\n",
       "        text-align: right;\n",
       "    }\n",
       "</style>\n",
       "<table border=\"1\" class=\"dataframe\">\n",
       "  <thead>\n",
       "    <tr style=\"text-align: right;\">\n",
       "      <th></th>\n",
       "      <th>user_id</th>\n",
       "      <th>name</th>\n",
       "      <th>age</th>\n",
       "      <th>city</th>\n",
       "      <th>subscription_type</th>\n",
       "      <th>minute_price</th>\n",
       "      <th>start_ride_price</th>\n",
       "      <th>subscription_fee</th>\n",
       "      <th>distance</th>\n",
       "      <th>duration</th>\n",
       "      <th>date</th>\n",
       "      <th>month</th>\n",
       "    </tr>\n",
       "  </thead>\n",
       "  <tbody>\n",
       "    <tr>\n",
       "      <th>0</th>\n",
       "      <td>1</td>\n",
       "      <td>Кира</td>\n",
       "      <td>22</td>\n",
       "      <td>Тюмень</td>\n",
       "      <td>ultra</td>\n",
       "      <td>6</td>\n",
       "      <td>0</td>\n",
       "      <td>199</td>\n",
       "      <td>4409.92</td>\n",
       "      <td>26</td>\n",
       "      <td>2021-01-01</td>\n",
       "      <td>1</td>\n",
       "    </tr>\n",
       "    <tr>\n",
       "      <th>1</th>\n",
       "      <td>1</td>\n",
       "      <td>Кира</td>\n",
       "      <td>22</td>\n",
       "      <td>Тюмень</td>\n",
       "      <td>ultra</td>\n",
       "      <td>6</td>\n",
       "      <td>0</td>\n",
       "      <td>199</td>\n",
       "      <td>2617.59</td>\n",
       "      <td>16</td>\n",
       "      <td>2021-01-18</td>\n",
       "      <td>1</td>\n",
       "    </tr>\n",
       "    <tr>\n",
       "      <th>2</th>\n",
       "      <td>1</td>\n",
       "      <td>Кира</td>\n",
       "      <td>22</td>\n",
       "      <td>Тюмень</td>\n",
       "      <td>ultra</td>\n",
       "      <td>6</td>\n",
       "      <td>0</td>\n",
       "      <td>199</td>\n",
       "      <td>754.16</td>\n",
       "      <td>7</td>\n",
       "      <td>2021-04-20</td>\n",
       "      <td>4</td>\n",
       "    </tr>\n",
       "    <tr>\n",
       "      <th>3</th>\n",
       "      <td>1</td>\n",
       "      <td>Кира</td>\n",
       "      <td>22</td>\n",
       "      <td>Тюмень</td>\n",
       "      <td>ultra</td>\n",
       "      <td>6</td>\n",
       "      <td>0</td>\n",
       "      <td>199</td>\n",
       "      <td>2694.78</td>\n",
       "      <td>19</td>\n",
       "      <td>2021-08-11</td>\n",
       "      <td>8</td>\n",
       "    </tr>\n",
       "    <tr>\n",
       "      <th>4</th>\n",
       "      <td>1</td>\n",
       "      <td>Кира</td>\n",
       "      <td>22</td>\n",
       "      <td>Тюмень</td>\n",
       "      <td>ultra</td>\n",
       "      <td>6</td>\n",
       "      <td>0</td>\n",
       "      <td>199</td>\n",
       "      <td>4028.69</td>\n",
       "      <td>27</td>\n",
       "      <td>2021-08-28</td>\n",
       "      <td>8</td>\n",
       "    </tr>\n",
       "  </tbody>\n",
       "</table>\n",
       "</div>"
      ],
      "text/plain": [
       "   user_id  name  age    city subscription_type  minute_price  \\\n",
       "0        1  Кира   22  Тюмень             ultra             6   \n",
       "1        1  Кира   22  Тюмень             ultra             6   \n",
       "2        1  Кира   22  Тюмень             ultra             6   \n",
       "3        1  Кира   22  Тюмень             ultra             6   \n",
       "4        1  Кира   22  Тюмень             ultra             6   \n",
       "\n",
       "   start_ride_price  subscription_fee  distance  duration       date  month  \n",
       "0                 0               199   4409.92        26 2021-01-01      1  \n",
       "1                 0               199   2617.59        16 2021-01-18      1  \n",
       "2                 0               199    754.16         7 2021-04-20      4  \n",
       "3                 0               199   2694.78        19 2021-08-11      8  \n",
       "4                 0               199   4028.69        27 2021-08-28      8  "
      ]
     },
     "execution_count": 34,
     "metadata": {},
     "output_type": "execute_result"
    }
   ],
   "source": [
    "#выведем первые пять строк\n",
    "data.head()"
   ]
  },
  {
   "cell_type": "code",
   "execution_count": 35,
   "id": "7746a329",
   "metadata": {},
   "outputs": [
    {
     "name": "stdout",
     "output_type": "stream",
     "text": [
      "<class 'pandas.core.frame.DataFrame'>\n",
      "Int64Index: 18068 entries, 0 to 18067\n",
      "Data columns (total 12 columns):\n",
      " #   Column             Non-Null Count  Dtype         \n",
      "---  ------             --------------  -----         \n",
      " 0   user_id            18068 non-null  int64         \n",
      " 1   name               18068 non-null  object        \n",
      " 2   age                18068 non-null  int64         \n",
      " 3   city               18068 non-null  object        \n",
      " 4   subscription_type  18068 non-null  object        \n",
      " 5   minute_price       18068 non-null  int64         \n",
      " 6   start_ride_price   18068 non-null  int64         \n",
      " 7   subscription_fee   18068 non-null  int64         \n",
      " 8   distance           18068 non-null  float64       \n",
      " 9   duration           18068 non-null  int32         \n",
      " 10  date               18068 non-null  datetime64[ns]\n",
      " 11  month              18068 non-null  int64         \n",
      "dtypes: datetime64[ns](1), float64(1), int32(1), int64(6), object(3)\n",
      "memory usage: 1.7+ MB\n"
     ]
    }
   ],
   "source": [
    "#выведем информацию о датасете\n",
    "data.info()"
   ]
  },
  {
   "cell_type": "markdown",
   "id": "f8587c7c",
   "metadata": {},
   "source": [
    "Вывод: датасет содержит 18068 строк, что соответствует датасету `rides`, пропуски отсутствуют."
   ]
  },
  {
   "cell_type": "code",
   "execution_count": 36,
   "id": "4b2d12ef",
   "metadata": {},
   "outputs": [
    {
     "data": {
      "text/html": [
       "<div>\n",
       "<style scoped>\n",
       "    .dataframe tbody tr th:only-of-type {\n",
       "        vertical-align: middle;\n",
       "    }\n",
       "\n",
       "    .dataframe tbody tr th {\n",
       "        vertical-align: top;\n",
       "    }\n",
       "\n",
       "    .dataframe thead th {\n",
       "        text-align: right;\n",
       "    }\n",
       "</style>\n",
       "<table border=\"1\" class=\"dataframe\">\n",
       "  <thead>\n",
       "    <tr style=\"text-align: right;\">\n",
       "      <th></th>\n",
       "      <th>user_id</th>\n",
       "      <th>name</th>\n",
       "      <th>age</th>\n",
       "      <th>city</th>\n",
       "      <th>subscription_type</th>\n",
       "      <th>minute_price</th>\n",
       "      <th>start_ride_price</th>\n",
       "      <th>subscription_fee</th>\n",
       "      <th>distance</th>\n",
       "      <th>duration</th>\n",
       "      <th>date</th>\n",
       "      <th>month</th>\n",
       "    </tr>\n",
       "  </thead>\n",
       "  <tbody>\n",
       "    <tr>\n",
       "      <th>6500</th>\n",
       "      <td>700</td>\n",
       "      <td>Айдар</td>\n",
       "      <td>22</td>\n",
       "      <td>Омск</td>\n",
       "      <td>free</td>\n",
       "      <td>8</td>\n",
       "      <td>50</td>\n",
       "      <td>0</td>\n",
       "      <td>2515.69</td>\n",
       "      <td>15</td>\n",
       "      <td>2021-01-02</td>\n",
       "      <td>1</td>\n",
       "    </tr>\n",
       "    <tr>\n",
       "      <th>6501</th>\n",
       "      <td>700</td>\n",
       "      <td>Айдар</td>\n",
       "      <td>22</td>\n",
       "      <td>Омск</td>\n",
       "      <td>free</td>\n",
       "      <td>8</td>\n",
       "      <td>50</td>\n",
       "      <td>0</td>\n",
       "      <td>846.93</td>\n",
       "      <td>17</td>\n",
       "      <td>2021-02-01</td>\n",
       "      <td>2</td>\n",
       "    </tr>\n",
       "    <tr>\n",
       "      <th>6502</th>\n",
       "      <td>700</td>\n",
       "      <td>Айдар</td>\n",
       "      <td>22</td>\n",
       "      <td>Омск</td>\n",
       "      <td>free</td>\n",
       "      <td>8</td>\n",
       "      <td>50</td>\n",
       "      <td>0</td>\n",
       "      <td>4004.43</td>\n",
       "      <td>21</td>\n",
       "      <td>2021-02-04</td>\n",
       "      <td>2</td>\n",
       "    </tr>\n",
       "    <tr>\n",
       "      <th>6503</th>\n",
       "      <td>700</td>\n",
       "      <td>Айдар</td>\n",
       "      <td>22</td>\n",
       "      <td>Омск</td>\n",
       "      <td>free</td>\n",
       "      <td>8</td>\n",
       "      <td>50</td>\n",
       "      <td>0</td>\n",
       "      <td>1205.91</td>\n",
       "      <td>10</td>\n",
       "      <td>2021-02-10</td>\n",
       "      <td>2</td>\n",
       "    </tr>\n",
       "    <tr>\n",
       "      <th>6504</th>\n",
       "      <td>700</td>\n",
       "      <td>Айдар</td>\n",
       "      <td>22</td>\n",
       "      <td>Омск</td>\n",
       "      <td>free</td>\n",
       "      <td>8</td>\n",
       "      <td>50</td>\n",
       "      <td>0</td>\n",
       "      <td>3047.38</td>\n",
       "      <td>18</td>\n",
       "      <td>2021-02-14</td>\n",
       "      <td>2</td>\n",
       "    </tr>\n",
       "  </tbody>\n",
       "</table>\n",
       "</div>"
      ],
      "text/plain": [
       "      user_id   name  age  city subscription_type  minute_price  \\\n",
       "6500      700  Айдар   22  Омск              free             8   \n",
       "6501      700  Айдар   22  Омск              free             8   \n",
       "6502      700  Айдар   22  Омск              free             8   \n",
       "6503      700  Айдар   22  Омск              free             8   \n",
       "6504      700  Айдар   22  Омск              free             8   \n",
       "\n",
       "      start_ride_price  subscription_fee  distance  duration       date  month  \n",
       "6500                50                 0   2515.69        15 2021-01-02      1  \n",
       "6501                50                 0    846.93        17 2021-02-01      2  \n",
       "6502                50                 0   4004.43        21 2021-02-04      2  \n",
       "6503                50                 0   1205.91        10 2021-02-10      2  \n",
       "6504                50                 0   3047.38        18 2021-02-14      2  "
      ]
     },
     "execution_count": 36,
     "metadata": {},
     "output_type": "execute_result"
    }
   ],
   "source": [
    "#создадим датасет с иинформацией о пользователях без подписки\n",
    "data_free = data[data['subscription_type'] == 'free']\n",
    "data_free.head()"
   ]
  },
  {
   "cell_type": "code",
   "execution_count": 37,
   "id": "71e8bc17",
   "metadata": {},
   "outputs": [
    {
     "data": {
      "text/plain": [
       "count    11568.000000\n",
       "mean      3045.495284\n",
       "std       1246.173810\n",
       "min          0.860000\n",
       "25%       2366.560000\n",
       "50%       3114.650000\n",
       "75%       3905.695000\n",
       "max       7211.010000\n",
       "Name: distance, dtype: float64"
      ]
     },
     "execution_count": 37,
     "metadata": {},
     "output_type": "execute_result"
    }
   ],
   "source": [
    "data_free['distance'].describe()"
   ]
  },
  {
   "cell_type": "code",
   "execution_count": 38,
   "id": "1a6dda47",
   "metadata": {},
   "outputs": [
    {
     "data": {
      "text/plain": [
       "count    11568.000000\n",
       "mean        17.890992\n",
       "std          6.330250\n",
       "min          1.000000\n",
       "25%         13.000000\n",
       "50%         18.000000\n",
       "75%         22.000000\n",
       "max         35.000000\n",
       "Name: duration, dtype: float64"
      ]
     },
     "execution_count": 38,
     "metadata": {},
     "output_type": "execute_result"
    }
   ],
   "source": [
    "data_free['duration'].describe()"
   ]
  },
  {
   "cell_type": "code",
   "execution_count": 39,
   "id": "17e58995",
   "metadata": {},
   "outputs": [
    {
     "data": {
      "text/html": [
       "<div>\n",
       "<style scoped>\n",
       "    .dataframe tbody tr th:only-of-type {\n",
       "        vertical-align: middle;\n",
       "    }\n",
       "\n",
       "    .dataframe tbody tr th {\n",
       "        vertical-align: top;\n",
       "    }\n",
       "\n",
       "    .dataframe thead th {\n",
       "        text-align: right;\n",
       "    }\n",
       "</style>\n",
       "<table border=\"1\" class=\"dataframe\">\n",
       "  <thead>\n",
       "    <tr style=\"text-align: right;\">\n",
       "      <th></th>\n",
       "      <th>user_id</th>\n",
       "      <th>name</th>\n",
       "      <th>age</th>\n",
       "      <th>city</th>\n",
       "      <th>subscription_type</th>\n",
       "      <th>minute_price</th>\n",
       "      <th>start_ride_price</th>\n",
       "      <th>subscription_fee</th>\n",
       "      <th>distance</th>\n",
       "      <th>duration</th>\n",
       "      <th>date</th>\n",
       "      <th>month</th>\n",
       "    </tr>\n",
       "  </thead>\n",
       "  <tbody>\n",
       "    <tr>\n",
       "      <th>0</th>\n",
       "      <td>1</td>\n",
       "      <td>Кира</td>\n",
       "      <td>22</td>\n",
       "      <td>Тюмень</td>\n",
       "      <td>ultra</td>\n",
       "      <td>6</td>\n",
       "      <td>0</td>\n",
       "      <td>199</td>\n",
       "      <td>4409.92</td>\n",
       "      <td>26</td>\n",
       "      <td>2021-01-01</td>\n",
       "      <td>1</td>\n",
       "    </tr>\n",
       "    <tr>\n",
       "      <th>1</th>\n",
       "      <td>1</td>\n",
       "      <td>Кира</td>\n",
       "      <td>22</td>\n",
       "      <td>Тюмень</td>\n",
       "      <td>ultra</td>\n",
       "      <td>6</td>\n",
       "      <td>0</td>\n",
       "      <td>199</td>\n",
       "      <td>2617.59</td>\n",
       "      <td>16</td>\n",
       "      <td>2021-01-18</td>\n",
       "      <td>1</td>\n",
       "    </tr>\n",
       "    <tr>\n",
       "      <th>2</th>\n",
       "      <td>1</td>\n",
       "      <td>Кира</td>\n",
       "      <td>22</td>\n",
       "      <td>Тюмень</td>\n",
       "      <td>ultra</td>\n",
       "      <td>6</td>\n",
       "      <td>0</td>\n",
       "      <td>199</td>\n",
       "      <td>754.16</td>\n",
       "      <td>7</td>\n",
       "      <td>2021-04-20</td>\n",
       "      <td>4</td>\n",
       "    </tr>\n",
       "    <tr>\n",
       "      <th>3</th>\n",
       "      <td>1</td>\n",
       "      <td>Кира</td>\n",
       "      <td>22</td>\n",
       "      <td>Тюмень</td>\n",
       "      <td>ultra</td>\n",
       "      <td>6</td>\n",
       "      <td>0</td>\n",
       "      <td>199</td>\n",
       "      <td>2694.78</td>\n",
       "      <td>19</td>\n",
       "      <td>2021-08-11</td>\n",
       "      <td>8</td>\n",
       "    </tr>\n",
       "    <tr>\n",
       "      <th>4</th>\n",
       "      <td>1</td>\n",
       "      <td>Кира</td>\n",
       "      <td>22</td>\n",
       "      <td>Тюмень</td>\n",
       "      <td>ultra</td>\n",
       "      <td>6</td>\n",
       "      <td>0</td>\n",
       "      <td>199</td>\n",
       "      <td>4028.69</td>\n",
       "      <td>27</td>\n",
       "      <td>2021-08-28</td>\n",
       "      <td>8</td>\n",
       "    </tr>\n",
       "  </tbody>\n",
       "</table>\n",
       "</div>"
      ],
      "text/plain": [
       "   user_id  name  age    city subscription_type  minute_price  \\\n",
       "0        1  Кира   22  Тюмень             ultra             6   \n",
       "1        1  Кира   22  Тюмень             ultra             6   \n",
       "2        1  Кира   22  Тюмень             ultra             6   \n",
       "3        1  Кира   22  Тюмень             ultra             6   \n",
       "4        1  Кира   22  Тюмень             ultra             6   \n",
       "\n",
       "   start_ride_price  subscription_fee  distance  duration       date  month  \n",
       "0                 0               199   4409.92        26 2021-01-01      1  \n",
       "1                 0               199   2617.59        16 2021-01-18      1  \n",
       "2                 0               199    754.16         7 2021-04-20      4  \n",
       "3                 0               199   2694.78        19 2021-08-11      8  \n",
       "4                 0               199   4028.69        27 2021-08-28      8  "
      ]
     },
     "execution_count": 39,
     "metadata": {},
     "output_type": "execute_result"
    }
   ],
   "source": [
    "#создадим датасет и иинформацией о пользователях с подпиской\n",
    "data_ultra = data[data['subscription_type'] == 'ultra']\n",
    "data_ultra.head()"
   ]
  },
  {
   "cell_type": "code",
   "execution_count": 40,
   "id": "e0a17fdf",
   "metadata": {},
   "outputs": [
    {
     "data": {
      "text/plain": [
       "count    6500.000000\n",
       "mean     3115.445431\n",
       "std       836.895369\n",
       "min       244.210000\n",
       "25%      2785.447500\n",
       "50%      3148.640000\n",
       "75%      3560.577500\n",
       "max      5699.770000\n",
       "Name: distance, dtype: float64"
      ]
     },
     "execution_count": 40,
     "metadata": {},
     "output_type": "execute_result"
    }
   ],
   "source": [
    "data_ultra['distance'].describe()"
   ]
  },
  {
   "cell_type": "code",
   "execution_count": 41,
   "id": "88918cc7",
   "metadata": {},
   "outputs": [
    {
     "data": {
      "text/plain": [
       "count    6500.000000\n",
       "mean       19.037692\n",
       "std         5.577439\n",
       "min         4.000000\n",
       "25%        15.000000\n",
       "50%        19.000000\n",
       "75%        22.000000\n",
       "max        41.000000\n",
       "Name: duration, dtype: float64"
      ]
     },
     "execution_count": 41,
     "metadata": {},
     "output_type": "execute_result"
    }
   ],
   "source": [
    "data_ultra['duration'].describe()"
   ]
  },
  {
   "cell_type": "code",
   "execution_count": 42,
   "id": "1bac83ba",
   "metadata": {},
   "outputs": [
    {
     "data": {
      "image/png": "[encoded data removed]",
      "text/plain": [
       "<Figure size 640x480 with 1 Axes>"
      ]
     },
     "metadata": {},
     "output_type": "display_data"
    }
   ],
   "source": [
    "data_free['distance'].plot(kind = 'hist', grid=True, bins = 50, label='без подписки')\n",
    "data_ultra['distance'].plot(kind = 'hist', grid=True, bins = 50, label='с подпиской Ultra')\n",
    "plt.title('Количество поездок в зависимости расстояния поездки с подпиской и без')\n",
    "plt.xlabel('Расстояние, м')\n",
    "plt.ylabel('Количество поездок')\n",
    "plt.legend(loc='upper right')\n",
    "plt.show()"
   ]
  },
  {
   "cell_type": "code",
   "execution_count": 43,
   "id": "561153bd",
   "metadata": {},
   "outputs": [
    {
     "data": {
      "image/png": "[encoded data removed]",
      "text/plain": [
       "<Figure size 640x480 with 1 Axes>"
      ]
     },
     "metadata": {},
     "output_type": "display_data"
    }
   ],
   "source": [
    "data_free['duration'].plot(kind = 'hist', grid=True, bins = 40, label='без подписки')\n",
    "data_ultra['duration'].plot(kind = 'hist', grid=True, bins = 40, label='с подпиской Ultra')\n",
    "plt.title('Количество поездок в зависимости от времени поездки с подпиской и без')\n",
    "plt.xlabel('Расстояние, м')\n",
    "plt.ylabel('Количество поездок')\n",
    "plt.legend(loc='upper right')\n",
    "plt.show()"
   ]
  },
  {
   "cell_type": "markdown",
   "id": "8131f793",
   "metadata": {},
   "source": [
    "Вывод по четвертому пункту: \n",
    "- Визуализация созданных датасетов зависимости количества поездок от расстояния по пользователям без подписки free и с подпиской ultra показывает, что подписка влияет на медианные значения (расстояния поездки без подписки 3114.65 метров с подпиской 3148.64 метров), при этом заметно что у пользователей с подпиской меньший разброс ( видно из графиков и по стандартному отклонению free - 1246,17 ultra - 836.89), также заметно смещение центра дополнительного пика с 500 метров (free) до 1000 (ultra).\n",
    "\n",
    "- Визуализация созданных датасетов зависимости количества поездок от времени по  пользователям без подписки free и с подпиской ultra указывает, что подписка влияет на медианные значения (время поездки без подписки 18 мин с подпиской 19 мин), так же замечено снижение стандартного отклонения free - 6.33 ultra - 5.57."
   ]
  },
  {
   "cell_type": "markdown",
   "id": "402d620f",
   "metadata": {},
   "source": [
    "#### Шаг 5. Подсчёт выручки"
   ]
  },
  {
   "cell_type": "code",
   "execution_count": 44,
   "id": "53049e0a",
   "metadata": {},
   "outputs": [
    {
     "data": {
      "text/html": [
       "<div>\n",
       "<style scoped>\n",
       "    .dataframe tbody tr th:only-of-type {\n",
       "        vertical-align: middle;\n",
       "    }\n",
       "\n",
       "    .dataframe tbody tr th {\n",
       "        vertical-align: top;\n",
       "    }\n",
       "\n",
       "    .dataframe thead th {\n",
       "        text-align: right;\n",
       "    }\n",
       "</style>\n",
       "<table border=\"1\" class=\"dataframe\">\n",
       "  <thead>\n",
       "    <tr style=\"text-align: right;\">\n",
       "      <th></th>\n",
       "      <th></th>\n",
       "      <th>city</th>\n",
       "      <th>ride_count</th>\n",
       "      <th>distance_sum</th>\n",
       "      <th>duration_sum</th>\n",
       "      <th>minute_price</th>\n",
       "      <th>start_ride_price</th>\n",
       "      <th>subscription_fee</th>\n",
       "      <th>subscription_type</th>\n",
       "    </tr>\n",
       "    <tr>\n",
       "      <th>user_id</th>\n",
       "      <th>month</th>\n",
       "      <th></th>\n",
       "      <th></th>\n",
       "      <th></th>\n",
       "      <th></th>\n",
       "      <th></th>\n",
       "      <th></th>\n",
       "      <th></th>\n",
       "      <th></th>\n",
       "    </tr>\n",
       "  </thead>\n",
       "  <tbody>\n",
       "    <tr>\n",
       "      <th rowspan=\"5\" valign=\"top\">1</th>\n",
       "      <th>1</th>\n",
       "      <td>Тюмень</td>\n",
       "      <td>2</td>\n",
       "      <td>7027.51</td>\n",
       "      <td>42</td>\n",
       "      <td>6</td>\n",
       "      <td>0</td>\n",
       "      <td>199</td>\n",
       "      <td>ultra</td>\n",
       "    </tr>\n",
       "    <tr>\n",
       "      <th>4</th>\n",
       "      <td>Тюмень</td>\n",
       "      <td>1</td>\n",
       "      <td>754.16</td>\n",
       "      <td>7</td>\n",
       "      <td>6</td>\n",
       "      <td>0</td>\n",
       "      <td>199</td>\n",
       "      <td>ultra</td>\n",
       "    </tr>\n",
       "    <tr>\n",
       "      <th>8</th>\n",
       "      <td>Тюмень</td>\n",
       "      <td>2</td>\n",
       "      <td>6723.47</td>\n",
       "      <td>46</td>\n",
       "      <td>6</td>\n",
       "      <td>0</td>\n",
       "      <td>199</td>\n",
       "      <td>ultra</td>\n",
       "    </tr>\n",
       "    <tr>\n",
       "      <th>10</th>\n",
       "      <td>Тюмень</td>\n",
       "      <td>2</td>\n",
       "      <td>5809.91</td>\n",
       "      <td>32</td>\n",
       "      <td>6</td>\n",
       "      <td>0</td>\n",
       "      <td>199</td>\n",
       "      <td>ultra</td>\n",
       "    </tr>\n",
       "    <tr>\n",
       "      <th>11</th>\n",
       "      <td>Тюмень</td>\n",
       "      <td>3</td>\n",
       "      <td>7003.50</td>\n",
       "      <td>56</td>\n",
       "      <td>6</td>\n",
       "      <td>0</td>\n",
       "      <td>199</td>\n",
       "      <td>ultra</td>\n",
       "    </tr>\n",
       "  </tbody>\n",
       "</table>\n",
       "</div>"
      ],
      "text/plain": [
       "                 city  ride_count  distance_sum  duration_sum  minute_price  \\\n",
       "user_id month                                                                 \n",
       "1       1      Тюмень           2       7027.51            42             6   \n",
       "        4      Тюмень           1        754.16             7             6   \n",
       "        8      Тюмень           2       6723.47            46             6   \n",
       "        10     Тюмень           2       5809.91            32             6   \n",
       "        11     Тюмень           3       7003.50            56             6   \n",
       "\n",
       "               start_ride_price  subscription_fee subscription_type  \n",
       "user_id month                                                        \n",
       "1       1                     0               199             ultra  \n",
       "        4                     0               199             ultra  \n",
       "        8                     0               199             ultra  \n",
       "        10                    0               199             ultra  \n",
       "        11                    0               199             ultra  "
      ]
     },
     "execution_count": 44,
     "metadata": {},
     "output_type": "execute_result"
    }
   ],
   "source": [
    "users_month = (data\n",
    "               .pivot_table(index=('user_id','month'),\n",
    "                               values=('city', 'subscription_type', 'distance', 'duration', 'minute_price', 'start_ride_price', 'subscription_fee', 'date'),\n",
    "                               aggfunc={'city' : 'first',\n",
    "                                        'subscription_type' : 'first',\n",
    "                                        'distance' : 'sum',\n",
    "                                       'duration' : 'sum',\n",
    "                                       'minute_price' : 'first',\n",
    "                                        'start_ride_price' : 'first',\n",
    "                                        'subscription_fee' : 'first',\n",
    "                                        'date' : 'count'\n",
    "                                       }\n",
    "                              )\n",
    "               .rename(columns={'distance' : 'distance_sum', 'duration' : 'duration_sum', 'date' : 'ride_count'})\n",
    "              )\n",
    "users_month.head()"
   ]
  },
  {
   "cell_type": "code",
   "execution_count": 45,
   "id": "cd1af54f",
   "metadata": {},
   "outputs": [
    {
     "name": "stdout",
     "output_type": "stream",
     "text": [
      "<class 'pandas.core.frame.DataFrame'>\n",
      "MultiIndex: 11331 entries, (1, 1) to (1534, 12)\n",
      "Data columns (total 8 columns):\n",
      " #   Column             Non-Null Count  Dtype  \n",
      "---  ------             --------------  -----  \n",
      " 0   city               11331 non-null  object \n",
      " 1   ride_count         11331 non-null  int64  \n",
      " 2   distance_sum       11331 non-null  float64\n",
      " 3   duration_sum       11331 non-null  int32  \n",
      " 4   minute_price       11331 non-null  int64  \n",
      " 5   start_ride_price   11331 non-null  int64  \n",
      " 6   subscription_fee   11331 non-null  int64  \n",
      " 7   subscription_type  11331 non-null  object \n",
      "dtypes: float64(1), int32(1), int64(4), object(2)\n",
      "memory usage: 709.3+ KB\n"
     ]
    }
   ],
   "source": [
    "users_month.info()"
   ]
  },
  {
   "cell_type": "code",
   "execution_count": 46,
   "id": "d02fc5c8",
   "metadata": {},
   "outputs": [
    {
     "data": {
      "text/plain": [
       "city                 0\n",
       "ride_count           0\n",
       "distance_sum         0\n",
       "duration_sum         0\n",
       "minute_price         0\n",
       "start_ride_price     0\n",
       "subscription_fee     0\n",
       "subscription_type    0\n",
       "dtype: int64"
      ]
     },
     "execution_count": 46,
     "metadata": {},
     "output_type": "execute_result"
    }
   ],
   "source": [
    "users_month.isna().sum()"
   ]
  },
  {
   "cell_type": "markdown",
   "id": "43785ff1",
   "metadata": {},
   "source": [
    "В данных не имеется пропусков."
   ]
  },
  {
   "cell_type": "code",
   "execution_count": 47,
   "id": "8d75fea3",
   "metadata": {},
   "outputs": [
    {
     "data": {
      "text/html": [
       "<div>\n",
       "<style scoped>\n",
       "    .dataframe tbody tr th:only-of-type {\n",
       "        vertical-align: middle;\n",
       "    }\n",
       "\n",
       "    .dataframe tbody tr th {\n",
       "        vertical-align: top;\n",
       "    }\n",
       "\n",
       "    .dataframe thead th {\n",
       "        text-align: right;\n",
       "    }\n",
       "</style>\n",
       "<table border=\"1\" class=\"dataframe\">\n",
       "  <thead>\n",
       "    <tr style=\"text-align: right;\">\n",
       "      <th></th>\n",
       "      <th></th>\n",
       "      <th>city</th>\n",
       "      <th>ride_count</th>\n",
       "      <th>distance_sum</th>\n",
       "      <th>duration_sum</th>\n",
       "      <th>minute_price</th>\n",
       "      <th>start_ride_price</th>\n",
       "      <th>subscription_fee</th>\n",
       "      <th>subscription_type</th>\n",
       "      <th>month_revenue</th>\n",
       "    </tr>\n",
       "    <tr>\n",
       "      <th>user_id</th>\n",
       "      <th>month</th>\n",
       "      <th></th>\n",
       "      <th></th>\n",
       "      <th></th>\n",
       "      <th></th>\n",
       "      <th></th>\n",
       "      <th></th>\n",
       "      <th></th>\n",
       "      <th></th>\n",
       "      <th></th>\n",
       "    </tr>\n",
       "  </thead>\n",
       "  <tbody>\n",
       "    <tr>\n",
       "      <th rowspan=\"5\" valign=\"top\">1</th>\n",
       "      <th>1</th>\n",
       "      <td>Тюмень</td>\n",
       "      <td>2</td>\n",
       "      <td>7027.51</td>\n",
       "      <td>42</td>\n",
       "      <td>6</td>\n",
       "      <td>0</td>\n",
       "      <td>199</td>\n",
       "      <td>ultra</td>\n",
       "      <td>451</td>\n",
       "    </tr>\n",
       "    <tr>\n",
       "      <th>4</th>\n",
       "      <td>Тюмень</td>\n",
       "      <td>1</td>\n",
       "      <td>754.16</td>\n",
       "      <td>7</td>\n",
       "      <td>6</td>\n",
       "      <td>0</td>\n",
       "      <td>199</td>\n",
       "      <td>ultra</td>\n",
       "      <td>241</td>\n",
       "    </tr>\n",
       "    <tr>\n",
       "      <th>8</th>\n",
       "      <td>Тюмень</td>\n",
       "      <td>2</td>\n",
       "      <td>6723.47</td>\n",
       "      <td>46</td>\n",
       "      <td>6</td>\n",
       "      <td>0</td>\n",
       "      <td>199</td>\n",
       "      <td>ultra</td>\n",
       "      <td>475</td>\n",
       "    </tr>\n",
       "    <tr>\n",
       "      <th>10</th>\n",
       "      <td>Тюмень</td>\n",
       "      <td>2</td>\n",
       "      <td>5809.91</td>\n",
       "      <td>32</td>\n",
       "      <td>6</td>\n",
       "      <td>0</td>\n",
       "      <td>199</td>\n",
       "      <td>ultra</td>\n",
       "      <td>391</td>\n",
       "    </tr>\n",
       "    <tr>\n",
       "      <th>11</th>\n",
       "      <td>Тюмень</td>\n",
       "      <td>3</td>\n",
       "      <td>7003.50</td>\n",
       "      <td>56</td>\n",
       "      <td>6</td>\n",
       "      <td>0</td>\n",
       "      <td>199</td>\n",
       "      <td>ultra</td>\n",
       "      <td>535</td>\n",
       "    </tr>\n",
       "  </tbody>\n",
       "</table>\n",
       "</div>"
      ],
      "text/plain": [
       "                 city  ride_count  distance_sum  duration_sum  minute_price  \\\n",
       "user_id month                                                                 \n",
       "1       1      Тюмень           2       7027.51            42             6   \n",
       "        4      Тюмень           1        754.16             7             6   \n",
       "        8      Тюмень           2       6723.47            46             6   \n",
       "        10     Тюмень           2       5809.91            32             6   \n",
       "        11     Тюмень           3       7003.50            56             6   \n",
       "\n",
       "               start_ride_price  subscription_fee subscription_type  \\\n",
       "user_id month                                                         \n",
       "1       1                     0               199             ultra   \n",
       "        4                     0               199             ultra   \n",
       "        8                     0               199             ultra   \n",
       "        10                    0               199             ultra   \n",
       "        11                    0               199             ultra   \n",
       "\n",
       "               month_revenue  \n",
       "user_id month                 \n",
       "1       1                451  \n",
       "        4                241  \n",
       "        8                475  \n",
       "        10               391  \n",
       "        11               535  "
      ]
     },
     "execution_count": 47,
     "metadata": {},
     "output_type": "execute_result"
    }
   ],
   "source": [
    "#создаем столбец с месячной выручкой\n",
    "users_month['month_revenue'] = (\n",
    "                              (users_month['start_ride_price'] * users_month['ride_count']) \n",
    "                            + (users_month['minute_price'] * users_month['duration_sum']) \n",
    "                            +  users_month['subscription_fee'])\n",
    "users_month.head()"
   ]
  },
  {
   "cell_type": "code",
   "execution_count": 48,
   "id": "d0c676e1",
   "metadata": {},
   "outputs": [
    {
     "data": {
      "text/plain": [
       "3878641"
      ]
     },
     "execution_count": 48,
     "metadata": {},
     "output_type": "execute_result"
    }
   ],
   "source": [
    "users_month['month_revenue'].sum()"
   ]
  },
  {
   "cell_type": "markdown",
   "id": "61842a0f",
   "metadata": {},
   "source": [
    "Вывод по пятому пункту: создали датафрейм с агрегированными данными о поездках на основе датафрейма с объединёнными данными из четвертого пункта. Добавили столбец с помесячной выручкой, которую принёс каждый пользователь. Выручка за год составила 3 878 641 рублей."
   ]
  },
  {
   "cell_type": "markdown",
   "id": "41545ac0",
   "metadata": {},
   "source": [
    "#### Шаг 6. Проверка гипотез"
   ]
  },
  {
   "cell_type": "markdown",
   "id": "8e602f13",
   "metadata": {},
   "source": [
    "##### Гипотеза №1:\n",
    "\n",
    "H0: Средняя продолжительность времени поздки пользователя с подпиской и без подписки равны.\n",
    "\n",
    "H1: Средняя продолжительность времени поездки пользователя с подпиской больше, чем без подписки."
   ]
  },
  {
   "cell_type": "code",
   "execution_count": 49,
   "id": "17d4dce0",
   "metadata": {},
   "outputs": [
    {
     "name": "stdout",
     "output_type": "stream",
     "text": [
      "p-значение: 2.495945372073663e-34\n",
      "Отвергаем нулевую гипотезу.\n"
     ]
    }
   ],
   "source": [
    "results = st.ttest_ind(\n",
    "    data_ultra['duration'], \n",
    "    data_free['duration'], \n",
    "    equal_var=True, \n",
    "    alternative='greater')\n",
    "\n",
    "print('p-значение:',results.pvalue)\n",
    "\n",
    "alpha = 0.05\n",
    "\n",
    "if results.pvalue < alpha:\n",
    "    print('Отвергаем нулевую гипотезу.')\n",
    "else:\n",
    "    print('Не получилось отвергнуть нулевую гипотезу.')"
   ]
  },
  {
   "cell_type": "markdown",
   "id": "487e8d95",
   "metadata": {},
   "source": [
    "Вывод: средняя продолжительность времени поездки пользователя с подпиской больше, чем без подписки."
   ]
  },
  {
   "cell_type": "markdown",
   "id": "fde8a441",
   "metadata": {},
   "source": [
    "##### Гипотеза №2:\n",
    "\n",
    "H0: Среднее расстояние поездок с подпиской равно 3130 метров.\n",
    "\n",
    "H1: Среднее расстояние поездок с подпиской меньше 3130 метров."
   ]
  },
  {
   "cell_type": "code",
   "execution_count": 50,
   "id": "1fa6bc21",
   "metadata": {},
   "outputs": [
    {
     "name": "stdout",
     "output_type": "stream",
     "text": [
      "p-значение: 0.08046373941575857\n",
      "Не получилось отвергнуть нулевую гипотезу.\n"
     ]
    }
   ],
   "source": [
    "mean_distance = 3130\n",
    "\n",
    "results = st.ttest_1samp(\n",
    "    data_ultra['distance'],\n",
    "    mean_distance,\n",
    "    alternative='less')\n",
    "\n",
    "print('p-значение:',results.pvalue)\n",
    "\n",
    "alpha = 0.05\n",
    "if results.pvalue < alpha:\n",
    "    print('Отвергаем нулевую гипотезу.')\n",
    "else:\n",
    "    print('Не получилось отвергнуть нулевую гипотезу.')"
   ]
  },
  {
   "cell_type": "markdown",
   "id": "dabef92d",
   "metadata": {},
   "source": [
    "Вывод: среднее расстояние поездок с подпиской равно 3130 метров."
   ]
  },
  {
   "cell_type": "markdown",
   "id": "7272d396",
   "metadata": {},
   "source": [
    "##### Гипотеза №3:\n",
    "\n",
    "H0: Помесячная выручка от пользователей с подпиской по месяцам равна выручке от пользователей без подписки.\n",
    "\n",
    "H1: Помесячная выручка от пользователей с подпиской по месяцам выше, чем выручка от пользователей без подписки."
   ]
  },
  {
   "cell_type": "code",
   "execution_count": 51,
   "id": "1b40cfac",
   "metadata": {},
   "outputs": [
    {
     "name": "stdout",
     "output_type": "stream",
     "text": [
      "p-значение: 1.8850394384715216e-31\n",
      "Отвергаем нулевую гипотезу.\n"
     ]
    }
   ],
   "source": [
    "results = st.ttest_ind(\n",
    "    users_month[users_month['subscription_type'] == 'ultra']['month_revenue'], \n",
    "    users_month[users_month['subscription_type'] == 'free']['month_revenue'], \n",
    "    equal_var=True, \n",
    "    alternative='greater')\n",
    "\n",
    "print('p-значение:',results.pvalue)\n",
    "\n",
    "alpha = 0.05\n",
    "if results.pvalue < alpha:\n",
    "    print('Отвергаем нулевую гипотезу.')\n",
    "else:\n",
    "    print('Не получилось отвергнуть нулевую гипотезу.')"
   ]
  },
  {
   "cell_type": "markdown",
   "id": "19f725bd",
   "metadata": {},
   "source": [
    "Вывод: помесячная выручка от пользователей с подпиской по месяцам выше, чем выручка от пользователей без подписки."
   ]
  },
  {
   "cell_type": "markdown",
   "id": "e09f26cb",
   "metadata": {},
   "source": [
    "##### Техническая команда сервиса обновила сервера, с которыми взаимодействует мобильное приложение. Она надеется, что из-за этого количество обращений в техподдержку значимо снизилось. Некоторый файл содержит для каждого пользователя данные о количестве обращений до обновления и после него.\n",
    "\n",
    "Если выборки зависимы, то нужно проверить равны ли средние совокупности до и после обновления сервера. Выдвигаем гипотезу:\n",
    "\n",
    "H0: Среднее количество обращений до обновления и после обновления равны.\n",
    "\n",
    "H1: Среднее количество обращений до обновления и после обновления НЕ равны.\n",
    "\n",
    "Чтобы проверить гипотезу о равенстве среднего генеральной совокупности для зависимых (парных) выборок применяется метод `scipy.stats.ttest_rel(before, after)`.\n",
    "\n",
    "Если выборки не зависимы, то применяем метод `scipy.stats.ttest_ind()` с проверкой односторонней гипотезы."
   ]
  },
  {
   "cell_type": "markdown",
   "id": "95ed493f",
   "metadata": {},
   "source": [
    "Вывод по шестому пункту: \n",
    "- Нулевая гипотеза отвергнута, средняя продолжительность времени поздки пользователя с подпиской больше, чем без подписки.\n",
    "- Не получилось отвергнуть нулевую гипотезу, среднее расстояние поездок с подпиской равно 3130 метров.\n",
    "- Нулевая гипотеза отвергнута, помесячная выручка от пользователей с подпиской по месяцам выше, чем выручка от пользователей без подписки.\n",
    "- Дано пояснение применение методов `scipy.stats.ttest_rel(before, after)` и `scipy.stats.ttest_ind()`."
   ]
  },
  {
   "cell_type": "markdown",
   "id": "163f99e3",
   "metadata": {},
   "source": [
    "#### Общий вывод по работе:\n",
    "1. Загрузка данных:\n",
    "    - В данных пользователей имеется 1565 записей, пропуски отсутствуют.\n",
    "    - В данных поездок имеется 18068 записи, пропуски отсутствуют.\n",
    "    - В данных подписок 2 записи, пропуски отсутствуют.\n",
    "\n",
    "\n",
    "2. Предобработка данных:\n",
    "    - В датасете `users` удалили 31 дубликат, неявных дубликатов не имеется.\n",
    "    - В датасете `rides` явные дубликаты не были выявлены, изменили тип данных в столбце `date`, добавили столбец с номером месяца, округлили расстояние до двух знаком после запятой и округлили продолжительность сессии до целых минут вверх.\n",
    "    - В датасете `subscriptions` ничего не меняли.\n",
    "\n",
    "\n",
    "3. Исследовательский анализ данных:\n",
    "    - Наибольшее количество пользователей в Пятигорске, наименьшее - в Москве. В первую пятерку входят в основном южные города, это объясняется тем, что сезон проката в этих городах дольше, чем северных, исключением является Екатеринбург, который находиться на второй позиции.\n",
    "    - Количество пользователей без подписки 54.4%, с подпиской - 45.6%.\n",
    "    - Возраст пользователей подчиняется нормальному распределению с медианой 25 лет, средний возраст и медиана практически совпадают.\n",
    "    - Количество поездок в зависимости от расстояния показывает, что медиана поездок находится на 3133 метров первый квартиль находится на значении 2543 метра, третий квартиль на 3776 метров. В промежутке с 1500 до 50000 наблюдается нормальное распределение зависимости, но имеется второй пик на 700 метров, и хотя он не попадает в основное распределение, просто откидывать его нельзя.\n",
    "    - Зависимость продолжительности поездок подчиняется нормальному распределению, медианное значение - 18 минут, основные значения времени поезди лежат в интервале от 14 до 22 минут.\n",
    "\n",
    "\n",
    "4. Объединение данных:\n",
    "    - Визуализация созданных датасетов зависимости количества поездок от расстояния по пользователям без подписки free и с подпиской ultra показывает, что подписка влияет на медианные значения (расстояния поездки без подписки 3114.65 метров с подпиской 3148.64 метров), при этом заметно что у пользователей с подпиской меньший разброс ( видно из графиков и по стандартному отклонению free - 1246,17 ultra - 836.89), также заметно смещение центра дополнительного пика с 500 метров (free) до 1000 (ultra).\n",
    "    - Визуализация созданных датасетов зависимости количества поездок от времени по пользователям без подписки free и с подпиской ultra указывает, что подписка влияет на медианные значения (время поездки без подписки 18 мин с подпиской 19 мин), так же замечено снижение стандартного отклонения free - 6.33 ultra - 5.57.\n",
    "\n",
    "\n",
    "5. Подсчёт выручки:\n",
    "    - Создали датафрейм с агрегированными данными о поездках на основе датафрейма с объединёнными данными из четвертого пункта.\n",
    "    - Добавили столбец с помесячной выручкой, которую принёс каждый пользователь.\n",
    "\n",
    "\n",
    "6. Проверка гипотез:\n",
    "    - Нулевая гипотеза отвергнута, средняя продолжительность времени поездки пользователя с подпиской больше, чем без подписки.\n",
    "    - Не получилось отвергнуть нулевую гипотезу, среднее расстояние поездок с подпиской равно 3130 метров.\n",
    "    - Нулевая гипотеза отвергнута, помесячная выручка от пользователей с подпиской по месяцам выше, чем выручка от пользователей без подписки.\n",
    "    - Если выборки зависимы, то нужно проверить равны ли средние совокупности до и после обновления сервера. Чтобы проверить гипотезу о равенстве среднего генеральной совокупности для зависимых (парных) выборок применяется метод scipy.stats.ttest_rel(before, after). Если выборки не зависимы, то применяем метод scipy.stats.ttest_ind()."
   ]
  }
 ],
 "metadata": {
  "ExecuteTimeLog": [
   {
    "duration": 382,
    "start_time": "2025-04-21T15:52:56.093Z"
   },
   {
    "duration": 113,
    "start_time": "2025-04-21T15:53:07.180Z"
   },
   {
    "duration": 14,
    "start_time": "2025-04-21T15:53:22.499Z"
   },
   {
    "duration": 43,
    "start_time": "2025-04-21T15:53:30.506Z"
   },
   {
    "duration": 36,
    "start_time": "2025-04-21T15:54:22.462Z"
   },
   {
    "duration": 21,
    "start_time": "2025-04-21T15:55:04.851Z"
   },
   {
    "duration": 12,
    "start_time": "2025-04-21T15:55:52.136Z"
   },
   {
    "duration": 13,
    "start_time": "2025-04-21T15:56:13.886Z"
   },
   {
    "duration": 10,
    "start_time": "2025-04-21T15:56:26.078Z"
   },
   {
    "duration": 9,
    "start_time": "2025-04-21T16:00:26.557Z"
   },
   {
    "duration": 8,
    "start_time": "2025-04-21T16:00:31.836Z"
   },
   {
    "duration": 67,
    "start_time": "2025-04-21T16:00:49.890Z"
   },
   {
    "duration": 22,
    "start_time": "2025-04-21T16:01:06.466Z"
   },
   {
    "duration": 7,
    "start_time": "2025-04-21T16:05:06.729Z"
   },
   {
    "duration": 7,
    "start_time": "2025-04-21T16:09:46.004Z"
   },
   {
    "duration": 7,
    "start_time": "2025-04-21T16:09:57.284Z"
   },
   {
    "duration": 7,
    "start_time": "2025-04-21T16:10:12.123Z"
   },
   {
    "duration": 3,
    "start_time": "2025-04-21T16:10:55.296Z"
   },
   {
    "duration": 24,
    "start_time": "2025-04-21T16:10:55.824Z"
   },
   {
    "duration": 11,
    "start_time": "2025-04-21T16:10:56.127Z"
   },
   {
    "duration": 6,
    "start_time": "2025-04-21T16:10:56.407Z"
   },
   {
    "duration": 35,
    "start_time": "2025-04-21T16:10:56.711Z"
   },
   {
    "duration": 11,
    "start_time": "2025-04-21T16:10:57.024Z"
   },
   {
    "duration": 7,
    "start_time": "2025-04-21T16:10:57.344Z"
   },
   {
    "duration": 20,
    "start_time": "2025-04-21T16:10:57.752Z"
   },
   {
    "duration": 11,
    "start_time": "2025-04-21T16:10:58.079Z"
   },
   {
    "duration": 6,
    "start_time": "2025-04-21T16:10:58.616Z"
   },
   {
    "duration": 14,
    "start_time": "2025-04-21T16:11:00.592Z"
   },
   {
    "duration": 7,
    "start_time": "2025-04-21T16:11:00.911Z"
   },
   {
    "duration": 7,
    "start_time": "2025-04-21T16:11:58.219Z"
   },
   {
    "duration": 6,
    "start_time": "2025-04-21T16:14:14.481Z"
   },
   {
    "duration": 8,
    "start_time": "2025-04-21T16:14:20.281Z"
   },
   {
    "duration": 14,
    "start_time": "2025-04-21T16:16:32.080Z"
   },
   {
    "duration": 17,
    "start_time": "2025-04-21T16:16:40.960Z"
   },
   {
    "duration": 17,
    "start_time": "2025-04-21T16:16:49.847Z"
   },
   {
    "duration": 15,
    "start_time": "2025-04-21T16:16:57.710Z"
   },
   {
    "duration": 9,
    "start_time": "2025-04-21T16:19:39.883Z"
   },
   {
    "duration": 3,
    "start_time": "2025-04-21T16:19:47.394Z"
   },
   {
    "duration": 23,
    "start_time": "2025-04-21T16:19:47.803Z"
   },
   {
    "duration": 15,
    "start_time": "2025-04-21T16:19:48.002Z"
   },
   {
    "duration": 35,
    "start_time": "2025-04-21T16:19:48.346Z"
   },
   {
    "duration": 17,
    "start_time": "2025-04-21T16:19:48.682Z"
   },
   {
    "duration": 21,
    "start_time": "2025-04-21T16:19:49.081Z"
   },
   {
    "duration": 13,
    "start_time": "2025-04-21T16:19:49.362Z"
   },
   {
    "duration": 14,
    "start_time": "2025-04-21T16:19:50.026Z"
   },
   {
    "duration": 7,
    "start_time": "2025-04-21T16:19:50.322Z"
   },
   {
    "duration": 6,
    "start_time": "2025-04-21T16:19:50.513Z"
   },
   {
    "duration": 7,
    "start_time": "2025-04-21T16:19:50.729Z"
   },
   {
    "duration": 9,
    "start_time": "2025-04-21T16:20:01.745Z"
   },
   {
    "duration": 10,
    "start_time": "2025-04-21T16:21:21.474Z"
   },
   {
    "duration": 6,
    "start_time": "2025-04-21T16:21:42.762Z"
   },
   {
    "duration": 687,
    "start_time": "2025-04-21T16:22:16.775Z"
   },
   {
    "duration": 21,
    "start_time": "2025-04-21T16:24:16.143Z"
   },
   {
    "duration": 647,
    "start_time": "2025-04-21T16:24:22.150Z"
   },
   {
    "duration": 402,
    "start_time": "2025-04-21T16:24:36.830Z"
   },
   {
    "duration": 265,
    "start_time": "2025-04-21T16:24:50.061Z"
   },
   {
    "duration": 816,
    "start_time": "2025-04-21T16:25:09.075Z"
   },
   {
    "duration": 589,
    "start_time": "2025-04-21T16:25:18.951Z"
   },
   {
    "duration": 595,
    "start_time": "2025-04-21T16:25:24.531Z"
   },
   {
    "duration": 551,
    "start_time": "2025-04-21T16:25:33.769Z"
   },
   {
    "duration": 710,
    "start_time": "2025-04-21T16:25:39.537Z"
   },
   {
    "duration": 5,
    "start_time": "2025-04-21T16:30:44.706Z"
   },
   {
    "duration": 13,
    "start_time": "2025-04-21T16:36:19.188Z"
   },
   {
    "duration": 10,
    "start_time": "2025-04-21T16:40:12.092Z"
   },
   {
    "duration": 3,
    "start_time": "2025-04-21T16:40:25.394Z"
   },
   {
    "duration": 7,
    "start_time": "2025-04-21T16:40:38.294Z"
   },
   {
    "duration": 5,
    "start_time": "2025-04-21T16:41:13.391Z"
   },
   {
    "duration": 437,
    "start_time": "2025-04-21T16:45:08.255Z"
   },
   {
    "duration": 197,
    "start_time": "2025-04-21T17:06:59.273Z"
   },
   {
    "duration": 20852,
    "start_time": "2025-04-21T17:07:30.519Z"
   },
   {
    "duration": 199,
    "start_time": "2025-04-21T17:07:59.333Z"
   },
   {
    "duration": 216,
    "start_time": "2025-04-21T17:08:54.113Z"
   },
   {
    "duration": 197,
    "start_time": "2025-04-21T17:10:33.162Z"
   },
   {
    "duration": 180,
    "start_time": "2025-04-21T17:16:11.794Z"
   },
   {
    "duration": 149,
    "start_time": "2025-04-21T17:16:19.721Z"
   },
   {
    "duration": 156,
    "start_time": "2025-04-21T17:16:33.921Z"
   },
   {
    "duration": 166,
    "start_time": "2025-04-21T17:17:59.115Z"
   },
   {
    "duration": 325,
    "start_time": "2025-04-21T17:18:49.591Z"
   },
   {
    "duration": 317,
    "start_time": "2025-04-21T17:18:59.669Z"
   },
   {
    "duration": 36,
    "start_time": "2025-04-21T17:23:05.676Z"
   },
   {
    "duration": 10,
    "start_time": "2025-04-21T17:23:11.636Z"
   },
   {
    "duration": 10,
    "start_time": "2025-04-21T17:23:26.811Z"
   },
   {
    "duration": 754,
    "start_time": "2025-04-21T17:28:07.758Z"
   },
   {
    "duration": 10,
    "start_time": "2025-04-21T17:28:36.749Z"
   },
   {
    "duration": 1244,
    "start_time": "2025-04-21T17:29:07.602Z"
   },
   {
    "duration": 991,
    "start_time": "2025-04-21T17:29:18.481Z"
   },
   {
    "duration": 801,
    "start_time": "2025-04-21T17:31:57.222Z"
   },
   {
    "duration": 1034,
    "start_time": "2025-04-21T17:32:46.755Z"
   },
   {
    "duration": 70,
    "start_time": "2025-04-21T17:36:24.131Z"
   },
   {
    "duration": 778,
    "start_time": "2025-04-21T17:36:29.051Z"
   },
   {
    "duration": 1070,
    "start_time": "2025-04-21T17:36:36.627Z"
   },
   {
    "duration": 802,
    "start_time": "2025-04-21T17:36:43.026Z"
   },
   {
    "duration": 935,
    "start_time": "2025-04-21T17:36:57.529Z"
   },
   {
    "duration": 697,
    "start_time": "2025-04-21T17:37:17.367Z"
   },
   {
    "duration": 9,
    "start_time": "2025-04-21T17:37:54.564Z"
   },
   {
    "duration": 924,
    "start_time": "2025-04-21T17:38:40.162Z"
   },
   {
    "duration": 698,
    "start_time": "2025-04-21T17:39:43.069Z"
   },
   {
    "duration": 869,
    "start_time": "2025-04-21T17:39:50.485Z"
   },
   {
    "duration": 214,
    "start_time": "2025-04-21T17:40:14.915Z"
   },
   {
    "duration": 205,
    "start_time": "2025-04-21T17:40:32.529Z"
   },
   {
    "duration": 16,
    "start_time": "2025-04-21T18:08:47.768Z"
   },
   {
    "duration": 14,
    "start_time": "2025-04-21T18:08:57.207Z"
   },
   {
    "duration": 13,
    "start_time": "2025-04-21T18:10:54.783Z"
   },
   {
    "duration": 13,
    "start_time": "2025-04-21T18:10:55.503Z"
   },
   {
    "duration": 78,
    "start_time": "2025-04-21T18:37:28.637Z"
   },
   {
    "duration": 1241,
    "start_time": "2025-04-21T18:37:41.180Z"
   },
   {
    "duration": 17,
    "start_time": "2025-04-21T18:37:55.275Z"
   },
   {
    "duration": 16,
    "start_time": "2025-04-21T18:38:16.225Z"
   },
   {
    "duration": 193,
    "start_time": "2025-04-21T18:39:41.108Z"
   },
   {
    "duration": 209,
    "start_time": "2025-04-21T18:39:57.842Z"
   },
   {
    "duration": 198,
    "start_time": "2025-04-21T18:40:14.241Z"
   },
   {
    "duration": 201,
    "start_time": "2025-04-21T18:40:26.832Z"
   },
   {
    "duration": 198,
    "start_time": "2025-04-21T18:40:50.199Z"
   },
   {
    "duration": 1209,
    "start_time": "2025-04-25T16:29:13.495Z"
   },
   {
    "duration": 37,
    "start_time": "2025-04-25T16:29:14.706Z"
   },
   {
    "duration": 14,
    "start_time": "2025-04-25T16:29:15.165Z"
   },
   {
    "duration": 223,
    "start_time": "2025-04-25T16:29:16.541Z"
   },
   {
    "duration": 33,
    "start_time": "2025-04-25T16:29:17.173Z"
   },
   {
    "duration": 15,
    "start_time": "2025-04-25T16:29:17.678Z"
   },
   {
    "duration": 321,
    "start_time": "2025-04-25T16:29:18.157Z"
   },
   {
    "duration": 20,
    "start_time": "2025-04-25T16:29:18.645Z"
   },
   {
    "duration": 13,
    "start_time": "2025-04-25T16:29:19.085Z"
   },
   {
    "duration": 13,
    "start_time": "2025-04-25T16:29:20.398Z"
   },
   {
    "duration": 7,
    "start_time": "2025-04-25T16:29:20.781Z"
   },
   {
    "duration": 6,
    "start_time": "2025-04-25T16:29:21.156Z"
   },
   {
    "duration": 7,
    "start_time": "2025-04-25T16:29:21.525Z"
   },
   {
    "duration": 5,
    "start_time": "2025-04-25T16:29:21.844Z"
   },
   {
    "duration": 8,
    "start_time": "2025-04-25T16:29:22.196Z"
   },
   {
    "duration": 4,
    "start_time": "2025-04-25T16:29:22.549Z"
   },
   {
    "duration": 4,
    "start_time": "2025-04-25T16:29:22.885Z"
   },
   {
    "duration": 167,
    "start_time": "2025-04-25T16:29:24.261Z"
   },
   {
    "duration": 131,
    "start_time": "2025-04-25T16:29:25.317Z"
   },
   {
    "duration": 279,
    "start_time": "2025-04-25T16:29:26.299Z"
   },
   {
    "duration": 9,
    "start_time": "2025-04-25T16:29:26.644Z"
   },
   {
    "duration": 10,
    "start_time": "2025-04-25T16:29:27.524Z"
   },
   {
    "duration": 661,
    "start_time": "2025-04-25T16:29:27.876Z"
   },
   {
    "duration": 8,
    "start_time": "2025-04-25T16:29:28.892Z"
   },
   {
    "duration": 180,
    "start_time": "2025-04-25T16:29:29.244Z"
   },
   {
    "duration": 13,
    "start_time": "2025-04-25T16:29:30.748Z"
   },
   {
    "duration": 12,
    "start_time": "2025-04-25T16:29:31.108Z"
   },
   {
    "duration": 18,
    "start_time": "2025-04-25T16:29:31.500Z"
   },
   {
    "duration": 177,
    "start_time": "2025-04-25T16:29:31.932Z"
   },
   {
    "duration": 16,
    "start_time": "2025-04-25T16:29:32.204Z"
   },
   {
    "duration": 175,
    "start_time": "2025-04-25T16:29:32.645Z"
   },
   {
    "duration": 168,
    "start_time": "2025-04-25T16:31:43.635Z"
   },
   {
    "duration": 166,
    "start_time": "2025-04-25T16:32:06.753Z"
   },
   {
    "duration": 350,
    "start_time": "2025-04-25T16:32:40.103Z"
   },
   {
    "duration": 469,
    "start_time": "2025-04-25T16:33:01.893Z"
   },
   {
    "duration": 346,
    "start_time": "2025-04-25T16:33:17.492Z"
   },
   {
    "duration": 339,
    "start_time": "2025-04-25T16:34:43.343Z"
   },
   {
    "duration": 8,
    "start_time": "2025-04-25T16:35:38.770Z"
   },
   {
    "duration": 10,
    "start_time": "2025-04-25T16:35:48.945Z"
   },
   {
    "duration": 7,
    "start_time": "2025-04-25T16:35:59.320Z"
   },
   {
    "duration": 7,
    "start_time": "2025-04-25T16:36:00.224Z"
   },
   {
    "duration": 365,
    "start_time": "2025-04-25T16:36:34.127Z"
   },
   {
    "duration": 8,
    "start_time": "2025-04-25T16:37:07.268Z"
   },
   {
    "duration": 8,
    "start_time": "2025-04-25T16:37:08.067Z"
   },
   {
    "duration": 348,
    "start_time": "2025-04-25T16:37:26.059Z"
   },
   {
    "duration": 363,
    "start_time": "2025-04-25T16:37:44.193Z"
   },
   {
    "duration": 440,
    "start_time": "2025-04-25T16:37:58.896Z"
   },
   {
    "duration": 14,
    "start_time": "2025-04-25T16:49:13.976Z"
   },
   {
    "duration": 14,
    "start_time": "2025-04-25T16:49:45.806Z"
   },
   {
    "duration": 409,
    "start_time": "2025-04-25T17:09:16.114Z"
   },
   {
    "duration": 46,
    "start_time": "2025-04-25T17:10:33.364Z"
   },
   {
    "duration": 25,
    "start_time": "2025-04-25T17:15:43.614Z"
   },
   {
    "duration": 31,
    "start_time": "2025-04-25T17:17:41.790Z"
   },
   {
    "duration": 73,
    "start_time": "2025-04-25T17:20:20.491Z"
   },
   {
    "duration": 30,
    "start_time": "2025-04-25T17:20:45.489Z"
   },
   {
    "duration": 32,
    "start_time": "2025-04-25T17:23:05.438Z"
   },
   {
    "duration": 5,
    "start_time": "2025-04-25T17:27:30.236Z"
   },
   {
    "duration": 13,
    "start_time": "2025-04-25T17:27:42.371Z"
   },
   {
    "duration": 1293,
    "start_time": "2025-04-26T19:16:49.323Z"
   },
   {
    "duration": 43,
    "start_time": "2025-04-26T19:16:50.618Z"
   },
   {
    "duration": 16,
    "start_time": "2025-04-26T19:16:50.662Z"
   },
   {
    "duration": 308,
    "start_time": "2025-04-26T19:16:50.680Z"
   },
   {
    "duration": 44,
    "start_time": "2025-04-26T19:16:50.990Z"
   },
   {
    "duration": 22,
    "start_time": "2025-04-26T19:16:51.037Z"
   },
   {
    "duration": 342,
    "start_time": "2025-04-26T19:16:51.081Z"
   },
   {
    "duration": 21,
    "start_time": "2025-04-26T19:16:51.425Z"
   },
   {
    "duration": 13,
    "start_time": "2025-04-26T19:16:51.473Z"
   },
   {
    "duration": 15,
    "start_time": "2025-04-26T19:16:52.184Z"
   },
   {
    "duration": 7,
    "start_time": "2025-04-26T19:16:52.465Z"
   },
   {
    "duration": 6,
    "start_time": "2025-04-26T19:16:52.649Z"
   },
   {
    "duration": 8,
    "start_time": "2025-04-26T19:16:52.905Z"
   },
   {
    "duration": 5,
    "start_time": "2025-04-26T19:16:53.041Z"
   },
   {
    "duration": 7,
    "start_time": "2025-04-26T19:16:53.321Z"
   },
   {
    "duration": 5,
    "start_time": "2025-04-26T19:16:53.585Z"
   },
   {
    "duration": 5,
    "start_time": "2025-04-26T19:16:53.785Z"
   },
   {
    "duration": 172,
    "start_time": "2025-04-26T19:16:54.809Z"
   },
   {
    "duration": 144,
    "start_time": "2025-04-26T19:16:55.424Z"
   },
   {
    "duration": 289,
    "start_time": "2025-04-26T19:16:56.008Z"
   },
   {
    "duration": 9,
    "start_time": "2025-04-26T19:16:56.300Z"
   },
   {
    "duration": 9,
    "start_time": "2025-04-26T19:16:56.840Z"
   },
   {
    "duration": 748,
    "start_time": "2025-04-26T19:16:57.049Z"
   },
   {
    "duration": 10,
    "start_time": "2025-04-26T19:16:57.799Z"
   },
   {
    "duration": 189,
    "start_time": "2025-04-26T19:16:57.928Z"
   },
   {
    "duration": 15,
    "start_time": "2025-04-26T19:16:58.753Z"
   },
   {
    "duration": 12,
    "start_time": "2025-04-26T19:16:58.976Z"
   },
   {
    "duration": 15,
    "start_time": "2025-04-26T19:16:59.168Z"
   },
   {
    "duration": 17,
    "start_time": "2025-04-26T19:16:59.593Z"
   },
   {
    "duration": 10,
    "start_time": "2025-04-26T19:16:59.840Z"
   },
   {
    "duration": 9,
    "start_time": "2025-04-26T19:17:00.040Z"
   },
   {
    "duration": 374,
    "start_time": "2025-04-26T19:17:00.265Z"
   },
   {
    "duration": 15,
    "start_time": "2025-04-26T19:17:00.640Z"
   },
   {
    "duration": 10,
    "start_time": "2025-04-26T19:17:00.704Z"
   },
   {
    "duration": 11,
    "start_time": "2025-04-26T19:17:00.936Z"
   },
   {
    "duration": 394,
    "start_time": "2025-04-26T19:17:01.145Z"
   },
   {
    "duration": 43,
    "start_time": "2025-04-26T19:17:01.801Z"
   },
   {
    "duration": 13,
    "start_time": "2025-04-26T19:17:02.024Z"
   },
   {
    "duration": 5,
    "start_time": "2025-04-26T19:33:36.322Z"
   },
   {
    "duration": 6,
    "start_time": "2025-04-26T19:33:52.976Z"
   },
   {
    "duration": 5,
    "start_time": "2025-04-26T19:35:32.681Z"
   },
   {
    "duration": 5,
    "start_time": "2025-04-26T19:36:28.478Z"
   },
   {
    "duration": 6,
    "start_time": "2025-04-26T19:43:51.237Z"
   },
   {
    "duration": 6,
    "start_time": "2025-04-26T19:45:55.380Z"
   },
   {
    "duration": 5,
    "start_time": "2025-04-26T19:50:28.762Z"
   },
   {
    "duration": 37,
    "start_time": "2025-04-26T19:53:42.323Z"
   },
   {
    "duration": 14,
    "start_time": "2025-04-26T19:53:43.036Z"
   },
   {
    "duration": 9,
    "start_time": "2025-04-26T19:58:20.224Z"
   },
   {
    "duration": 739,
    "start_time": "2025-04-26T19:59:42.770Z"
   },
   {
    "duration": 9,
    "start_time": "2025-04-26T20:00:16.215Z"
   },
   {
    "duration": 1258,
    "start_time": "2025-04-27T16:18:47.852Z"
   },
   {
    "duration": 29,
    "start_time": "2025-04-27T16:18:49.112Z"
   },
   {
    "duration": 15,
    "start_time": "2025-04-27T16:18:49.142Z"
   },
   {
    "duration": 238,
    "start_time": "2025-04-27T16:18:49.709Z"
   },
   {
    "duration": 33,
    "start_time": "2025-04-27T16:18:50.043Z"
   },
   {
    "duration": 15,
    "start_time": "2025-04-27T16:18:50.355Z"
   },
   {
    "duration": 313,
    "start_time": "2025-04-27T16:18:50.683Z"
   },
   {
    "duration": 20,
    "start_time": "2025-04-27T16:18:50.997Z"
   },
   {
    "duration": 13,
    "start_time": "2025-04-27T16:18:51.283Z"
   },
   {
    "duration": 16,
    "start_time": "2025-04-27T16:18:52.075Z"
   },
   {
    "duration": 8,
    "start_time": "2025-04-27T16:18:52.299Z"
   },
   {
    "duration": 7,
    "start_time": "2025-04-27T16:18:52.547Z"
   },
   {
    "duration": 9,
    "start_time": "2025-04-27T16:18:52.811Z"
   },
   {
    "duration": 4,
    "start_time": "2025-04-27T16:18:53.035Z"
   },
   {
    "duration": 9,
    "start_time": "2025-04-27T16:18:53.243Z"
   },
   {
    "duration": 5,
    "start_time": "2025-04-27T16:18:53.443Z"
   },
   {
    "duration": 6,
    "start_time": "2025-04-27T16:18:53.714Z"
   },
   {
    "duration": 176,
    "start_time": "2025-04-27T16:18:54.475Z"
   },
   {
    "duration": 138,
    "start_time": "2025-04-27T16:18:55.059Z"
   },
   {
    "duration": 292,
    "start_time": "2025-04-27T16:18:55.611Z"
   },
   {
    "duration": 8,
    "start_time": "2025-04-27T16:18:55.905Z"
   },
   {
    "duration": 8,
    "start_time": "2025-04-27T16:18:56.442Z"
   },
   {
    "duration": 685,
    "start_time": "2025-04-27T16:18:56.603Z"
   },
   {
    "duration": 7,
    "start_time": "2025-04-27T16:18:57.955Z"
   },
   {
    "duration": 183,
    "start_time": "2025-04-27T16:18:58.179Z"
   },
   {
    "duration": 13,
    "start_time": "2025-04-27T16:18:58.866Z"
   },
   {
    "duration": 11,
    "start_time": "2025-04-27T16:18:59.011Z"
   },
   {
    "duration": 14,
    "start_time": "2025-04-27T16:18:59.171Z"
   },
   {
    "duration": 18,
    "start_time": "2025-04-27T16:18:59.554Z"
   },
   {
    "duration": 8,
    "start_time": "2025-04-27T16:18:59.715Z"
   },
   {
    "duration": 8,
    "start_time": "2025-04-27T16:18:59.962Z"
   },
   {
    "duration": 362,
    "start_time": "2025-04-27T16:19:00.075Z"
   },
   {
    "duration": 15,
    "start_time": "2025-04-27T16:19:00.439Z"
   },
   {
    "duration": 9,
    "start_time": "2025-04-27T16:19:00.457Z"
   },
   {
    "duration": 8,
    "start_time": "2025-04-27T16:19:00.610Z"
   },
   {
    "duration": 360,
    "start_time": "2025-04-27T16:19:00.762Z"
   },
   {
    "duration": 38,
    "start_time": "2025-04-27T16:19:01.346Z"
   },
   {
    "duration": 13,
    "start_time": "2025-04-27T16:19:01.466Z"
   },
   {
    "duration": 5,
    "start_time": "2025-04-27T16:19:02.458Z"
   },
   {
    "duration": 5,
    "start_time": "2025-04-27T16:19:02.866Z"
   },
   {
    "duration": 9,
    "start_time": "2025-04-27T16:19:03.386Z"
   },
   {
    "duration": 60,
    "start_time": "2025-04-27T18:07:21.476Z"
   },
   {
    "duration": 7,
    "start_time": "2025-04-27T18:07:21.633Z"
   },
   {
    "duration": 7,
    "start_time": "2025-04-27T18:07:21.819Z"
   },
   {
    "duration": 7,
    "start_time": "2025-04-27T18:07:21.947Z"
   },
   {
    "duration": 1276,
    "start_time": "2025-04-27T18:07:29.808Z"
   },
   {
    "duration": 31,
    "start_time": "2025-04-27T18:07:31.090Z"
   },
   {
    "duration": 17,
    "start_time": "2025-04-27T18:07:31.123Z"
   },
   {
    "duration": 304,
    "start_time": "2025-04-27T18:07:31.143Z"
   },
   {
    "duration": 42,
    "start_time": "2025-04-27T18:07:31.449Z"
   },
   {
    "duration": 16,
    "start_time": "2025-04-27T18:07:31.493Z"
   },
   {
    "duration": 440,
    "start_time": "2025-04-27T18:07:31.511Z"
   },
   {
    "duration": 22,
    "start_time": "2025-04-27T18:07:31.953Z"
   },
   {
    "duration": 110,
    "start_time": "2025-04-27T18:07:31.979Z"
   },
   {
    "duration": 28,
    "start_time": "2025-04-27T18:07:32.096Z"
   },
   {
    "duration": 155,
    "start_time": "2025-04-27T18:07:32.126Z"
   },
   {
    "duration": 28,
    "start_time": "2025-04-27T18:07:32.282Z"
   },
   {
    "duration": 33,
    "start_time": "2025-04-27T18:07:32.311Z"
   },
   {
    "duration": 23,
    "start_time": "2025-04-27T18:07:32.346Z"
   },
   {
    "duration": 29,
    "start_time": "2025-04-27T18:07:32.371Z"
   },
   {
    "duration": 28,
    "start_time": "2025-04-27T18:07:32.403Z"
   },
   {
    "duration": 120,
    "start_time": "2025-04-27T18:07:32.433Z"
   },
   {
    "duration": 7,
    "start_time": "2025-04-27T18:07:32.556Z"
   },
   {
    "duration": 166,
    "start_time": "2025-04-27T18:07:32.565Z"
   },
   {
    "duration": 253,
    "start_time": "2025-04-27T18:07:32.733Z"
   },
   {
    "duration": 165,
    "start_time": "2025-04-27T18:07:32.990Z"
   },
   {
    "duration": 437,
    "start_time": "2025-04-27T18:07:33.157Z"
   },
   {
    "duration": 10,
    "start_time": "2025-04-27T18:07:33.596Z"
   },
   {
    "duration": 27,
    "start_time": "2025-04-27T18:07:33.608Z"
   },
   {
    "duration": 756,
    "start_time": "2025-04-27T18:07:33.637Z"
   },
   {
    "duration": 9,
    "start_time": "2025-04-27T18:07:34.395Z"
   },
   {
    "duration": 313,
    "start_time": "2025-04-27T18:07:34.406Z"
   },
   {
    "duration": 16,
    "start_time": "2025-04-27T18:07:34.723Z"
   },
   {
    "duration": 49,
    "start_time": "2025-04-27T18:07:34.741Z"
   },
   {
    "duration": 53,
    "start_time": "2025-04-27T18:07:34.792Z"
   },
   {
    "duration": 27,
    "start_time": "2025-04-27T18:07:34.847Z"
   },
   {
    "duration": 24,
    "start_time": "2025-04-27T18:07:34.881Z"
   },
   {
    "duration": 25,
    "start_time": "2025-04-27T18:07:34.907Z"
   },
   {
    "duration": 438,
    "start_time": "2025-04-27T18:07:34.935Z"
   },
   {
    "duration": 25,
    "start_time": "2025-04-27T18:07:35.376Z"
   },
   {
    "duration": 59,
    "start_time": "2025-04-27T18:07:35.403Z"
   },
   {
    "duration": 52,
    "start_time": "2025-04-27T18:07:35.464Z"
   },
   {
    "duration": 540,
    "start_time": "2025-04-27T18:07:35.518Z"
   },
   {
    "duration": 199,
    "start_time": "2025-04-27T18:07:36.061Z"
   },
   {
    "duration": 20,
    "start_time": "2025-04-27T18:07:36.262Z"
   },
   {
    "duration": 12,
    "start_time": "2025-04-27T18:07:36.286Z"
   },
   {
    "duration": 8,
    "start_time": "2025-04-27T18:07:36.300Z"
   },
   {
    "duration": 47,
    "start_time": "2025-04-27T18:07:36.310Z"
   },
   {
    "duration": 122,
    "start_time": "2025-04-27T18:16:52.274Z"
   },
   {
    "duration": 7,
    "start_time": "2025-04-27T18:17:02.422Z"
   },
   {
    "duration": 12,
    "start_time": "2025-04-27T18:17:04.151Z"
   },
   {
    "duration": 9,
    "start_time": "2025-04-27T18:17:09.284Z"
   },
   {
    "duration": 52,
    "start_time": "2025-04-27T20:00:29.267Z"
   },
   {
    "duration": 1484,
    "start_time": "2025-04-27T20:00:35.922Z"
   },
   {
    "duration": 40,
    "start_time": "2025-04-27T20:00:38.858Z"
   },
   {
    "duration": 16,
    "start_time": "2025-04-27T20:00:39.369Z"
   },
   {
    "duration": 272,
    "start_time": "2025-04-27T20:00:39.681Z"
   },
   {
    "duration": 34,
    "start_time": "2025-04-27T20:00:39.961Z"
   },
   {
    "duration": 19,
    "start_time": "2025-04-27T20:00:40.249Z"
   },
   {
    "duration": 360,
    "start_time": "2025-04-27T20:00:40.514Z"
   },
   {
    "duration": 21,
    "start_time": "2025-04-27T20:00:40.876Z"
   },
   {
    "duration": 15,
    "start_time": "2025-04-27T20:00:40.993Z"
   },
   {
    "duration": 16,
    "start_time": "2025-04-27T20:00:42.337Z"
   },
   {
    "duration": 6,
    "start_time": "2025-04-27T20:00:42.633Z"
   },
   {
    "duration": 9,
    "start_time": "2025-04-27T20:02:59.200Z"
   },
   {
    "duration": 9,
    "start_time": "2025-04-27T20:04:39.176Z"
   },
   {
    "duration": 7,
    "start_time": "2025-04-27T20:04:47.800Z"
   },
   {
    "duration": 6,
    "start_time": "2025-04-27T20:04:48.736Z"
   },
   {
    "duration": 8,
    "start_time": "2025-04-27T20:04:49.504Z"
   },
   {
    "duration": 4,
    "start_time": "2025-04-27T20:04:56.831Z"
   },
   {
    "duration": 23,
    "start_time": "2025-04-27T20:04:57.679Z"
   },
   {
    "duration": 14,
    "start_time": "2025-04-27T20:04:58.128Z"
   },
   {
    "duration": 254,
    "start_time": "2025-04-27T20:04:58.424Z"
   },
   {
    "duration": 35,
    "start_time": "2025-04-27T20:04:58.719Z"
   },
   {
    "duration": 16,
    "start_time": "2025-04-27T20:04:58.935Z"
   },
   {
    "duration": 351,
    "start_time": "2025-04-27T20:04:59.167Z"
   },
   {
    "duration": 20,
    "start_time": "2025-04-27T20:04:59.520Z"
   },
   {
    "duration": 15,
    "start_time": "2025-04-27T20:04:59.622Z"
   },
   {
    "duration": 16,
    "start_time": "2025-04-27T20:05:00.815Z"
   },
   {
    "duration": 6,
    "start_time": "2025-04-27T20:05:01.167Z"
   },
   {
    "duration": 22,
    "start_time": "2025-04-27T20:05:02.038Z"
   },
   {
    "duration": 98,
    "start_time": "2025-04-27T20:05:02.543Z"
   },
   {
    "duration": 6,
    "start_time": "2025-04-27T20:05:03.271Z"
   },
   {
    "duration": 10,
    "start_time": "2025-04-27T20:05:03.831Z"
   },
   {
    "duration": 6,
    "start_time": "2025-04-27T20:05:04.550Z"
   },
   {
    "duration": 11,
    "start_time": "2025-04-27T20:05:05.239Z"
   },
   {
    "duration": 69,
    "start_time": "2025-04-27T20:06:35.232Z"
   },
   {
    "duration": 9,
    "start_time": "2025-04-27T20:06:42.816Z"
   },
   {
    "duration": 1246,
    "start_time": "2025-04-28T17:31:09.668Z"
   },
   {
    "duration": 39,
    "start_time": "2025-04-28T17:31:11.466Z"
   },
   {
    "duration": 14,
    "start_time": "2025-04-28T17:31:11.930Z"
   },
   {
    "duration": 222,
    "start_time": "2025-04-28T17:31:12.267Z"
   },
   {
    "duration": 34,
    "start_time": "2025-04-28T17:31:12.594Z"
   },
   {
    "duration": 15,
    "start_time": "2025-04-28T17:31:12.826Z"
   },
   {
    "duration": 294,
    "start_time": "2025-04-28T17:31:13.058Z"
   },
   {
    "duration": 20,
    "start_time": "2025-04-28T17:31:13.410Z"
   },
   {
    "duration": 12,
    "start_time": "2025-04-28T17:31:13.570Z"
   },
   {
    "duration": 16,
    "start_time": "2025-04-28T17:31:14.130Z"
   },
   {
    "duration": 5,
    "start_time": "2025-04-28T17:31:14.290Z"
   },
   {
    "duration": 19,
    "start_time": "2025-04-28T17:31:14.649Z"
   },
   {
    "duration": 19,
    "start_time": "2025-04-28T17:31:14.833Z"
   },
   {
    "duration": 6,
    "start_time": "2025-04-28T17:31:15.042Z"
   },
   {
    "duration": 6,
    "start_time": "2025-04-28T17:31:15.307Z"
   },
   {
    "duration": 5,
    "start_time": "2025-04-28T17:31:15.810Z"
   },
   {
    "duration": 8,
    "start_time": "2025-04-28T17:31:16.298Z"
   },
   {
    "duration": 9,
    "start_time": "2025-04-28T17:31:17.098Z"
   },
   {
    "duration": 4,
    "start_time": "2025-04-28T17:31:17.953Z"
   },
   {
    "duration": 7,
    "start_time": "2025-04-28T17:31:18.394Z"
   },
   {
    "duration": 5,
    "start_time": "2025-04-28T17:31:18.930Z"
   },
   {
    "duration": 5,
    "start_time": "2025-04-28T17:31:19.217Z"
   },
   {
    "duration": 167,
    "start_time": "2025-04-28T17:31:21.746Z"
   },
   {
    "duration": 12,
    "start_time": "2025-04-28T17:32:12.390Z"
   },
   {
    "duration": 98,
    "start_time": "2025-04-28T17:33:09.978Z"
   },
   {
    "duration": 85,
    "start_time": "2025-04-28T17:33:39.856Z"
   },
   {
    "duration": 108,
    "start_time": "2025-04-28T17:33:47.071Z"
   },
   {
    "duration": 481,
    "start_time": "2025-04-28T17:35:59.374Z"
   },
   {
    "duration": 411,
    "start_time": "2025-04-28T17:37:06.497Z"
   },
   {
    "duration": 360,
    "start_time": "2025-04-28T17:37:28.271Z"
   },
   {
    "duration": 185,
    "start_time": "2025-04-28T17:37:49.654Z"
   },
   {
    "duration": 390,
    "start_time": "2025-04-28T17:38:11.612Z"
   },
   {
    "duration": 441,
    "start_time": "2025-04-28T17:38:28.618Z"
   },
   {
    "duration": 436,
    "start_time": "2025-04-28T17:38:46.673Z"
   },
   {
    "duration": 10,
    "start_time": "2025-04-28T17:40:46.488Z"
   },
   {
    "duration": 13,
    "start_time": "2025-04-28T17:40:55.759Z"
   },
   {
    "duration": 11,
    "start_time": "2025-04-28T17:40:56.112Z"
   },
   {
    "duration": 13,
    "start_time": "2025-04-28T17:40:56.528Z"
   },
   {
    "duration": 16,
    "start_time": "2025-04-28T17:40:57.855Z"
   },
   {
    "duration": 12,
    "start_time": "2025-04-28T17:40:58.279Z"
   },
   {
    "duration": 8,
    "start_time": "2025-04-28T17:40:58.679Z"
   },
   {
    "duration": 261,
    "start_time": "2025-04-28T17:40:59.328Z"
   },
   {
    "duration": 263,
    "start_time": "2025-04-28T17:43:10.846Z"
   },
   {
    "duration": 316,
    "start_time": "2025-04-28T17:43:58.011Z"
   },
   {
    "duration": 282,
    "start_time": "2025-04-28T17:44:49.951Z"
   },
   {
    "duration": 592,
    "start_time": "2025-04-28T17:44:58.334Z"
   },
   {
    "duration": 232,
    "start_time": "2025-04-28T17:45:03.062Z"
   },
   {
    "duration": 218,
    "start_time": "2025-04-28T17:45:06.973Z"
   },
   {
    "duration": 174,
    "start_time": "2025-04-28T17:45:25.261Z"
   },
   {
    "duration": 14,
    "start_time": "2025-04-28T17:45:44.027Z"
   },
   {
    "duration": 8,
    "start_time": "2025-04-28T17:45:45.235Z"
   },
   {
    "duration": 13,
    "start_time": "2025-04-28T17:45:59.555Z"
   },
   {
    "duration": 8,
    "start_time": "2025-04-28T17:46:01.202Z"
   },
   {
    "duration": 7,
    "start_time": "2025-04-28T17:46:01.658Z"
   },
   {
    "duration": 192,
    "start_time": "2025-04-28T17:47:07.533Z"
   },
   {
    "duration": 224,
    "start_time": "2025-04-28T17:47:17.988Z"
   },
   {
    "duration": 803,
    "start_time": "2025-04-28T17:47:28.267Z"
   },
   {
    "duration": 254,
    "start_time": "2025-04-28T17:47:36.467Z"
   },
   {
    "duration": 243,
    "start_time": "2025-04-28T17:48:12.721Z"
   },
   {
    "duration": 378,
    "start_time": "2025-04-28T17:48:19.112Z"
   },
   {
    "duration": 301,
    "start_time": "2025-04-28T17:49:17.868Z"
   },
   {
    "duration": 269,
    "start_time": "2025-04-28T17:49:45.562Z"
   },
   {
    "duration": 280,
    "start_time": "2025-04-28T17:49:46.057Z"
   },
   {
    "duration": 245,
    "start_time": "2025-04-28T17:50:19.416Z"
   },
   {
    "duration": 38,
    "start_time": "2025-04-28T17:53:13.676Z"
   },
   {
    "duration": 10,
    "start_time": "2025-04-28T17:53:15.571Z"
   },
   {
    "duration": 8,
    "start_time": "2025-04-28T17:53:35.097Z"
   },
   {
    "duration": 75,
    "start_time": "2025-04-28T17:53:59.000Z"
   },
   {
    "duration": 5,
    "start_time": "2025-04-28T18:24:32.123Z"
   },
   {
    "duration": 1298,
    "start_time": "2025-04-28T18:25:52.085Z"
   },
   {
    "duration": 1145,
    "start_time": "2025-04-28T18:26:31.610Z"
   },
   {
    "duration": 1079,
    "start_time": "2025-04-28T18:29:49.428Z"
   },
   {
    "duration": 71,
    "start_time": "2025-04-28T18:40:08.581Z"
   },
   {
    "duration": 1058,
    "start_time": "2025-04-28T18:40:12.191Z"
   },
   {
    "duration": 1151,
    "start_time": "2025-04-28T18:40:31.892Z"
   },
   {
    "duration": 37,
    "start_time": "2025-04-28T18:40:42.212Z"
   },
   {
    "duration": 12,
    "start_time": "2025-04-28T18:40:43.051Z"
   },
   {
    "duration": 7,
    "start_time": "2025-04-28T18:40:43.459Z"
   },
   {
    "duration": 12,
    "start_time": "2025-04-28T18:40:44.643Z"
   },
   {
    "duration": 4,
    "start_time": "2025-04-28T18:40:45.452Z"
   },
   {
    "duration": 1234,
    "start_time": "2025-04-28T20:57:56.680Z"
   },
   {
    "duration": 29,
    "start_time": "2025-04-28T20:57:57.916Z"
   },
   {
    "duration": 52,
    "start_time": "2025-04-28T20:57:57.947Z"
   },
   {
    "duration": 293,
    "start_time": "2025-04-28T20:57:58.001Z"
   },
   {
    "duration": 34,
    "start_time": "2025-04-28T20:57:58.296Z"
   },
   {
    "duration": 15,
    "start_time": "2025-04-28T20:57:58.332Z"
   },
   {
    "duration": 370,
    "start_time": "2025-04-28T20:57:58.362Z"
   },
   {
    "duration": 21,
    "start_time": "2025-04-28T20:57:58.733Z"
   },
   {
    "duration": 17,
    "start_time": "2025-04-28T20:57:58.756Z"
   },
   {
    "duration": 53,
    "start_time": "2025-04-28T20:57:58.775Z"
   },
   {
    "duration": 31,
    "start_time": "2025-04-28T20:57:58.830Z"
   },
   {
    "duration": 23,
    "start_time": "2025-04-28T20:57:58.863Z"
   },
   {
    "duration": 20,
    "start_time": "2025-04-28T20:57:58.888Z"
   },
   {
    "duration": 71,
    "start_time": "2025-04-28T20:57:58.910Z"
   },
   {
    "duration": 105,
    "start_time": "2025-04-28T20:57:58.983Z"
   },
   {
    "duration": 8,
    "start_time": "2025-04-28T20:57:59.089Z"
   },
   {
    "duration": 14,
    "start_time": "2025-04-28T20:57:59.099Z"
   },
   {
    "duration": 15,
    "start_time": "2025-04-28T20:57:59.115Z"
   },
   {
    "duration": 7,
    "start_time": "2025-04-28T20:57:59.131Z"
   },
   {
    "duration": 74,
    "start_time": "2025-04-28T20:57:59.139Z"
   },
   {
    "duration": 165,
    "start_time": "2025-04-28T20:57:59.215Z"
   },
   {
    "duration": 31,
    "start_time": "2025-04-28T20:57:59.382Z"
   },
   {
    "duration": 216,
    "start_time": "2025-04-28T20:57:59.415Z"
   },
   {
    "duration": 14,
    "start_time": "2025-04-28T20:57:59.632Z"
   },
   {
    "duration": 337,
    "start_time": "2025-04-28T20:57:59.647Z"
   },
   {
    "duration": 407,
    "start_time": "2025-04-28T20:57:59.986Z"
   },
   {
    "duration": 10,
    "start_time": "2025-04-28T20:58:00.395Z"
   },
   {
    "duration": 46,
    "start_time": "2025-04-28T20:58:00.409Z"
   },
   {
    "duration": 741,
    "start_time": "2025-04-28T20:58:00.457Z"
   },
   {
    "duration": 8,
    "start_time": "2025-04-28T20:58:01.200Z"
   },
   {
    "duration": 608,
    "start_time": "2025-04-28T20:58:01.209Z"
   },
   {
    "duration": 15,
    "start_time": "2025-04-28T20:58:01.819Z"
   },
   {
    "duration": 72,
    "start_time": "2025-04-28T20:58:01.835Z"
   },
   {
    "duration": 150,
    "start_time": "2025-04-28T20:58:01.909Z"
   },
   {
    "duration": 39,
    "start_time": "2025-04-28T20:58:02.061Z"
   },
   {
    "duration": 25,
    "start_time": "2025-04-28T20:58:02.101Z"
   },
   {
    "duration": 56,
    "start_time": "2025-04-28T20:58:02.128Z"
   },
   {
    "duration": 51,
    "start_time": "2025-04-28T20:58:02.186Z"
   },
   {
    "duration": 32,
    "start_time": "2025-04-28T20:58:02.238Z"
   },
   {
    "duration": 21,
    "start_time": "2025-04-28T20:58:02.272Z"
   },
   {
    "duration": 367,
    "start_time": "2025-04-28T20:58:02.294Z"
   },
   {
    "duration": 406,
    "start_time": "2025-04-28T20:58:02.662Z"
   },
   {
    "duration": 40,
    "start_time": "2025-04-28T20:58:03.070Z"
   },
   {
    "duration": 12,
    "start_time": "2025-04-28T20:58:03.111Z"
   },
   {
    "duration": 101,
    "start_time": "2025-04-28T20:58:03.125Z"
   },
   {
    "duration": 182,
    "start_time": "2025-04-28T20:58:03.228Z"
   },
   {
    "duration": 80,
    "start_time": "2025-04-28T20:58:03.412Z"
   },
   {
    "duration": 85,
    "start_time": "2025-04-28T20:58:03.493Z"
   },
   {
    "duration": 277,
    "start_time": "2025-04-28T20:58:03.580Z"
   },
   {
    "duration": 27,
    "start_time": "2025-04-28T20:58:03.859Z"
   },
   {
    "duration": 278,
    "start_time": "2025-04-28T20:59:55.024Z"
   }
  ],
  "kernelspec": {
   "display_name": "practicum",
   "language": "python",
   "name": "python3"
  },
  "language_info": {
   "codemirror_mode": {
    "name": "ipython",
    "version": 3
   },
   "file_extension": ".py",
   "mimetype": "text/x-python",
   "name": "python",
   "nbconvert_exporter": "python",
   "pygments_lexer": "ipython3",
   "version": "3.9.21"
  },
  "toc": {
   "base_numbering": 1,
   "nav_menu": {},
   "number_sections": true,
   "sideBar": true,
   "skip_h1_title": true,
   "title_cell": "Table of Contents",
   "title_sidebar": "Contents",
   "toc_cell": false,
   "toc_position": {},
   "toc_section_display": true,
   "toc_window_display": false
  }
 },
 "nbformat": 4,
 "nbformat_minor": 5
}
