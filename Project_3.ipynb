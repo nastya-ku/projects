{
 "cells": [
  {
   "cell_type": "markdown",
   "metadata": {
    "id": "-VFbjcb3Awb7"
   },
   "source": [
    "# Исследование объявлений о продаже квартир\n",
    "\n",
    "В вашем распоряжении данные сервиса Яндекс Недвижимость — архив объявлений о продаже квартир в Санкт-Петербурге и соседних населённых пунктах за несколько лет. Вам нужно научиться определять рыночную стоимость объектов недвижимости. Для этого проведите исследовательский анализ данных и установите параметры, влияющие на цену объектов. Это позволит построить автоматизированную систему: она отследит аномалии и мошенническую деятельность.\n",
    "\n",
    "По каждой квартире на продажу доступны два вида данных. Первые вписаны пользователем, вторые — получены автоматически на основе картографических данных. Например, расстояние до центра, аэропорта и других объектов — эти данные автоматически получены из геосервисов. Количество парков и водоёмов также заполняется без участия пользователя."
   ]
  },
  {
   "cell_type": "markdown",
   "metadata": {
    "id": "aeFLH07FAwb9"
   },
   "source": [
    "### Изучение общей информации"
   ]
  },
  {
   "cell_type": "code",
   "execution_count": 3,
   "metadata": {
    "id": "7MZxY65pAwb9"
   },
   "outputs": [],
   "source": [
    "import pandas as pd #импротируем библиотеку pandas"
   ]
  },
  {
   "cell_type": "code",
   "execution_count": 4,
   "metadata": {},
   "outputs": [],
   "source": [
    "#загружаем данные объявлений о продаже квартир\n",
    "try:\n",
    "    data = pd.read_csv('/datasets/real_estate_data.csv', sep='\\t')\n",
    "except:\n",
    "    data = pd.read_csv('https://code.s3.yandex.net/datasets/real_estate_data.csv', sep='\\t')"
   ]
  },
  {
   "cell_type": "code",
   "execution_count": 5,
   "metadata": {},
   "outputs": [
    {
     "data": {
      "text/html": [
       "<div>\n",
       "<style scoped>\n",
       "    .dataframe tbody tr th:only-of-type {\n",
       "        vertical-align: middle;\n",
       "    }\n",
       "\n",
       "    .dataframe tbody tr th {\n",
       "        vertical-align: top;\n",
       "    }\n",
       "\n",
       "    .dataframe thead th {\n",
       "        text-align: right;\n",
       "    }\n",
       "</style>\n",
       "<table border=\"1\" class=\"dataframe\">\n",
       "  <thead>\n",
       "    <tr style=\"text-align: right;\">\n",
       "      <th></th>\n",
       "      <th>total_images</th>\n",
       "      <th>last_price</th>\n",
       "      <th>total_area</th>\n",
       "      <th>first_day_exposition</th>\n",
       "      <th>rooms</th>\n",
       "      <th>ceiling_height</th>\n",
       "      <th>floors_total</th>\n",
       "      <th>living_area</th>\n",
       "      <th>floor</th>\n",
       "      <th>is_apartment</th>\n",
       "      <th>...</th>\n",
       "      <th>kitchen_area</th>\n",
       "      <th>balcony</th>\n",
       "      <th>locality_name</th>\n",
       "      <th>airports_nearest</th>\n",
       "      <th>cityCenters_nearest</th>\n",
       "      <th>parks_around3000</th>\n",
       "      <th>parks_nearest</th>\n",
       "      <th>ponds_around3000</th>\n",
       "      <th>ponds_nearest</th>\n",
       "      <th>days_exposition</th>\n",
       "    </tr>\n",
       "  </thead>\n",
       "  <tbody>\n",
       "    <tr>\n",
       "      <th>0</th>\n",
       "      <td>20</td>\n",
       "      <td>13000000.0</td>\n",
       "      <td>108.00</td>\n",
       "      <td>2019-03-07T00:00:00</td>\n",
       "      <td>3</td>\n",
       "      <td>2.70</td>\n",
       "      <td>16.0</td>\n",
       "      <td>51.00</td>\n",
       "      <td>8</td>\n",
       "      <td>NaN</td>\n",
       "      <td>...</td>\n",
       "      <td>25.00</td>\n",
       "      <td>NaN</td>\n",
       "      <td>Санкт-Петербург</td>\n",
       "      <td>18863.0</td>\n",
       "      <td>16028.0</td>\n",
       "      <td>1.0</td>\n",
       "      <td>482.0</td>\n",
       "      <td>2.0</td>\n",
       "      <td>755.0</td>\n",
       "      <td>NaN</td>\n",
       "    </tr>\n",
       "    <tr>\n",
       "      <th>1</th>\n",
       "      <td>7</td>\n",
       "      <td>3350000.0</td>\n",
       "      <td>40.40</td>\n",
       "      <td>2018-12-04T00:00:00</td>\n",
       "      <td>1</td>\n",
       "      <td>NaN</td>\n",
       "      <td>11.0</td>\n",
       "      <td>18.60</td>\n",
       "      <td>1</td>\n",
       "      <td>NaN</td>\n",
       "      <td>...</td>\n",
       "      <td>11.00</td>\n",
       "      <td>2.0</td>\n",
       "      <td>посёлок Шушары</td>\n",
       "      <td>12817.0</td>\n",
       "      <td>18603.0</td>\n",
       "      <td>0.0</td>\n",
       "      <td>NaN</td>\n",
       "      <td>0.0</td>\n",
       "      <td>NaN</td>\n",
       "      <td>81.0</td>\n",
       "    </tr>\n",
       "    <tr>\n",
       "      <th>2</th>\n",
       "      <td>10</td>\n",
       "      <td>5196000.0</td>\n",
       "      <td>56.00</td>\n",
       "      <td>2015-08-20T00:00:00</td>\n",
       "      <td>2</td>\n",
       "      <td>NaN</td>\n",
       "      <td>5.0</td>\n",
       "      <td>34.30</td>\n",
       "      <td>4</td>\n",
       "      <td>NaN</td>\n",
       "      <td>...</td>\n",
       "      <td>8.30</td>\n",
       "      <td>0.0</td>\n",
       "      <td>Санкт-Петербург</td>\n",
       "      <td>21741.0</td>\n",
       "      <td>13933.0</td>\n",
       "      <td>1.0</td>\n",
       "      <td>90.0</td>\n",
       "      <td>2.0</td>\n",
       "      <td>574.0</td>\n",
       "      <td>558.0</td>\n",
       "    </tr>\n",
       "    <tr>\n",
       "      <th>3</th>\n",
       "      <td>0</td>\n",
       "      <td>64900000.0</td>\n",
       "      <td>159.00</td>\n",
       "      <td>2015-07-24T00:00:00</td>\n",
       "      <td>3</td>\n",
       "      <td>NaN</td>\n",
       "      <td>14.0</td>\n",
       "      <td>NaN</td>\n",
       "      <td>9</td>\n",
       "      <td>NaN</td>\n",
       "      <td>...</td>\n",
       "      <td>NaN</td>\n",
       "      <td>0.0</td>\n",
       "      <td>Санкт-Петербург</td>\n",
       "      <td>28098.0</td>\n",
       "      <td>6800.0</td>\n",
       "      <td>2.0</td>\n",
       "      <td>84.0</td>\n",
       "      <td>3.0</td>\n",
       "      <td>234.0</td>\n",
       "      <td>424.0</td>\n",
       "    </tr>\n",
       "    <tr>\n",
       "      <th>4</th>\n",
       "      <td>2</td>\n",
       "      <td>10000000.0</td>\n",
       "      <td>100.00</td>\n",
       "      <td>2018-06-19T00:00:00</td>\n",
       "      <td>2</td>\n",
       "      <td>3.03</td>\n",
       "      <td>14.0</td>\n",
       "      <td>32.00</td>\n",
       "      <td>13</td>\n",
       "      <td>NaN</td>\n",
       "      <td>...</td>\n",
       "      <td>41.00</td>\n",
       "      <td>NaN</td>\n",
       "      <td>Санкт-Петербург</td>\n",
       "      <td>31856.0</td>\n",
       "      <td>8098.0</td>\n",
       "      <td>2.0</td>\n",
       "      <td>112.0</td>\n",
       "      <td>1.0</td>\n",
       "      <td>48.0</td>\n",
       "      <td>121.0</td>\n",
       "    </tr>\n",
       "    <tr>\n",
       "      <th>5</th>\n",
       "      <td>10</td>\n",
       "      <td>2890000.0</td>\n",
       "      <td>30.40</td>\n",
       "      <td>2018-09-10T00:00:00</td>\n",
       "      <td>1</td>\n",
       "      <td>NaN</td>\n",
       "      <td>12.0</td>\n",
       "      <td>14.40</td>\n",
       "      <td>5</td>\n",
       "      <td>NaN</td>\n",
       "      <td>...</td>\n",
       "      <td>9.10</td>\n",
       "      <td>NaN</td>\n",
       "      <td>городской посёлок Янино-1</td>\n",
       "      <td>NaN</td>\n",
       "      <td>NaN</td>\n",
       "      <td>NaN</td>\n",
       "      <td>NaN</td>\n",
       "      <td>NaN</td>\n",
       "      <td>NaN</td>\n",
       "      <td>55.0</td>\n",
       "    </tr>\n",
       "    <tr>\n",
       "      <th>6</th>\n",
       "      <td>6</td>\n",
       "      <td>3700000.0</td>\n",
       "      <td>37.30</td>\n",
       "      <td>2017-11-02T00:00:00</td>\n",
       "      <td>1</td>\n",
       "      <td>NaN</td>\n",
       "      <td>26.0</td>\n",
       "      <td>10.60</td>\n",
       "      <td>6</td>\n",
       "      <td>NaN</td>\n",
       "      <td>...</td>\n",
       "      <td>14.40</td>\n",
       "      <td>1.0</td>\n",
       "      <td>посёлок Парголово</td>\n",
       "      <td>52996.0</td>\n",
       "      <td>19143.0</td>\n",
       "      <td>0.0</td>\n",
       "      <td>NaN</td>\n",
       "      <td>0.0</td>\n",
       "      <td>NaN</td>\n",
       "      <td>155.0</td>\n",
       "    </tr>\n",
       "    <tr>\n",
       "      <th>7</th>\n",
       "      <td>5</td>\n",
       "      <td>7915000.0</td>\n",
       "      <td>71.60</td>\n",
       "      <td>2019-04-18T00:00:00</td>\n",
       "      <td>2</td>\n",
       "      <td>NaN</td>\n",
       "      <td>24.0</td>\n",
       "      <td>NaN</td>\n",
       "      <td>22</td>\n",
       "      <td>NaN</td>\n",
       "      <td>...</td>\n",
       "      <td>18.90</td>\n",
       "      <td>2.0</td>\n",
       "      <td>Санкт-Петербург</td>\n",
       "      <td>23982.0</td>\n",
       "      <td>11634.0</td>\n",
       "      <td>0.0</td>\n",
       "      <td>NaN</td>\n",
       "      <td>0.0</td>\n",
       "      <td>NaN</td>\n",
       "      <td>NaN</td>\n",
       "    </tr>\n",
       "    <tr>\n",
       "      <th>8</th>\n",
       "      <td>20</td>\n",
       "      <td>2900000.0</td>\n",
       "      <td>33.16</td>\n",
       "      <td>2018-05-23T00:00:00</td>\n",
       "      <td>1</td>\n",
       "      <td>NaN</td>\n",
       "      <td>27.0</td>\n",
       "      <td>15.43</td>\n",
       "      <td>26</td>\n",
       "      <td>NaN</td>\n",
       "      <td>...</td>\n",
       "      <td>8.81</td>\n",
       "      <td>NaN</td>\n",
       "      <td>посёлок Мурино</td>\n",
       "      <td>NaN</td>\n",
       "      <td>NaN</td>\n",
       "      <td>NaN</td>\n",
       "      <td>NaN</td>\n",
       "      <td>NaN</td>\n",
       "      <td>NaN</td>\n",
       "      <td>189.0</td>\n",
       "    </tr>\n",
       "    <tr>\n",
       "      <th>9</th>\n",
       "      <td>18</td>\n",
       "      <td>5400000.0</td>\n",
       "      <td>61.00</td>\n",
       "      <td>2017-02-26T00:00:00</td>\n",
       "      <td>3</td>\n",
       "      <td>2.50</td>\n",
       "      <td>9.0</td>\n",
       "      <td>43.60</td>\n",
       "      <td>7</td>\n",
       "      <td>NaN</td>\n",
       "      <td>...</td>\n",
       "      <td>6.50</td>\n",
       "      <td>2.0</td>\n",
       "      <td>Санкт-Петербург</td>\n",
       "      <td>50898.0</td>\n",
       "      <td>15008.0</td>\n",
       "      <td>0.0</td>\n",
       "      <td>NaN</td>\n",
       "      <td>0.0</td>\n",
       "      <td>NaN</td>\n",
       "      <td>289.0</td>\n",
       "    </tr>\n",
       "    <tr>\n",
       "      <th>10</th>\n",
       "      <td>5</td>\n",
       "      <td>5050000.0</td>\n",
       "      <td>39.60</td>\n",
       "      <td>2017-11-16T00:00:00</td>\n",
       "      <td>1</td>\n",
       "      <td>2.67</td>\n",
       "      <td>12.0</td>\n",
       "      <td>20.30</td>\n",
       "      <td>3</td>\n",
       "      <td>NaN</td>\n",
       "      <td>...</td>\n",
       "      <td>8.50</td>\n",
       "      <td>NaN</td>\n",
       "      <td>Санкт-Петербург</td>\n",
       "      <td>38357.0</td>\n",
       "      <td>13878.0</td>\n",
       "      <td>1.0</td>\n",
       "      <td>310.0</td>\n",
       "      <td>2.0</td>\n",
       "      <td>553.0</td>\n",
       "      <td>137.0</td>\n",
       "    </tr>\n",
       "    <tr>\n",
       "      <th>11</th>\n",
       "      <td>9</td>\n",
       "      <td>3300000.0</td>\n",
       "      <td>44.00</td>\n",
       "      <td>2018-08-27T00:00:00</td>\n",
       "      <td>2</td>\n",
       "      <td>NaN</td>\n",
       "      <td>5.0</td>\n",
       "      <td>31.00</td>\n",
       "      <td>4</td>\n",
       "      <td>False</td>\n",
       "      <td>...</td>\n",
       "      <td>6.00</td>\n",
       "      <td>1.0</td>\n",
       "      <td>Ломоносов</td>\n",
       "      <td>48252.0</td>\n",
       "      <td>51677.0</td>\n",
       "      <td>0.0</td>\n",
       "      <td>NaN</td>\n",
       "      <td>0.0</td>\n",
       "      <td>NaN</td>\n",
       "      <td>7.0</td>\n",
       "    </tr>\n",
       "    <tr>\n",
       "      <th>12</th>\n",
       "      <td>10</td>\n",
       "      <td>3890000.0</td>\n",
       "      <td>54.00</td>\n",
       "      <td>2016-06-30T00:00:00</td>\n",
       "      <td>2</td>\n",
       "      <td>NaN</td>\n",
       "      <td>5.0</td>\n",
       "      <td>30.00</td>\n",
       "      <td>5</td>\n",
       "      <td>NaN</td>\n",
       "      <td>...</td>\n",
       "      <td>9.00</td>\n",
       "      <td>0.0</td>\n",
       "      <td>Сертолово</td>\n",
       "      <td>NaN</td>\n",
       "      <td>NaN</td>\n",
       "      <td>NaN</td>\n",
       "      <td>NaN</td>\n",
       "      <td>NaN</td>\n",
       "      <td>NaN</td>\n",
       "      <td>90.0</td>\n",
       "    </tr>\n",
       "    <tr>\n",
       "      <th>13</th>\n",
       "      <td>20</td>\n",
       "      <td>3550000.0</td>\n",
       "      <td>42.80</td>\n",
       "      <td>2017-07-01T00:00:00</td>\n",
       "      <td>2</td>\n",
       "      <td>2.56</td>\n",
       "      <td>5.0</td>\n",
       "      <td>27.00</td>\n",
       "      <td>5</td>\n",
       "      <td>NaN</td>\n",
       "      <td>...</td>\n",
       "      <td>5.20</td>\n",
       "      <td>1.0</td>\n",
       "      <td>Петергоф</td>\n",
       "      <td>37868.0</td>\n",
       "      <td>33058.0</td>\n",
       "      <td>1.0</td>\n",
       "      <td>294.0</td>\n",
       "      <td>3.0</td>\n",
       "      <td>298.0</td>\n",
       "      <td>366.0</td>\n",
       "    </tr>\n",
       "    <tr>\n",
       "      <th>14</th>\n",
       "      <td>1</td>\n",
       "      <td>4400000.0</td>\n",
       "      <td>36.00</td>\n",
       "      <td>2016-06-23T00:00:00</td>\n",
       "      <td>1</td>\n",
       "      <td>NaN</td>\n",
       "      <td>6.0</td>\n",
       "      <td>17.00</td>\n",
       "      <td>1</td>\n",
       "      <td>NaN</td>\n",
       "      <td>...</td>\n",
       "      <td>8.00</td>\n",
       "      <td>0.0</td>\n",
       "      <td>Пушкин</td>\n",
       "      <td>20782.0</td>\n",
       "      <td>30759.0</td>\n",
       "      <td>0.0</td>\n",
       "      <td>NaN</td>\n",
       "      <td>1.0</td>\n",
       "      <td>96.0</td>\n",
       "      <td>203.0</td>\n",
       "    </tr>\n",
       "    <tr>\n",
       "      <th>15</th>\n",
       "      <td>16</td>\n",
       "      <td>4650000.0</td>\n",
       "      <td>39.00</td>\n",
       "      <td>2017-11-18T00:00:00</td>\n",
       "      <td>1</td>\n",
       "      <td>NaN</td>\n",
       "      <td>14.0</td>\n",
       "      <td>20.50</td>\n",
       "      <td>5</td>\n",
       "      <td>NaN</td>\n",
       "      <td>...</td>\n",
       "      <td>7.60</td>\n",
       "      <td>1.0</td>\n",
       "      <td>Санкт-Петербург</td>\n",
       "      <td>12900.0</td>\n",
       "      <td>14259.0</td>\n",
       "      <td>1.0</td>\n",
       "      <td>590.0</td>\n",
       "      <td>1.0</td>\n",
       "      <td>296.0</td>\n",
       "      <td>19.0</td>\n",
       "    </tr>\n",
       "    <tr>\n",
       "      <th>16</th>\n",
       "      <td>11</td>\n",
       "      <td>6700000.0</td>\n",
       "      <td>82.00</td>\n",
       "      <td>2017-11-23T00:00:00</td>\n",
       "      <td>3</td>\n",
       "      <td>3.05</td>\n",
       "      <td>5.0</td>\n",
       "      <td>55.60</td>\n",
       "      <td>1</td>\n",
       "      <td>NaN</td>\n",
       "      <td>...</td>\n",
       "      <td>9.00</td>\n",
       "      <td>NaN</td>\n",
       "      <td>Санкт-Петербург</td>\n",
       "      <td>22108.0</td>\n",
       "      <td>10698.0</td>\n",
       "      <td>3.0</td>\n",
       "      <td>420.0</td>\n",
       "      <td>0.0</td>\n",
       "      <td>NaN</td>\n",
       "      <td>397.0</td>\n",
       "    </tr>\n",
       "    <tr>\n",
       "      <th>17</th>\n",
       "      <td>6</td>\n",
       "      <td>4180000.0</td>\n",
       "      <td>36.00</td>\n",
       "      <td>2016-09-09T00:00:00</td>\n",
       "      <td>1</td>\n",
       "      <td>NaN</td>\n",
       "      <td>17.0</td>\n",
       "      <td>16.50</td>\n",
       "      <td>7</td>\n",
       "      <td>NaN</td>\n",
       "      <td>...</td>\n",
       "      <td>11.00</td>\n",
       "      <td>1.0</td>\n",
       "      <td>Санкт-Петербург</td>\n",
       "      <td>33564.0</td>\n",
       "      <td>14616.0</td>\n",
       "      <td>0.0</td>\n",
       "      <td>NaN</td>\n",
       "      <td>1.0</td>\n",
       "      <td>859.0</td>\n",
       "      <td>571.0</td>\n",
       "    </tr>\n",
       "    <tr>\n",
       "      <th>18</th>\n",
       "      <td>8</td>\n",
       "      <td>3250000.0</td>\n",
       "      <td>31.00</td>\n",
       "      <td>2017-01-27T00:00:00</td>\n",
       "      <td>1</td>\n",
       "      <td>2.50</td>\n",
       "      <td>5.0</td>\n",
       "      <td>19.40</td>\n",
       "      <td>2</td>\n",
       "      <td>NaN</td>\n",
       "      <td>...</td>\n",
       "      <td>5.60</td>\n",
       "      <td>1.0</td>\n",
       "      <td>Санкт-Петербург</td>\n",
       "      <td>44060.0</td>\n",
       "      <td>10842.0</td>\n",
       "      <td>1.0</td>\n",
       "      <td>759.0</td>\n",
       "      <td>0.0</td>\n",
       "      <td>NaN</td>\n",
       "      <td>168.0</td>\n",
       "    </tr>\n",
       "    <tr>\n",
       "      <th>19</th>\n",
       "      <td>16</td>\n",
       "      <td>14200000.0</td>\n",
       "      <td>121.00</td>\n",
       "      <td>2019-01-09T00:00:00</td>\n",
       "      <td>3</td>\n",
       "      <td>2.75</td>\n",
       "      <td>16.0</td>\n",
       "      <td>76.00</td>\n",
       "      <td>8</td>\n",
       "      <td>NaN</td>\n",
       "      <td>...</td>\n",
       "      <td>12.00</td>\n",
       "      <td>NaN</td>\n",
       "      <td>Санкт-Петербург</td>\n",
       "      <td>38900.0</td>\n",
       "      <td>12843.0</td>\n",
       "      <td>0.0</td>\n",
       "      <td>NaN</td>\n",
       "      <td>0.0</td>\n",
       "      <td>NaN</td>\n",
       "      <td>97.0</td>\n",
       "    </tr>\n",
       "  </tbody>\n",
       "</table>\n",
       "<p>20 rows × 22 columns</p>\n",
       "</div>"
      ],
      "text/plain": [
       "    total_images  last_price  total_area first_day_exposition  rooms  \\\n",
       "0             20  13000000.0      108.00  2019-03-07T00:00:00      3   \n",
       "1              7   3350000.0       40.40  2018-12-04T00:00:00      1   \n",
       "2             10   5196000.0       56.00  2015-08-20T00:00:00      2   \n",
       "3              0  64900000.0      159.00  2015-07-24T00:00:00      3   \n",
       "4              2  10000000.0      100.00  2018-06-19T00:00:00      2   \n",
       "5             10   2890000.0       30.40  2018-09-10T00:00:00      1   \n",
       "6              6   3700000.0       37.30  2017-11-02T00:00:00      1   \n",
       "7              5   7915000.0       71.60  2019-04-18T00:00:00      2   \n",
       "8             20   2900000.0       33.16  2018-05-23T00:00:00      1   \n",
       "9             18   5400000.0       61.00  2017-02-26T00:00:00      3   \n",
       "10             5   5050000.0       39.60  2017-11-16T00:00:00      1   \n",
       "11             9   3300000.0       44.00  2018-08-27T00:00:00      2   \n",
       "12            10   3890000.0       54.00  2016-06-30T00:00:00      2   \n",
       "13            20   3550000.0       42.80  2017-07-01T00:00:00      2   \n",
       "14             1   4400000.0       36.00  2016-06-23T00:00:00      1   \n",
       "15            16   4650000.0       39.00  2017-11-18T00:00:00      1   \n",
       "16            11   6700000.0       82.00  2017-11-23T00:00:00      3   \n",
       "17             6   4180000.0       36.00  2016-09-09T00:00:00      1   \n",
       "18             8   3250000.0       31.00  2017-01-27T00:00:00      1   \n",
       "19            16  14200000.0      121.00  2019-01-09T00:00:00      3   \n",
       "\n",
       "    ceiling_height  floors_total  living_area  floor is_apartment  ...  \\\n",
       "0             2.70          16.0        51.00      8          NaN  ...   \n",
       "1              NaN          11.0        18.60      1          NaN  ...   \n",
       "2              NaN           5.0        34.30      4          NaN  ...   \n",
       "3              NaN          14.0          NaN      9          NaN  ...   \n",
       "4             3.03          14.0        32.00     13          NaN  ...   \n",
       "5              NaN          12.0        14.40      5          NaN  ...   \n",
       "6              NaN          26.0        10.60      6          NaN  ...   \n",
       "7              NaN          24.0          NaN     22          NaN  ...   \n",
       "8              NaN          27.0        15.43     26          NaN  ...   \n",
       "9             2.50           9.0        43.60      7          NaN  ...   \n",
       "10            2.67          12.0        20.30      3          NaN  ...   \n",
       "11             NaN           5.0        31.00      4        False  ...   \n",
       "12             NaN           5.0        30.00      5          NaN  ...   \n",
       "13            2.56           5.0        27.00      5          NaN  ...   \n",
       "14             NaN           6.0        17.00      1          NaN  ...   \n",
       "15             NaN          14.0        20.50      5          NaN  ...   \n",
       "16            3.05           5.0        55.60      1          NaN  ...   \n",
       "17             NaN          17.0        16.50      7          NaN  ...   \n",
       "18            2.50           5.0        19.40      2          NaN  ...   \n",
       "19            2.75          16.0        76.00      8          NaN  ...   \n",
       "\n",
       "    kitchen_area  balcony              locality_name  airports_nearest  \\\n",
       "0          25.00      NaN            Санкт-Петербург           18863.0   \n",
       "1          11.00      2.0             посёлок Шушары           12817.0   \n",
       "2           8.30      0.0            Санкт-Петербург           21741.0   \n",
       "3            NaN      0.0            Санкт-Петербург           28098.0   \n",
       "4          41.00      NaN            Санкт-Петербург           31856.0   \n",
       "5           9.10      NaN  городской посёлок Янино-1               NaN   \n",
       "6          14.40      1.0          посёлок Парголово           52996.0   \n",
       "7          18.90      2.0            Санкт-Петербург           23982.0   \n",
       "8           8.81      NaN             посёлок Мурино               NaN   \n",
       "9           6.50      2.0            Санкт-Петербург           50898.0   \n",
       "10          8.50      NaN            Санкт-Петербург           38357.0   \n",
       "11          6.00      1.0                  Ломоносов           48252.0   \n",
       "12          9.00      0.0                  Сертолово               NaN   \n",
       "13          5.20      1.0                   Петергоф           37868.0   \n",
       "14          8.00      0.0                     Пушкин           20782.0   \n",
       "15          7.60      1.0            Санкт-Петербург           12900.0   \n",
       "16          9.00      NaN            Санкт-Петербург           22108.0   \n",
       "17         11.00      1.0            Санкт-Петербург           33564.0   \n",
       "18          5.60      1.0            Санкт-Петербург           44060.0   \n",
       "19         12.00      NaN            Санкт-Петербург           38900.0   \n",
       "\n",
       "   cityCenters_nearest  parks_around3000  parks_nearest  ponds_around3000  \\\n",
       "0              16028.0               1.0          482.0               2.0   \n",
       "1              18603.0               0.0            NaN               0.0   \n",
       "2              13933.0               1.0           90.0               2.0   \n",
       "3               6800.0               2.0           84.0               3.0   \n",
       "4               8098.0               2.0          112.0               1.0   \n",
       "5                  NaN               NaN            NaN               NaN   \n",
       "6              19143.0               0.0            NaN               0.0   \n",
       "7              11634.0               0.0            NaN               0.0   \n",
       "8                  NaN               NaN            NaN               NaN   \n",
       "9              15008.0               0.0            NaN               0.0   \n",
       "10             13878.0               1.0          310.0               2.0   \n",
       "11             51677.0               0.0            NaN               0.0   \n",
       "12                 NaN               NaN            NaN               NaN   \n",
       "13             33058.0               1.0          294.0               3.0   \n",
       "14             30759.0               0.0            NaN               1.0   \n",
       "15             14259.0               1.0          590.0               1.0   \n",
       "16             10698.0               3.0          420.0               0.0   \n",
       "17             14616.0               0.0            NaN               1.0   \n",
       "18             10842.0               1.0          759.0               0.0   \n",
       "19             12843.0               0.0            NaN               0.0   \n",
       "\n",
       "    ponds_nearest  days_exposition  \n",
       "0           755.0              NaN  \n",
       "1             NaN             81.0  \n",
       "2           574.0            558.0  \n",
       "3           234.0            424.0  \n",
       "4            48.0            121.0  \n",
       "5             NaN             55.0  \n",
       "6             NaN            155.0  \n",
       "7             NaN              NaN  \n",
       "8             NaN            189.0  \n",
       "9             NaN            289.0  \n",
       "10          553.0            137.0  \n",
       "11            NaN              7.0  \n",
       "12            NaN             90.0  \n",
       "13          298.0            366.0  \n",
       "14           96.0            203.0  \n",
       "15          296.0             19.0  \n",
       "16            NaN            397.0  \n",
       "17          859.0            571.0  \n",
       "18            NaN            168.0  \n",
       "19            NaN             97.0  \n",
       "\n",
       "[20 rows x 22 columns]"
      ]
     },
     "execution_count": 5,
     "metadata": {},
     "output_type": "execute_result"
    }
   ],
   "source": [
    "#выводим первые пять строк датасета\n",
    "data.head(20)"
   ]
  },
  {
   "cell_type": "code",
   "execution_count": 6,
   "metadata": {},
   "outputs": [
    {
     "name": "stdout",
     "output_type": "stream",
     "text": [
      "<class 'pandas.core.frame.DataFrame'>\n",
      "RangeIndex: 23699 entries, 0 to 23698\n",
      "Data columns (total 22 columns):\n",
      " #   Column                Non-Null Count  Dtype  \n",
      "---  ------                --------------  -----  \n",
      " 0   total_images          23699 non-null  int64  \n",
      " 1   last_price            23699 non-null  float64\n",
      " 2   total_area            23699 non-null  float64\n",
      " 3   first_day_exposition  23699 non-null  object \n",
      " 4   rooms                 23699 non-null  int64  \n",
      " 5   ceiling_height        14504 non-null  float64\n",
      " 6   floors_total          23613 non-null  float64\n",
      " 7   living_area           21796 non-null  float64\n",
      " 8   floor                 23699 non-null  int64  \n",
      " 9   is_apartment          2775 non-null   object \n",
      " 10  studio                23699 non-null  bool   \n",
      " 11  open_plan             23699 non-null  bool   \n",
      " 12  kitchen_area          21421 non-null  float64\n",
      " 13  balcony               12180 non-null  float64\n",
      " 14  locality_name         23650 non-null  object \n",
      " 15  airports_nearest      18157 non-null  float64\n",
      " 16  cityCenters_nearest   18180 non-null  float64\n",
      " 17  parks_around3000      18181 non-null  float64\n",
      " 18  parks_nearest         8079 non-null   float64\n",
      " 19  ponds_around3000      18181 non-null  float64\n",
      " 20  ponds_nearest         9110 non-null   float64\n",
      " 21  days_exposition       20518 non-null  float64\n",
      "dtypes: bool(2), float64(14), int64(3), object(3)\n",
      "memory usage: 3.7+ MB\n"
     ]
    }
   ],
   "source": [
    "#выводим интформацию о датасете\n",
    "data.info()"
   ]
  },
  {
   "cell_type": "code",
   "execution_count": 7,
   "metadata": {},
   "outputs": [
    {
     "data": {
      "text/plain": [
       "array([[<Axes: title={'center': 'total_images'}>,\n",
       "        <Axes: title={'center': 'last_price'}>,\n",
       "        <Axes: title={'center': 'total_area'}>,\n",
       "        <Axes: title={'center': 'rooms'}>],\n",
       "       [<Axes: title={'center': 'ceiling_height'}>,\n",
       "        <Axes: title={'center': 'floors_total'}>,\n",
       "        <Axes: title={'center': 'living_area'}>,\n",
       "        <Axes: title={'center': 'floor'}>],\n",
       "       [<Axes: title={'center': 'kitchen_area'}>,\n",
       "        <Axes: title={'center': 'balcony'}>,\n",
       "        <Axes: title={'center': 'airports_nearest'}>,\n",
       "        <Axes: title={'center': 'cityCenters_nearest'}>],\n",
       "       [<Axes: title={'center': 'parks_around3000'}>,\n",
       "        <Axes: title={'center': 'parks_nearest'}>,\n",
       "        <Axes: title={'center': 'ponds_around3000'}>,\n",
       "        <Axes: title={'center': 'ponds_nearest'}>],\n",
       "       [<Axes: title={'center': 'days_exposition'}>, <Axes: >, <Axes: >,\n",
       "        <Axes: >]], dtype=object)"
      ]
     },
     "execution_count": 7,
     "metadata": {},
     "output_type": "execute_result"
    },
    {
     "data": {
      "image/png": "[encoded data removed]",
      "text/plain": [
       "<Figure size 1500x2000 with 20 Axes>"
      ]
     },
     "metadata": {},
     "output_type": "display_data"
    }
   ],
   "source": [
    "#строим гистограммы по всем числовым столбцам\n",
    "data.hist(figsize=(15, 20))"
   ]
  },
  {
   "cell_type": "markdown",
   "metadata": {},
   "source": [
    "Вывод: в данных имеется 23699 записей, в ряде столбцов есть пропущенные данные. По гистограммам видно, что в данных есть аномальные значения."
   ]
  },
  {
   "cell_type": "markdown",
   "metadata": {
    "id": "-O5NtivEAwb9"
   },
   "source": [
    "### Предобработка данных"
   ]
  },
  {
   "cell_type": "code",
   "execution_count": 8,
   "metadata": {
    "id": "7v3vAeTuAwb-"
   },
   "outputs": [
    {
     "data": {
      "text/plain": [
       "is_apartment            20924\n",
       "parks_nearest           15620\n",
       "ponds_nearest           14589\n",
       "balcony                 11519\n",
       "ceiling_height           9195\n",
       "airports_nearest         5542\n",
       "cityCenters_nearest      5519\n",
       "ponds_around3000         5518\n",
       "parks_around3000         5518\n",
       "days_exposition          3181\n",
       "kitchen_area             2278\n",
       "living_area              1903\n",
       "floors_total               86\n",
       "locality_name              49\n",
       "total_images                0\n",
       "last_price                  0\n",
       "studio                      0\n",
       "floor                       0\n",
       "rooms                       0\n",
       "first_day_exposition        0\n",
       "total_area                  0\n",
       "open_plan                   0\n",
       "dtype: int64"
      ]
     },
     "execution_count": 8,
     "metadata": {},
     "output_type": "execute_result"
    }
   ],
   "source": [
    "#сумма пропущенных значений\n",
    "data.isna().sum().sort_values(ascending=False)"
   ]
  },
  {
   "cell_type": "markdown",
   "metadata": {},
   "source": [
    "Заполняем пропуски:\n",
    "1. ceiling_height - высота потолков. Заполним проски медианным значением, так как ее вероятнее всего забыли указать.\n",
    "2. floors_total - всего этажей в доме. Заполним проски медианным значением, так как ее вероятнее всего забыли указать.\n",
    "3. living_area - жилая площадь. Оставим без изменений, жилая площадь = общая площадь - нежилая площадь.\n",
    "4. is_apartment - аппартаменты. Среднее значение примерно 2%, следовательно при заполнении их не указали. Заполним значением False.\n",
    "5. kitchen_area - площадь кухни. Явной зависимости от других данных нет, вероятнее собственний не указал площадь кухни из-за её отсутствия. Заполним знасением 0.\n",
    "6. balcony - число балконов. Вероятнее всего, где не указано количество балконов, в этой квартире их нет. Заполняем прропуски 0.\n",
    "7. locality_name - название населенного пункта. Заменим пропуски на \"unknown\".\n",
    "8. airports_nearest - расстояние до ближайшего аэропорта. Возможно аэропорт находится на большом расстоянии, поэтому его не указали, оставим значения без изменений.\n",
    "9. cityCenters_nearest - расстояние до центра города. Значение могли не указать, потому что объект продажи находится не в городе.\n",
    "10. parks_around3000 - число парков в радиусе 3 км. Пропуски могут указывать на то, что в радиусе 3 км нет парков. заполним значением 0.\n",
    "11. parks_nearest - расстояние до ближайшего парка. Возможно парк находится на большом расстоянии, поэтому его не указали, оставим значения без изменений.\n",
    "12. ponds_around3000 - число водоёмов в радиусе 3 км. Пропуски могут указывать на то, что в радиусе 3 км нет водоёмов. заполним значением 0.\n",
    "13. ponds_nearest - расстояние до ближайшего водоёма. Возможно водоём находится на большом расстоянии, поэтому его не указали, оставим значения без изменений.\n",
    "14. days_exposition - сколько дней было размещено объявление (от публикации до снятия). Пропуски могут указывать на то, что объект еще не продан, оставим значения без изменений."
   ]
  },
  {
   "cell_type": "code",
   "execution_count": 9,
   "metadata": {},
   "outputs": [
    {
     "data": {
      "text/plain": [
       "0.018018018018018018"
      ]
     },
     "execution_count": 9,
     "metadata": {},
     "output_type": "execute_result"
    }
   ],
   "source": [
    "data['is_apartment'].mean()"
   ]
  },
  {
   "cell_type": "code",
   "execution_count": 10,
   "metadata": {},
   "outputs": [],
   "source": [
    "#заполняем пропуски\n",
    "#высоту потолков заполняем медианным значением\n",
    "data['ceiling_height'] = data['ceiling_height'].fillna(data['ceiling_height'].median())\n",
    "#этажность дома заполняем медианным значением\n",
    "data['floors_total'] = data['floors_total'].fillna(data['floors_total'].median())\n",
    "#столбец аппартаменты заполним False и изменим тип на bool\n",
    "data['is_apartment'] = data['is_apartment'].fillna(False).astype('bool')\n",
    "#число балконов заполняем 0 и изменим тип данных на int\n",
    "data['balcony'] = data['balcony'].fillna(0).astype('int')\n",
    "#значение столбца с названием населенного пункта заменим на \"unknown\"\n",
    "data['locality_name'] = data['locality_name'].fillna('unknown')\n",
    "#число парков в радиусе 3 км заполняем 0 и изменим тип данных на int\n",
    "data['parks_around3000'] = data['parks_around3000'].fillna(0).astype('int')\n",
    "#число водоёмов в радиусе 3 км заполняем 0 и изменим тип данных на int\n",
    "data['ponds_around3000'] = data['ponds_around3000'].fillna(0).astype('int')"
   ]
  },
  {
   "cell_type": "code",
   "execution_count": 11,
   "metadata": {},
   "outputs": [],
   "source": [
    "#создаем словарь для удобного доступа\n",
    "living = data.groupby('rooms')['living_area'].agg('median').round(2).to_dict() \n",
    "\n",
    "# Создаем функцию для заполнения пропущенных значений\n",
    "def fill_living_area(row):\n",
    "    rooms = row['rooms']\n",
    "    if pd.isna(row['living_area']):\n",
    "        return living.get(rooms) #Обращаемся к словарю по ключу (количество комнат)\n",
    "    else:\n",
    "        return row['living_area']\n",
    "\n",
    "# применяем функцию для заполнения пропущенных значений\n",
    "data['living_area'] = data.apply(fill_living_area, axis=1)"
   ]
  },
  {
   "cell_type": "code",
   "execution_count": 12,
   "metadata": {},
   "outputs": [],
   "source": [
    "#заполним значения площали кухни медианным значением исходя из количества комнат\n",
    "#kitchen = dict(data.groupby('rooms')['kitchen_area'].agg('median').round(2))\n",
    "#data['kitchen_area'] = data['kitchen_area'].fillna(data['rooms'].map(kitchen))\n",
    "data['kitchen_area'] = data['kitchen_area'].fillna(0)"
   ]
  },
  {
   "cell_type": "markdown",
   "metadata": {},
   "source": [
    "Вывод: заполнение площади кухни на медианное значение по количеству комнат не подходит, потому что сумма жилой площади и площади кухни в 4273 строках превышает общую площадь."
   ]
  },
  {
   "cell_type": "code",
   "execution_count": 13,
   "metadata": {},
   "outputs": [
    {
     "data": {
      "text/plain": [
       "True     23598\n",
       "False      101\n",
       "Name: area, dtype: int64"
      ]
     },
     "execution_count": 13,
     "metadata": {},
     "output_type": "execute_result"
    }
   ],
   "source": [
    "data['area'] = data['total_area'] >= data['living_area'] + data['kitchen_area']\n",
    "data['area'].value_counts()"
   ]
  },
  {
   "cell_type": "code",
   "execution_count": 14,
   "metadata": {},
   "outputs": [],
   "source": [
    "# Создаем функцию для замены значений жилой площади квартиры в строках, где сумма жилой площади и площади кухни превышаю общую\n",
    "def living_area(row):\n",
    "    if row['area'] == False:\n",
    "        return row['total_area'] - row['kitchen_area']\n",
    "    else:\n",
    "        return row['living_area']\n",
    "    \n",
    "data['living_area'] = data.apply(living_area, axis=1)"
   ]
  },
  {
   "cell_type": "code",
   "execution_count": 15,
   "metadata": {},
   "outputs": [
    {
     "data": {
      "text/plain": [
       "True     23698\n",
       "False        1\n",
       "Name: area, dtype: int64"
      ]
     },
     "execution_count": 15,
     "metadata": {},
     "output_type": "execute_result"
    }
   ],
   "source": [
    "data['area'] = data['total_area'] >= data['living_area'] + data['kitchen_area']\n",
    "data['area'].value_counts()"
   ]
  },
  {
   "cell_type": "code",
   "execution_count": 16,
   "metadata": {},
   "outputs": [
    {
     "data": {
      "text/html": [
       "<div>\n",
       "<style scoped>\n",
       "    .dataframe tbody tr th:only-of-type {\n",
       "        vertical-align: middle;\n",
       "    }\n",
       "\n",
       "    .dataframe tbody tr th {\n",
       "        vertical-align: top;\n",
       "    }\n",
       "\n",
       "    .dataframe thead th {\n",
       "        text-align: right;\n",
       "    }\n",
       "</style>\n",
       "<table border=\"1\" class=\"dataframe\">\n",
       "  <thead>\n",
       "    <tr style=\"text-align: right;\">\n",
       "      <th></th>\n",
       "      <th>total_images</th>\n",
       "      <th>last_price</th>\n",
       "      <th>total_area</th>\n",
       "      <th>first_day_exposition</th>\n",
       "      <th>rooms</th>\n",
       "      <th>ceiling_height</th>\n",
       "      <th>floors_total</th>\n",
       "      <th>living_area</th>\n",
       "      <th>floor</th>\n",
       "      <th>is_apartment</th>\n",
       "      <th>...</th>\n",
       "      <th>balcony</th>\n",
       "      <th>locality_name</th>\n",
       "      <th>airports_nearest</th>\n",
       "      <th>cityCenters_nearest</th>\n",
       "      <th>parks_around3000</th>\n",
       "      <th>parks_nearest</th>\n",
       "      <th>ponds_around3000</th>\n",
       "      <th>ponds_nearest</th>\n",
       "      <th>days_exposition</th>\n",
       "      <th>area</th>\n",
       "    </tr>\n",
       "  </thead>\n",
       "  <tbody>\n",
       "    <tr>\n",
       "      <th>551</th>\n",
       "      <td>8</td>\n",
       "      <td>3100000.0</td>\n",
       "      <td>31.59</td>\n",
       "      <td>2018-03-08T00:00:00</td>\n",
       "      <td>1</td>\n",
       "      <td>2.7</td>\n",
       "      <td>19.0</td>\n",
       "      <td>22.31</td>\n",
       "      <td>2</td>\n",
       "      <td>False</td>\n",
       "      <td>...</td>\n",
       "      <td>2</td>\n",
       "      <td>посёлок Мурино</td>\n",
       "      <td>NaN</td>\n",
       "      <td>NaN</td>\n",
       "      <td>0</td>\n",
       "      <td>NaN</td>\n",
       "      <td>0</td>\n",
       "      <td>NaN</td>\n",
       "      <td>70.0</td>\n",
       "      <td>False</td>\n",
       "    </tr>\n",
       "  </tbody>\n",
       "</table>\n",
       "<p>1 rows × 23 columns</p>\n",
       "</div>"
      ],
      "text/plain": [
       "     total_images  last_price  total_area first_day_exposition  rooms  \\\n",
       "551             8   3100000.0       31.59  2018-03-08T00:00:00      1   \n",
       "\n",
       "     ceiling_height  floors_total  living_area  floor  is_apartment  ...  \\\n",
       "551             2.7          19.0        22.31      2         False  ...   \n",
       "\n",
       "     balcony   locality_name  airports_nearest  cityCenters_nearest  \\\n",
       "551        2  посёлок Мурино               NaN                  NaN   \n",
       "\n",
       "    parks_around3000  parks_nearest  ponds_around3000  ponds_nearest  \\\n",
       "551                0            NaN                 0            NaN   \n",
       "\n",
       "     days_exposition   area  \n",
       "551             70.0  False  \n",
       "\n",
       "[1 rows x 23 columns]"
      ]
     },
     "execution_count": 16,
     "metadata": {},
     "output_type": "execute_result"
    }
   ],
   "source": [
    "data[~data['area']]"
   ]
  },
  {
   "cell_type": "code",
   "execution_count": 17,
   "metadata": {},
   "outputs": [
    {
     "data": {
      "text/plain": [
       "total_images                              8\n",
       "last_price                        3100000.0\n",
       "total_area                            31.59\n",
       "first_day_exposition    2018-03-08T00:00:00\n",
       "rooms                                     1\n",
       "ceiling_height                          2.7\n",
       "floors_total                           19.0\n",
       "living_area                           22.31\n",
       "floor                                     2\n",
       "is_apartment                          False\n",
       "studio                                False\n",
       "open_plan                             False\n",
       "kitchen_area                           9.28\n",
       "balcony                                   2\n",
       "locality_name                посёлок Мурино\n",
       "airports_nearest                        NaN\n",
       "cityCenters_nearest                     NaN\n",
       "parks_around3000                          0\n",
       "parks_nearest                           NaN\n",
       "ponds_around3000                          0\n",
       "ponds_nearest                           NaN\n",
       "days_exposition                        70.0\n",
       "area                                  False\n",
       "Name: 551, dtype: object"
      ]
     },
     "execution_count": 17,
     "metadata": {},
     "output_type": "execute_result"
    }
   ],
   "source": [
    "data.loc[551]"
   ]
  },
  {
   "cell_type": "markdown",
   "metadata": {},
   "source": [
    "Вывод: заполнили пропущенные значения в стоблце жилой площади медианной площадью по количеству комнат, строки, в которых не выполнялось условие data['total_area'] >= data['living_area'] + data['kitchen_area'], заменили значения."
   ]
  },
  {
   "cell_type": "code",
   "execution_count": 18,
   "metadata": {},
   "outputs": [],
   "source": [
    "#заменим тип данных в столбце first_day_exposition с object на datetime, так как время точно не указано, оставим только дату\n",
    "data['first_day_exposition'] = pd.to_datetime(data['first_day_exposition'], format='%Y-%m-%d')\n",
    "#переименуем столбец cityCenters_nearest\n",
    "data.rename(columns = {'cityCenters_nearest': 'city_centers_nearest'}, inplace=True)"
   ]
  },
  {
   "cell_type": "code",
   "execution_count": 19,
   "metadata": {},
   "outputs": [
    {
     "data": {
      "text/plain": [
       "0"
      ]
     },
     "execution_count": 19,
     "metadata": {},
     "output_type": "execute_result"
    }
   ],
   "source": [
    "#проверим датасет на явные дубликаты\n",
    "data.duplicated().sum()"
   ]
  },
  {
   "cell_type": "code",
   "execution_count": 20,
   "metadata": {},
   "outputs": [
    {
     "data": {
      "text/plain": [
       "array(['Санкт-Петербург', 'посёлок Шушары', 'городской посёлок Янино-1',\n",
       "       'посёлок Парголово', 'посёлок Мурино', 'Ломоносов', 'Сертолово',\n",
       "       'Петергоф', 'Пушкин', 'деревня Кудрово', 'Коммунар', 'Колпино',\n",
       "       'поселок городского типа Красный Бор', 'Гатчина', 'поселок Мурино',\n",
       "       'деревня Фёдоровское', 'Выборг', 'Кронштадт', 'Кировск',\n",
       "       'деревня Новое Девяткино', 'посёлок Металлострой',\n",
       "       'посёлок городского типа Лебяжье',\n",
       "       'посёлок городского типа Сиверский', 'поселок Молодцово',\n",
       "       'поселок городского типа Кузьмоловский',\n",
       "       'садовое товарищество Новая Ропша', 'Павловск',\n",
       "       'деревня Пикколово', 'Всеволожск', 'Волхов', 'Кингисепп',\n",
       "       'Приозерск', 'Сестрорецк', 'деревня Куттузи', 'посёлок Аннино',\n",
       "       'поселок городского типа Ефимовский', 'посёлок Плодовое',\n",
       "       'деревня Заклинье', 'поселок Торковичи', 'поселок Первомайское',\n",
       "       'Красное Село', 'посёлок Понтонный', 'Сясьстрой', 'деревня Старая',\n",
       "       'деревня Лесколово', 'посёлок Новый Свет', 'Сланцы',\n",
       "       'село Путилово', 'Ивангород', 'Мурино', 'Шлиссельбург',\n",
       "       'Никольское', 'Зеленогорск', 'Сосновый Бор', 'поселок Новый Свет',\n",
       "       'деревня Оржицы', 'деревня Кальтино', 'Кудрово',\n",
       "       'поселок Романовка', 'посёлок Бугры', 'поселок Бугры',\n",
       "       'поселок городского типа Рощино', 'Кириши', 'Луга', 'Волосово',\n",
       "       'Отрадное', 'село Павлово', 'поселок Оредеж', 'село Копорье',\n",
       "       'посёлок городского типа Красный Бор', 'посёлок Молодёжное',\n",
       "       'Тихвин', 'посёлок Победа', 'деревня Нурма',\n",
       "       'поселок городского типа Синявино', 'Тосно',\n",
       "       'посёлок городского типа Кузьмоловский', 'посёлок Стрельна',\n",
       "       'Бокситогорск', 'посёлок Александровская', 'деревня Лопухинка',\n",
       "       'Пикалёво', 'поселок Терволово',\n",
       "       'поселок городского типа Советский', 'Подпорожье',\n",
       "       'посёлок Петровское', 'посёлок городского типа Токсово',\n",
       "       'поселок Сельцо', 'посёлок городского типа Вырица',\n",
       "       'деревня Кипень', 'деревня Келози', 'деревня Вартемяги',\n",
       "       'посёлок Тельмана', 'поселок Севастьяново',\n",
       "       'городской поселок Большая Ижора', 'unknown',\n",
       "       'городской посёлок Павлово', 'деревня Агалатово',\n",
       "       'посёлок Новогорелово', 'городской посёлок Лесогорский',\n",
       "       'деревня Лаголово', 'поселок Цвелодубово',\n",
       "       'поселок городского типа Рахья', 'поселок городского типа Вырица',\n",
       "       'деревня Белогорка', 'поселок Заводской',\n",
       "       'городской посёлок Новоселье', 'деревня Большие Колпаны',\n",
       "       'деревня Горбунки', 'деревня Батово', 'деревня Заневка',\n",
       "       'деревня Иссад', 'Приморск', 'городской посёлок Фёдоровское',\n",
       "       'деревня Мистолово', 'Новая Ладога', 'поселок Зимитицы',\n",
       "       'поселок Барышево', 'деревня Разметелево',\n",
       "       'поселок городского типа имени Свердлова', 'деревня Пеники',\n",
       "       'поселок Рябово', 'деревня Пудомяги', 'поселок станции Корнево',\n",
       "       'деревня Низино', 'деревня Бегуницы', 'посёлок Поляны',\n",
       "       'городской посёлок Мга', 'поселок Елизаветино',\n",
       "       'посёлок городского типа Кузнечное', 'деревня Колтуши',\n",
       "       'поселок Запорожское', 'посёлок городского типа Рощино',\n",
       "       'деревня Гостилицы', 'деревня Малое Карлино',\n",
       "       'посёлок Мичуринское', 'посёлок городского типа имени Морозова',\n",
       "       'посёлок Песочный', 'посёлок Сосново', 'деревня Аро',\n",
       "       'поселок Ильичёво', 'посёлок городского типа Тайцы',\n",
       "       'деревня Малое Верево', 'деревня Извара', 'поселок станции Вещево',\n",
       "       'село Паша', 'деревня Калитино',\n",
       "       'посёлок городского типа Ульяновка', 'деревня Чудской Бор',\n",
       "       'поселок городского типа Дубровка', 'деревня Мины',\n",
       "       'поселок Войсковицы', 'посёлок городского типа имени Свердлова',\n",
       "       'деревня Коркино', 'посёлок Ропша',\n",
       "       'поселок городского типа Приладожский', 'посёлок Щеглово',\n",
       "       'посёлок Гаврилово', 'Лодейное Поле', 'деревня Рабитицы',\n",
       "       'поселок городского типа Никольский', 'деревня Кузьмолово',\n",
       "       'деревня Малые Колпаны', 'поселок Тельмана',\n",
       "       'посёлок Петро-Славянка', 'городской посёлок Назия',\n",
       "       'посёлок Репино', 'посёлок Ильичёво', 'поселок Углово',\n",
       "       'поселок Старая Малукса', 'садовое товарищество Рахья',\n",
       "       'поселок Аннино', 'поселок Победа', 'деревня Меньково',\n",
       "       'деревня Старые Бегуницы', 'посёлок Сапёрный', 'поселок Семрино',\n",
       "       'поселок Гаврилово', 'поселок Глажево', 'поселок Кобринское',\n",
       "       'деревня Гарболово', 'деревня Юкки',\n",
       "       'поселок станции Приветнинское', 'деревня Мануйлово',\n",
       "       'деревня Пчева', 'поселок Поляны', 'поселок Цвылёво',\n",
       "       'поселок Мельниково', 'посёлок Пудость', 'посёлок Усть-Луга',\n",
       "       'Светогорск', 'Любань', 'поселок Селезнёво',\n",
       "       'поселок городского типа Рябово', 'Каменногорск', 'деревня Кривко',\n",
       "       'поселок Глебычево', 'деревня Парицы', 'поселок Жилпосёлок',\n",
       "       'посёлок городского типа Мга', 'городской поселок Янино-1',\n",
       "       'посёлок Войскорово', 'село Никольское', 'посёлок Терволово',\n",
       "       'поселок Стеклянный', 'посёлок городского типа Важины',\n",
       "       'посёлок Мыза-Ивановка', 'село Русско-Высоцкое',\n",
       "       'поселок городского типа Лебяжье',\n",
       "       'поселок городского типа Форносово', 'село Старая Ладога',\n",
       "       'поселок Житково', 'городской посёлок Виллози', 'деревня Лампово',\n",
       "       'деревня Шпаньково', 'деревня Лаврики', 'посёлок Сумино',\n",
       "       'посёлок Возрождение', 'деревня Старосиверская',\n",
       "       'посёлок Кикерино', 'поселок Возрождение',\n",
       "       'деревня Старое Хинколово', 'посёлок Пригородный',\n",
       "       'посёлок Торфяное', 'городской посёлок Будогощь',\n",
       "       'поселок Суходолье', 'поселок Красная Долина', 'деревня Хапо-Ое',\n",
       "       'поселок городского типа Дружная Горка', 'поселок Лисий Нос',\n",
       "       'деревня Яльгелево', 'посёлок Стеклянный', 'село Рождествено',\n",
       "       'деревня Старополье', 'посёлок Левашово', 'деревня Сяськелево',\n",
       "       'деревня Камышовка',\n",
       "       'садоводческое некоммерческое товарищество Лесная Поляна',\n",
       "       'деревня Хязельки', 'поселок Жилгородок',\n",
       "       'посёлок городского типа Павлово', 'деревня Ялгино',\n",
       "       'поселок Новый Учхоз', 'городской посёлок Рощино',\n",
       "       'поселок Гончарово', 'поселок Почап', 'посёлок Сапёрное',\n",
       "       'посёлок Платформа 69-й километр', 'поселок Каложицы',\n",
       "       'деревня Фалилеево', 'деревня Пельгора',\n",
       "       'поселок городского типа Лесогорский', 'деревня Торошковичи',\n",
       "       'посёлок Белоостров', 'посёлок Алексеевка', 'поселок Серебрянский',\n",
       "       'поселок Лукаши', 'поселок Петровское', 'деревня Щеглово',\n",
       "       'поселок Мичуринское', 'деревня Тарасово', 'поселок Кингисеппский',\n",
       "       'посёлок при железнодорожной станции Вещево', 'поселок Ушаки',\n",
       "       'деревня Котлы', 'деревня Сижно', 'деревня Торосово',\n",
       "       'посёлок Форт Красная Горка', 'поселок городского типа Токсово',\n",
       "       'деревня Новолисино', 'посёлок станции Громово', 'деревня Глинка',\n",
       "       'посёлок Мельниково', 'поселок городского типа Назия',\n",
       "       'деревня Старая Пустошь', 'поселок Коммунары', 'поселок Починок',\n",
       "       'посёлок городского типа Вознесенье', 'деревня Разбегаево',\n",
       "       'посёлок городского типа Рябово', 'поселок Гладкое',\n",
       "       'посёлок при железнодорожной станции Приветнинское',\n",
       "       'поселок Тёсово-4', 'посёлок Жилгородок', 'деревня Бор',\n",
       "       'посёлок Коробицыно', 'деревня Большая Вруда', 'деревня Курковицы',\n",
       "       'посёлок Лисий Нос', 'городской посёлок Советский',\n",
       "       'посёлок Кобралово', 'деревня Суоранда', 'поселок Кобралово',\n",
       "       'поселок городского типа Кондратьево',\n",
       "       'коттеджный поселок Счастье', 'поселок Любань', 'деревня Реброво',\n",
       "       'деревня Зимитицы', 'деревня Тойворово', 'поселок Семиозерье',\n",
       "       'поселок Лесное', 'поселок Совхозный', 'поселок Усть-Луга',\n",
       "       'посёлок Ленинское', 'посёлок Суйда',\n",
       "       'посёлок городского типа Форносово', 'деревня Нижние Осельки',\n",
       "       'посёлок станции Свирь', 'поселок Перово', 'Высоцк',\n",
       "       'поселок Гарболово', 'село Шум', 'поселок Котельский',\n",
       "       'поселок станции Лужайка', 'деревня Большая Пустомержа',\n",
       "       'поселок Красносельское', 'деревня Вахнова Кара', 'деревня Пижма',\n",
       "       'коттеджный поселок Кивеннапа Север', 'поселок Коробицыно',\n",
       "       'поселок Ромашки', 'посёлок Перово', 'деревня Каськово',\n",
       "       'деревня Куровицы', 'посёлок Плоское', 'поселок Сумино',\n",
       "       'поселок городского типа Большая Ижора', 'поселок Кирпичное',\n",
       "       'деревня Ям-Тесово', 'деревня Раздолье', 'деревня Терпилицы',\n",
       "       'посёлок Шугозеро', 'деревня Ваганово', 'поселок Пушное',\n",
       "       'садовое товарищество Садко', 'посёлок Усть-Ижора',\n",
       "       'деревня Выскатка', 'городской посёлок Свирьстрой',\n",
       "       'поселок Громово', 'деревня Кисельня', 'посёлок Старая Малукса',\n",
       "       'деревня Трубников Бор', 'поселок Калитино',\n",
       "       'посёлок Высокоключевой', 'садовое товарищество Приладожский',\n",
       "       'посёлок Пансионат Зелёный Бор', 'деревня Ненимяки',\n",
       "       'поселок Пансионат Зелёный Бор', 'деревня Снегирёвка',\n",
       "       'деревня Рапполово', 'деревня Пустынка', 'поселок Рабитицы',\n",
       "       'деревня Большой Сабск', 'деревня Русско', 'деревня Лупполово',\n",
       "       'деревня Большое Рейзино', 'деревня Малая Романовка',\n",
       "       'поселок Дружноселье', 'поселок Пчевжа', 'поселок Володарское',\n",
       "       'деревня Нижняя', 'коттеджный посёлок Лесное', 'деревня Тихковицы',\n",
       "       'деревня Борисова Грива', 'посёлок Дзержинского'], dtype=object)"
      ]
     },
     "execution_count": 20,
     "metadata": {},
     "output_type": "execute_result"
    }
   ],
   "source": [
    "#выводим уникальные значения столбцца с названиями населенных пунктов\n",
    "data['locality_name'].unique()"
   ]
  },
  {
   "cell_type": "code",
   "execution_count": 21,
   "metadata": {},
   "outputs": [],
   "source": [
    "#заменяем букву \"ё\" на \"е\", оставляем только названия населенных пунктов\n",
    "data['locality_name'] = (\n",
    "    data['locality_name']\n",
    "    .str.replace('ё', 'е')\n",
    "    .replace(['поселок ', 'городской ', 'деревня ', 'городского типа ', 'садовое товарищество ', 'село ', 'станции ', 'садоводческое некоммерческое товарищество ', 'Платформа ', 'при железнодорожной ', 'коттеджный '], '', regex=True)\n",
    ") "
   ]
  },
  {
   "cell_type": "code",
   "execution_count": 22,
   "metadata": {},
   "outputs": [
    {
     "data": {
      "text/plain": [
       "array(['Санкт-Петербург', 'Шушары', 'Янино-1', 'Парголово', 'Мурино',\n",
       "       'Ломоносов', 'Сертолово', 'Петергоф', 'Пушкин', 'Кудрово',\n",
       "       'Коммунар', 'Колпино', 'Красный Бор', 'Гатчина', 'Федоровское',\n",
       "       'Выборг', 'Кронштадт', 'Кировск', 'Новое Девяткино',\n",
       "       'Металлострой', 'Лебяжье', 'Сиверский', 'Молодцово',\n",
       "       'Кузьмоловский', 'Новая Ропша', 'Павловск', 'Пикколово',\n",
       "       'Всеволожск', 'Волхов', 'Кингисепп', 'Приозерск', 'Сестрорецк',\n",
       "       'Куттузи', 'Аннино', 'Ефимовский', 'Плодовое', 'Заклинье',\n",
       "       'Торковичи', 'Первомайское', 'Красное Село', 'Понтонный',\n",
       "       'Сясьстрой', 'Старая', 'Лесколово', 'Новый Свет', 'Сланцы',\n",
       "       'Путилово', 'Ивангород', 'Шлиссельбург', 'Никольское',\n",
       "       'Зеленогорск', 'Сосновый Бор', 'Оржицы', 'Кальтино', 'Романовка',\n",
       "       'Бугры', 'Рощино', 'Кириши', 'Луга', 'Волосово', 'Отрадное',\n",
       "       'Павлово', 'Оредеж', 'Копорье', 'Молодежное', 'Тихвин', 'Победа',\n",
       "       'Нурма', 'Синявино', 'Тосно', 'Стрельна', 'Бокситогорск',\n",
       "       'Александровская', 'Лопухинка', 'Пикалево', 'Терволово',\n",
       "       'Советский', 'Подпорожье', 'Петровское', 'Токсово', 'Сельцо',\n",
       "       'Вырица', 'Кипень', 'Келози', 'Вартемяги', 'Тельмана',\n",
       "       'Севастьяново', 'Большая Ижора', 'unknown', 'Агалатово',\n",
       "       'Новогорелово', 'Лесогорский', 'Лаголово', 'Цвелодубово', 'Рахья',\n",
       "       'Белогорка', 'Заводской', 'Новоселье', 'Большие Колпаны',\n",
       "       'Горбунки', 'Батово', 'Заневка', 'Иссад', 'Приморск', 'Мистолово',\n",
       "       'Новая Ладога', 'Зимитицы', 'Барышево', 'Разметелево',\n",
       "       'имени Свердлова', 'Пеники', 'Рябово', 'Пудомяги', 'Корнево',\n",
       "       'Низино', 'Бегуницы', 'Поляны', 'Мга', 'Елизаветино', 'Кузнечное',\n",
       "       'Колтуши', 'Запорожское', 'Гостилицы', 'Малое Карлино',\n",
       "       'Мичуринское', 'имени Морозова', 'Песочный', 'Сосново', 'Аро',\n",
       "       'Ильичево', 'Тайцы', 'Малое Верево', 'Извара', 'Вещево', 'Паша',\n",
       "       'Калитино', 'Ульяновка', 'Чудской Бор', 'Дубровка', 'Мины',\n",
       "       'Войсковицы', 'Коркино', 'Ропша', 'Приладожский', 'Щеглово',\n",
       "       'Гаврилово', 'Лодейное Поле', 'Рабитицы', 'Никольский',\n",
       "       'Кузьмолово', 'Малые Колпаны', 'Петро-Славянка', 'Назия', 'Репино',\n",
       "       'Углово', 'Старая Малукса', 'Меньково', 'Старые Бегуницы',\n",
       "       'Саперный', 'Семрино', 'Глажево', 'Кобринское', 'Гарболово',\n",
       "       'Юкки', 'Приветнинское', 'Мануйлово', 'Пчева', 'Цвылево',\n",
       "       'Мельниково', 'Пудость', 'Усть-Луга', 'Светогорск', 'Любань',\n",
       "       'Селезнево', 'Каменногорск', 'Кривко', 'Глебычево', 'Парицы',\n",
       "       'Жилпоселок', 'Войскорово', 'Стеклянный', 'Важины',\n",
       "       'Мыза-Ивановка', 'Русско-Высоцкое', 'Форносово', 'Старая Ладога',\n",
       "       'Житково', 'Виллози', 'Лампово', 'Шпаньково', 'Лаврики', 'Сумино',\n",
       "       'Возрождение', 'Старосиверская', 'Кикерино', 'Старое Хинколово',\n",
       "       'Пригородный', 'Торфяное', 'Будогощь', 'Суходолье',\n",
       "       'Красная Долина', 'Хапо-Ое', 'Дружная Горка', 'Лисий Нос',\n",
       "       'Яльгелево', 'Рождествено', 'Старополье', 'Левашово', 'Сяськелево',\n",
       "       'Камышовка', 'Лесная Поляна', 'Хязельки', 'Жилгородок', 'Ялгино',\n",
       "       'Новый Учхоз', 'Гончарово', 'Почап', 'Саперное', '69-й километр',\n",
       "       'Каложицы', 'Фалилеево', 'Пельгора', 'Торошковичи', 'Белоостров',\n",
       "       'Алексеевка', 'Серебрянский', 'Лукаши', 'Тарасово',\n",
       "       'Кингисеппский', 'Ушаки', 'Котлы', 'Сижно', 'Торосово',\n",
       "       'Форт Красная Горка', 'Новолисино', 'Громово', 'Глинка',\n",
       "       'Старая Пустошь', 'Коммунары', 'Починок', 'Вознесенье',\n",
       "       'Разбегаево', 'Гладкое', 'Тесово-4', 'Бор', 'Коробицыно',\n",
       "       'Большая Вруда', 'Курковицы', 'Кобралово', 'Суоранда',\n",
       "       'Кондратьево', 'Счастье', 'Реброво', 'Тойворово', 'Семиозерье',\n",
       "       'Лесное', 'Совхозный', 'Ленинское', 'Суйда', 'Нижние Осельки',\n",
       "       'Свирь', 'Перово', 'Высоцк', 'Шум', 'Котельский', 'Лужайка',\n",
       "       'Большая Пустомержа', 'Красносельское', 'Вахнова Кара', 'Пижма',\n",
       "       'Кивеннапа Север', 'Ромашки', 'Каськово', 'Куровицы', 'Плоское',\n",
       "       'Кирпичное', 'Ям-Тесово', 'Раздолье', 'Терпилицы', 'Шугозеро',\n",
       "       'Ваганово', 'Пушное', 'Садко', 'Усть-Ижора', 'Выскатка',\n",
       "       'Свирьстрой', 'Кисельня', 'Трубников Бор', 'Высокоключевой',\n",
       "       'Пансионат Зеленый Бор', 'Ненимяки', 'Снегиревка', 'Рапполово',\n",
       "       'Пустынка', 'Большой Сабск', 'Русско', 'Лупполово',\n",
       "       'Большое Рейзино', 'Малая Романовка', 'Дружноселье', 'Пчевжа',\n",
       "       'Володарское', 'Нижняя', 'Тихковицы', 'Борисова Грива',\n",
       "       'Дзержинского'], dtype=object)"
      ]
     },
     "execution_count": 22,
     "metadata": {},
     "output_type": "execute_result"
    }
   ],
   "source": [
    "data['locality_name'].unique()"
   ]
  },
  {
   "cell_type": "code",
   "execution_count": 23,
   "metadata": {},
   "outputs": [
    {
     "name": "stdout",
     "output_type": "stream",
     "text": [
      "<class 'pandas.core.frame.DataFrame'>\n",
      "RangeIndex: 23699 entries, 0 to 23698\n",
      "Data columns (total 23 columns):\n",
      " #   Column                Non-Null Count  Dtype         \n",
      "---  ------                --------------  -----         \n",
      " 0   total_images          23699 non-null  int64         \n",
      " 1   last_price            23699 non-null  float64       \n",
      " 2   total_area            23699 non-null  float64       \n",
      " 3   first_day_exposition  23699 non-null  datetime64[ns]\n",
      " 4   rooms                 23699 non-null  int64         \n",
      " 5   ceiling_height        23699 non-null  float64       \n",
      " 6   floors_total          23699 non-null  float64       \n",
      " 7   living_area           23699 non-null  float64       \n",
      " 8   floor                 23699 non-null  int64         \n",
      " 9   is_apartment          23699 non-null  bool          \n",
      " 10  studio                23699 non-null  bool          \n",
      " 11  open_plan             23699 non-null  bool          \n",
      " 12  kitchen_area          23699 non-null  float64       \n",
      " 13  balcony               23699 non-null  int32         \n",
      " 14  locality_name         23699 non-null  object        \n",
      " 15  airports_nearest      18157 non-null  float64       \n",
      " 16  city_centers_nearest  18180 non-null  float64       \n",
      " 17  parks_around3000      23699 non-null  int32         \n",
      " 18  parks_nearest         8079 non-null   float64       \n",
      " 19  ponds_around3000      23699 non-null  int32         \n",
      " 20  ponds_nearest         9110 non-null   float64       \n",
      " 21  days_exposition       20518 non-null  float64       \n",
      " 22  area                  23699 non-null  bool          \n",
      "dtypes: bool(4), datetime64[ns](1), float64(11), int32(3), int64(3), object(1)\n",
      "memory usage: 3.3+ MB\n"
     ]
    }
   ],
   "source": [
    "data.info()"
   ]
  },
  {
   "cell_type": "markdown",
   "metadata": {},
   "source": [
    "Основные причины пропусков:\n",
    "1. Человеческий фактор.\n",
    "2. Возможны программные сбои.\n",
    "3. Возможно во время работы добавлялись данные, ранее введенные данные не откорректировали.\n",
    "\n",
    "В процессе продобработки данных:\n",
    "1. Были заполнены явные пропуски\n",
    "2. в столбцах balcony, parks_around3000, ponds_around3000 был изменен тип данных на целочисленный. В столбце first_day_exposition тип данных изменен на datetime.\n",
    "3. Проверили данные на явные дубликаты.\n",
    "4. В столбце locality_name устранены неявные дубликаты."
   ]
  },
  {
   "cell_type": "markdown",
   "metadata": {
    "id": "QCcvyY6YAwb-"
   },
   "source": [
    "### Добавление в таблицу новых столбцов"
   ]
  },
  {
   "cell_type": "code",
   "execution_count": 24,
   "metadata": {},
   "outputs": [
    {
     "data": {
      "text/plain": [
       "array([120370.37,  82920.79,  92785.71, ...,  44091.71, 149511.4 ,\n",
       "        41795.67])"
      ]
     },
     "execution_count": 24,
     "metadata": {},
     "output_type": "execute_result"
    }
   ],
   "source": [
    "#создаем столбец с данными о цене одного квадратного метра\n",
    "data['price_square_meter'] = (data['last_price'] / data['total_area']).round(2)\n",
    "data['price_square_meter'].unique()"
   ]
  },
  {
   "cell_type": "code",
   "execution_count": 25,
   "metadata": {
    "id": "Z8eJek3IAwb-"
   },
   "outputs": [
    {
     "data": {
      "text/plain": [
       "array([3, 1, 4, 0, 2, 6, 5], dtype=int64)"
      ]
     },
     "execution_count": 25,
     "metadata": {},
     "output_type": "execute_result"
    }
   ],
   "source": [
    "#создаем столбец с днем недели публикации объявления\n",
    "data['day_publication'] = data['first_day_exposition'].dt.weekday\n",
    "data['day_publication'].unique()"
   ]
  },
  {
   "cell_type": "code",
   "execution_count": 26,
   "metadata": {},
   "outputs": [
    {
     "data": {
      "text/plain": [
       "array([ 3, 12,  8,  7,  6,  9, 11,  4,  5,  2,  1, 10], dtype=int64)"
      ]
     },
     "execution_count": 26,
     "metadata": {},
     "output_type": "execute_result"
    }
   ],
   "source": [
    "#создаем столбец с месяцем публикации объявления\n",
    "data['month_publication'] = data['first_day_exposition'].dt.month\n",
    "data['month_publication'].unique()"
   ]
  },
  {
   "cell_type": "code",
   "execution_count": 27,
   "metadata": {},
   "outputs": [
    {
     "data": {
      "text/plain": [
       "array([2019, 2018, 2015, 2017, 2016, 2014], dtype=int64)"
      ]
     },
     "execution_count": 27,
     "metadata": {},
     "output_type": "execute_result"
    }
   ],
   "source": [
    "#создаем столбец с месяцем публикации объявления\n",
    "data['year_publication'] = data['first_day_exposition'].dt.year\n",
    "data['year_publication'].unique()"
   ]
  },
  {
   "cell_type": "code",
   "execution_count": 28,
   "metadata": {},
   "outputs": [
    {
     "data": {
      "text/plain": [
       "array(['другой', 'первый', 'поледний'], dtype=object)"
      ]
     },
     "execution_count": 28,
     "metadata": {},
     "output_type": "execute_result"
    }
   ],
   "source": [
    "#создаем столбец с типом этажа публикации объявления\n",
    "def floor(row):\n",
    "    if row['floor'] == 1:\n",
    "        return 'первый'\n",
    "    if row['floor'] == row['floors_total']:\n",
    "        return 'поледний'\n",
    "    else:\n",
    "        return 'другой'\n",
    "\n",
    "data['type_floor'] = data.apply(floor, axis=1)\n",
    "data['type_floor'].unique()"
   ]
  },
  {
   "cell_type": "code",
   "execution_count": 29,
   "metadata": {},
   "outputs": [
    {
     "data": {
      "text/plain": [
       "array([16., 19., 14.,  7.,  8., nan, 12., 15., 52., 33., 31., 11., 13.,\n",
       "       10.,  2., 32.,  4., 17., 30.,  5., 51., 50., 24., 18.,  9., 28.,\n",
       "        3.,  6., 27., 21., 49., 35., 36., 34.,  1., 29., 26., 53., 22.,\n",
       "       55., 20., 23., 25.,  0., 66., 47., 40., 57., 37., 41., 43., 48.,\n",
       "       62., 60., 39., 42., 65., 54., 59., 45., 61., 63.])"
      ]
     },
     "execution_count": 29,
     "metadata": {},
     "output_type": "execute_result"
    }
   ],
   "source": [
    "#создаем столбец с расстоянием до центра города в километрах\n",
    "data['distance_city_center'] = (data['city_centers_nearest'] / 1000).round(0)\n",
    "data['distance_city_center'].unique()"
   ]
  },
  {
   "cell_type": "markdown",
   "metadata": {
    "id": "pPyxrKWTAwb-"
   },
   "source": [
    "### Исследовательский анализ данных"
   ]
  },
  {
   "cell_type": "markdown",
   "metadata": {},
   "source": [
    "#### Анализ по параметрам"
   ]
  },
  {
   "cell_type": "markdown",
   "metadata": {
    "id": "V2f0D3kLAwb-"
   },
   "source": [
    "##### Анализ общей площади "
   ]
  },
  {
   "cell_type": "code",
   "execution_count": 30,
   "metadata": {},
   "outputs": [
    {
     "data": {
      "text/plain": [
       "count    23699.000000\n",
       "mean        60.348651\n",
       "std         35.654083\n",
       "min         12.000000\n",
       "25%         40.000000\n",
       "50%         52.000000\n",
       "75%         69.900000\n",
       "max        900.000000\n",
       "Name: total_area, dtype: float64"
      ]
     },
     "execution_count": 30,
     "metadata": {},
     "output_type": "execute_result"
    }
   ],
   "source": [
    "data['total_area'].describe()"
   ]
  },
  {
   "cell_type": "code",
   "execution_count": 31,
   "metadata": {},
   "outputs": [
    {
     "data": {
      "text/plain": [
       "45.0    419\n",
       "42.0    383\n",
       "60.0    347\n",
       "31.0    346\n",
       "44.0    345\n",
       "Name: total_area, dtype: int64"
      ]
     },
     "execution_count": 31,
     "metadata": {},
     "output_type": "execute_result"
    }
   ],
   "source": [
    "#выведем общую площадь по количеству квратир в продаже \n",
    "data['total_area'].value_counts().head()"
   ]
  },
  {
   "cell_type": "code",
   "execution_count": 32,
   "metadata": {
    "scrolled": true
   },
   "outputs": [
    {
     "data": {
      "text/plain": [
       "<Axes: ylabel='Frequency'>"
      ]
     },
     "execution_count": 32,
     "metadata": {},
     "output_type": "execute_result"
    },
    {
     "data": {
      "image/png": "[encoded data removed]",
      "text/plain": [
       "<Figure size 640x480 with 1 Axes>"
      ]
     },
     "metadata": {},
     "output_type": "display_data"
    }
   ],
   "source": [
    "#построим гистограмму, оставим значения от минимального 12 до 200 \n",
    "data.plot(y='total_area', kind='hist', bins=100, range = (12,100), grid=True)"
   ]
  },
  {
   "cell_type": "markdown",
   "metadata": {},
   "source": [
    "Вывод: большое количество квартир с площадью от 30 до 69 кв.м с максимумом 45 кв.м и средней площадью 52 кв. м."
   ]
  },
  {
   "cell_type": "markdown",
   "metadata": {},
   "source": [
    "##### Анализ жилой площади"
   ]
  },
  {
   "cell_type": "code",
   "execution_count": 33,
   "metadata": {},
   "outputs": [
    {
     "data": {
      "text/plain": [
       "count    23699.000000\n",
       "mean        34.291407\n",
       "std         21.681085\n",
       "min          2.000000\n",
       "25%         18.400000\n",
       "50%         30.300000\n",
       "75%         42.700000\n",
       "max        409.700000\n",
       "Name: living_area, dtype: float64"
      ]
     },
     "execution_count": 33,
     "metadata": {},
     "output_type": "execute_result"
    }
   ],
   "source": [
    "data['living_area'].describe()"
   ]
  },
  {
   "cell_type": "code",
   "execution_count": 34,
   "metadata": {},
   "outputs": [
    {
     "data": {
      "text/plain": [
       "<Axes: ylabel='Frequency'>"
      ]
     },
     "execution_count": 34,
     "metadata": {},
     "output_type": "execute_result"
    },
    {
     "data": {
      "image/png": "[encoded data removed]",
      "text/plain": [
       "<Figure size 640x480 with 1 Axes>"
      ]
     },
     "metadata": {},
     "output_type": "display_data"
    }
   ],
   "source": [
    "#построим гистограмму, оставим значения от 10 до 42\n",
    "data.plot(y='living_area', kind='hist', bins=100, range = (10, 42), grid=True)"
   ]
  },
  {
   "cell_type": "markdown",
   "metadata": {},
   "source": [
    "Вывод: больше всего продают квартир с жилой площадью 18 кв.м, наблюдается спад предложений с жилой площадью 23 кв.м, также наблюдается пик на площади 30 кв.м, это модет указывать на то, что средняя жилая площадь однокомнатных квартир - 18 кв. м, а двухкомнатных - 30 кв. м. "
   ]
  },
  {
   "cell_type": "markdown",
   "metadata": {},
   "source": [
    "##### Анализ площади кухни"
   ]
  },
  {
   "cell_type": "code",
   "execution_count": 35,
   "metadata": {},
   "outputs": [
    {
     "data": {
      "text/plain": [
       "count    23699.000000\n",
       "mean         9.553814\n",
       "std          6.420973\n",
       "min          0.000000\n",
       "25%          6.300000\n",
       "50%          9.000000\n",
       "75%         11.440000\n",
       "max        112.000000\n",
       "Name: kitchen_area, dtype: float64"
      ]
     },
     "execution_count": 35,
     "metadata": {},
     "output_type": "execute_result"
    }
   ],
   "source": [
    "data['kitchen_area'].describe()"
   ]
  },
  {
   "cell_type": "code",
   "execution_count": 36,
   "metadata": {},
   "outputs": [
    {
     "data": {
      "text/plain": [
       "<Axes: ylabel='Frequency'>"
      ]
     },
     "execution_count": 36,
     "metadata": {},
     "output_type": "execute_result"
    },
    {
     "data": {
      "image/png": "[encoded data removed]",
      "text/plain": [
       "<Figure size 640x480 with 1 Axes>"
      ]
     },
     "metadata": {},
     "output_type": "display_data"
    }
   ],
   "source": [
    "#построим гистограмму, оставим значения от 6 до 12\n",
    "data.plot(y='kitchen_area', kind='hist', bins=100, range = (6, 12), grid=True)"
   ]
  },
  {
   "cell_type": "markdown",
   "metadata": {},
   "source": [
    "Вывод: наибольшее количество квартир с площадью кухни 6 кв.м, затем 10 кв.м. Прослеживается, что в анкетах указывали целое число площади."
   ]
  },
  {
   "cell_type": "markdown",
   "metadata": {},
   "source": [
    "##### Анализ цены объекта"
   ]
  },
  {
   "cell_type": "code",
   "execution_count": 37,
   "metadata": {},
   "outputs": [
    {
     "data": {
      "text/plain": [
       "count    2.369900e+04\n",
       "mean     6.541549e+06\n",
       "std      1.088701e+07\n",
       "min      1.219000e+04\n",
       "25%      3.400000e+06\n",
       "50%      4.650000e+06\n",
       "75%      6.800000e+06\n",
       "max      7.630000e+08\n",
       "Name: last_price, dtype: float64"
      ]
     },
     "execution_count": 37,
     "metadata": {},
     "output_type": "execute_result"
    }
   ],
   "source": [
    "data['last_price'].describe()"
   ]
  },
  {
   "cell_type": "code",
   "execution_count": 38,
   "metadata": {},
   "outputs": [
    {
     "data": {
      "text/plain": [
       "<Axes: ylabel='Frequency'>"
      ]
     },
     "execution_count": 38,
     "metadata": {},
     "output_type": "execute_result"
    },
    {
     "data": {
      "image/png": "[encoded data removed]",
      "text/plain": [
       "<Figure size 640x480 with 1 Axes>"
      ]
     },
     "metadata": {},
     "output_type": "display_data"
    }
   ],
   "source": [
    "#построим гистограмму, оставим значения от 0 до 15 млн\n",
    "data.plot(y='last_price', kind='hist', bins=100, range = (0,15000000), grid=True)"
   ]
  },
  {
   "cell_type": "markdown",
   "metadata": {},
   "source": [
    "Вывод: наибольшее количество квартир находится в ценовом диапазоне 3,4-4,2 млн. Распределение Гаусса."
   ]
  },
  {
   "cell_type": "markdown",
   "metadata": {},
   "source": [
    "##### Анализ количества комнат"
   ]
  },
  {
   "cell_type": "code",
   "execution_count": 39,
   "metadata": {},
   "outputs": [
    {
     "data": {
      "text/plain": [
       "count    23699.000000\n",
       "mean         2.070636\n",
       "std          1.078405\n",
       "min          0.000000\n",
       "25%          1.000000\n",
       "50%          2.000000\n",
       "75%          3.000000\n",
       "max         19.000000\n",
       "Name: rooms, dtype: float64"
      ]
     },
     "execution_count": 39,
     "metadata": {},
     "output_type": "execute_result"
    }
   ],
   "source": [
    "data['rooms'].describe()"
   ]
  },
  {
   "cell_type": "code",
   "execution_count": 40,
   "metadata": {},
   "outputs": [
    {
     "data": {
      "text/plain": [
       "<Axes: ylabel='Frequency'>"
      ]
     },
     "execution_count": 40,
     "metadata": {},
     "output_type": "execute_result"
    },
    {
     "data": {
      "image/png": "[encoded data removed]",
      "text/plain": [
       "<Figure size 640x480 with 1 Axes>"
      ]
     },
     "metadata": {},
     "output_type": "display_data"
    }
   ],
   "source": [
    "#построим гистограмму, оставим значения от 0 до 7\n",
    "data.plot(y='rooms', kind='hist', bins=50, range=(0, 7), grid=True)"
   ]
  },
  {
   "cell_type": "markdown",
   "metadata": {},
   "source": [
    "Вывод: наибольшее количество квартир имеют одну комнату, с увеличением количества комнат уменьшается количество предложений."
   ]
  },
  {
   "cell_type": "markdown",
   "metadata": {},
   "source": [
    "##### Анализ высоты потолков"
   ]
  },
  {
   "cell_type": "code",
   "execution_count": 41,
   "metadata": {},
   "outputs": [
    {
     "data": {
      "text/plain": [
       "count    23699.000000\n",
       "mean         2.724358\n",
       "std          0.988298\n",
       "min          1.000000\n",
       "25%          2.600000\n",
       "50%          2.650000\n",
       "75%          2.700000\n",
       "max        100.000000\n",
       "Name: ceiling_height, dtype: float64"
      ]
     },
     "execution_count": 41,
     "metadata": {},
     "output_type": "execute_result"
    }
   ],
   "source": [
    "data['ceiling_height'].describe()"
   ]
  },
  {
   "cell_type": "code",
   "execution_count": 42,
   "metadata": {},
   "outputs": [
    {
     "data": {
      "text/plain": [
       "<Axes: ylabel='Frequency'>"
      ]
     },
     "execution_count": 42,
     "metadata": {},
     "output_type": "execute_result"
    },
    {
     "data": {
      "image/png": "[encoded data removed]",
      "text/plain": [
       "<Figure size 640x480 with 1 Axes>"
      ]
     },
     "metadata": {},
     "output_type": "display_data"
    }
   ],
   "source": [
    "#построим гистограмму, оставим значения от 2 до 5\n",
    "data.plot(y='ceiling_height', kind='hist', bins=30, range=(2, 5), grid=True)"
   ]
  },
  {
   "cell_type": "markdown",
   "metadata": {},
   "source": [
    "Вывод: наибольшее количество квартир имеют высоту потолков 2,65 м."
   ]
  },
  {
   "cell_type": "markdown",
   "metadata": {},
   "source": [
    "##### Анализ типа этажа квартиры"
   ]
  },
  {
   "cell_type": "code",
   "execution_count": 43,
   "metadata": {},
   "outputs": [
    {
     "data": {
      "text/plain": [
       "count      23699\n",
       "unique         3\n",
       "top       другой\n",
       "freq       17441\n",
       "Name: type_floor, dtype: object"
      ]
     },
     "execution_count": 43,
     "metadata": {},
     "output_type": "execute_result"
    }
   ],
   "source": [
    "data['type_floor'].describe()"
   ]
  },
  {
   "cell_type": "code",
   "execution_count": 44,
   "metadata": {},
   "outputs": [
    {
     "data": {
      "text/plain": [
       "<Axes: ylabel='floor'>"
      ]
     },
     "execution_count": 44,
     "metadata": {},
     "output_type": "execute_result"
    },
    {
     "data": {
      "image/png": "[encoded data removed]",
      "text/plain": [
       "<Figure size 640x480 with 1 Axes>"
      ]
     },
     "metadata": {},
     "output_type": "display_data"
    }
   ],
   "source": [
    "#построим гистограмму, оставим значения от 2 до 6\n",
    "(data\n",
    "    .pivot_table(values='floor', index='type_floor', aggfunc='count')\n",
    "    .plot(y='floor', kind='pie')\n",
    ")"
   ]
  },
  {
   "cell_type": "markdown",
   "metadata": {},
   "source": [
    "Вывод: по диаграмме видно, что наибольше количество квартир находятся не на первом и не последнем этаже. Количество квартир на первом и последнем этажах составляет чуть больше 25%."
   ]
  },
  {
   "cell_type": "markdown",
   "metadata": {},
   "source": [
    "##### Анализ общего количества этажей в доме"
   ]
  },
  {
   "cell_type": "code",
   "execution_count": 45,
   "metadata": {},
   "outputs": [
    {
     "data": {
      "text/plain": [
       "count    23699.000000\n",
       "mean        10.667750\n",
       "std          6.585961\n",
       "min          1.000000\n",
       "25%          5.000000\n",
       "50%          9.000000\n",
       "75%         16.000000\n",
       "max         60.000000\n",
       "Name: floors_total, dtype: float64"
      ]
     },
     "execution_count": 45,
     "metadata": {},
     "output_type": "execute_result"
    }
   ],
   "source": [
    "data['floors_total'].describe()"
   ]
  },
  {
   "cell_type": "code",
   "execution_count": 46,
   "metadata": {},
   "outputs": [
    {
     "data": {
      "text/plain": [
       "<Axes: ylabel='Frequency'>"
      ]
     },
     "execution_count": 46,
     "metadata": {},
     "output_type": "execute_result"
    },
    {
     "data": {
      "image/png": "[encoded data removed]",
      "text/plain": [
       "<Figure size 640x480 with 1 Axes>"
      ]
     },
     "metadata": {},
     "output_type": "display_data"
    }
   ],
   "source": [
    "#построим гистограмму, оставим значения от 0 до 30\n",
    "data.plot(y='floors_total', kind='hist', bins=50, range=(0, 30), grid=True)"
   ]
  },
  {
   "cell_type": "markdown",
   "metadata": {},
   "source": [
    "Вывод: больше всего предложений по продаже квартир в пятиэтажных домах."
   ]
  },
  {
   "cell_type": "markdown",
   "metadata": {},
   "source": [
    "##### Анализ расстояния до центра города в метрах"
   ]
  },
  {
   "cell_type": "code",
   "execution_count": 47,
   "metadata": {},
   "outputs": [
    {
     "data": {
      "text/plain": [
       "count    18180.000000\n",
       "mean     14191.277833\n",
       "std       8608.386210\n",
       "min        181.000000\n",
       "25%       9238.000000\n",
       "50%      13098.500000\n",
       "75%      16293.000000\n",
       "max      65968.000000\n",
       "Name: city_centers_nearest, dtype: float64"
      ]
     },
     "execution_count": 47,
     "metadata": {},
     "output_type": "execute_result"
    }
   ],
   "source": [
    "data['city_centers_nearest'].describe()"
   ]
  },
  {
   "cell_type": "code",
   "execution_count": 48,
   "metadata": {},
   "outputs": [
    {
     "data": {
      "text/plain": [
       "<Axes: ylabel='Frequency'>"
      ]
     },
     "execution_count": 48,
     "metadata": {},
     "output_type": "execute_result"
    },
    {
     "data": {
      "image/png": "[encoded data removed]",
      "text/plain": [
       "<Figure size 640x480 with 1 Axes>"
      ]
     },
     "metadata": {},
     "output_type": "display_data"
    }
   ],
   "source": [
    "#построим гистограмму, оставим значения от 180 до 20000\n",
    "data.plot(y='city_centers_nearest', kind='hist', bins=100, range=(180, 20000), grid=True)"
   ]
  },
  {
   "cell_type": "markdown",
   "metadata": {},
   "source": [
    "Вывод: больше всего предложений по продаже квартир вдалеке от центра города (12-15 км), наблюдается еще один пик на расстоянии 5 км от центра города."
   ]
  },
  {
   "cell_type": "markdown",
   "metadata": {},
   "source": [
    "##### Анализ расстояния до ближайшего парка"
   ]
  },
  {
   "cell_type": "code",
   "execution_count": 49,
   "metadata": {},
   "outputs": [
    {
     "data": {
      "text/plain": [
       "count    8079.000000\n",
       "mean      490.804555\n",
       "std       342.317995\n",
       "min         1.000000\n",
       "25%       288.000000\n",
       "50%       455.000000\n",
       "75%       612.000000\n",
       "max      3190.000000\n",
       "Name: parks_nearest, dtype: float64"
      ]
     },
     "execution_count": 49,
     "metadata": {},
     "output_type": "execute_result"
    }
   ],
   "source": [
    "data['parks_nearest'].describe()"
   ]
  },
  {
   "cell_type": "code",
   "execution_count": 50,
   "metadata": {},
   "outputs": [
    {
     "data": {
      "text/plain": [
       "<Axes: ylabel='Frequency'>"
      ]
     },
     "execution_count": 50,
     "metadata": {},
     "output_type": "execute_result"
    },
    {
     "data": {
      "image/png": "[encoded data removed]",
      "text/plain": [
       "<Figure size 640x480 with 1 Axes>"
      ]
     },
     "metadata": {},
     "output_type": "display_data"
    }
   ],
   "source": [
    "#построим гистограмму, оставим значения от 0 до 1000\n",
    "data.plot(y='parks_nearest', kind='hist', bins=100, range=(0, 1000), grid=True)"
   ]
  },
  {
   "cell_type": "markdown",
   "metadata": {},
   "source": [
    "Вывод: количество предложений не сильно зависит от расстояния до ближайшего парка. Среднее расстояние до парка 200-700 метров."
   ]
  },
  {
   "cell_type": "markdown",
   "metadata": {},
   "source": [
    "#### Изучаем, как быстро продавались квартиры"
   ]
  },
  {
   "cell_type": "code",
   "execution_count": 51,
   "metadata": {},
   "outputs": [
    {
     "data": {
      "text/plain": [
       "count    20518.000000\n",
       "mean       180.888634\n",
       "std        219.727988\n",
       "min          1.000000\n",
       "25%         45.000000\n",
       "50%         95.000000\n",
       "75%        232.000000\n",
       "max       1580.000000\n",
       "Name: days_exposition, dtype: float64"
      ]
     },
     "execution_count": 51,
     "metadata": {},
     "output_type": "execute_result"
    }
   ],
   "source": [
    "data['days_exposition'].describe()"
   ]
  },
  {
   "cell_type": "code",
   "execution_count": 52,
   "metadata": {},
   "outputs": [
    {
     "data": {
      "text/plain": [
       "<Axes: ylabel='Frequency'>"
      ]
     },
     "execution_count": 52,
     "metadata": {},
     "output_type": "execute_result"
    },
    {
     "data": {
      "image/png": "[encoded data removed]",
      "text/plain": [
       "<Figure size 640x480 with 1 Axes>"
      ]
     },
     "metadata": {},
     "output_type": "display_data"
    }
   ],
   "source": [
    "#построим гистограмму, оставим значения от 0 до 300\n",
    "data.plot(y='days_exposition', kind='hist', bins=100, range=(0, 300), grid=True)"
   ]
  },
  {
   "cell_type": "markdown",
   "metadata": {},
   "source": [
    "Вывод: среднее значение по времени продажи квартиры - 180 дней, медианное - 95 дней. В среднем продажа занимает 2-3 месяца. Быстрыми продажами можно считать продажи за 45 дней (1 квартиль), долгими - больше 232 дней (3 квартиль)"
   ]
  },
  {
   "cell_type": "markdown",
   "metadata": {},
   "source": [
    "#### Факторы, которые больше всего влияют на общую (полную) стоимость объекта"
   ]
  },
  {
   "cell_type": "code",
   "execution_count": 53,
   "metadata": {},
   "outputs": [
    {
     "data": {
      "text/html": [
       "<div>\n",
       "<style scoped>\n",
       "    .dataframe tbody tr th:only-of-type {\n",
       "        vertical-align: middle;\n",
       "    }\n",
       "\n",
       "    .dataframe tbody tr th {\n",
       "        vertical-align: top;\n",
       "    }\n",
       "\n",
       "    .dataframe thead th {\n",
       "        text-align: right;\n",
       "    }\n",
       "</style>\n",
       "<table border=\"1\" class=\"dataframe\">\n",
       "  <thead>\n",
       "    <tr style=\"text-align: right;\">\n",
       "      <th></th>\n",
       "      <th>day_publication</th>\n",
       "      <th>kitchen_area</th>\n",
       "      <th>last_price</th>\n",
       "      <th>living_area</th>\n",
       "      <th>month_publication</th>\n",
       "      <th>rooms</th>\n",
       "      <th>total_area</th>\n",
       "      <th>year_publication</th>\n",
       "    </tr>\n",
       "  </thead>\n",
       "  <tbody>\n",
       "    <tr>\n",
       "      <th>day_publication</th>\n",
       "      <td>1.000000</td>\n",
       "      <td>0.551975</td>\n",
       "      <td>0.323738</td>\n",
       "      <td>0.086971</td>\n",
       "      <td>0.269221</td>\n",
       "      <td>-0.059111</td>\n",
       "      <td>0.320962</td>\n",
       "      <td>0.181063</td>\n",
       "    </tr>\n",
       "    <tr>\n",
       "      <th>kitchen_area</th>\n",
       "      <td>0.551975</td>\n",
       "      <td>1.000000</td>\n",
       "      <td>0.284824</td>\n",
       "      <td>0.150583</td>\n",
       "      <td>-0.009482</td>\n",
       "      <td>0.177180</td>\n",
       "      <td>0.454583</td>\n",
       "      <td>-0.254011</td>\n",
       "    </tr>\n",
       "    <tr>\n",
       "      <th>last_price</th>\n",
       "      <td>0.323738</td>\n",
       "      <td>0.284824</td>\n",
       "      <td>1.000000</td>\n",
       "      <td>0.618262</td>\n",
       "      <td>-0.019113</td>\n",
       "      <td>0.442449</td>\n",
       "      <td>0.738972</td>\n",
       "      <td>-0.052080</td>\n",
       "    </tr>\n",
       "    <tr>\n",
       "      <th>living_area</th>\n",
       "      <td>0.086971</td>\n",
       "      <td>0.150583</td>\n",
       "      <td>0.618262</td>\n",
       "      <td>1.000000</td>\n",
       "      <td>-0.155820</td>\n",
       "      <td>0.901987</td>\n",
       "      <td>0.922504</td>\n",
       "      <td>-0.054351</td>\n",
       "    </tr>\n",
       "    <tr>\n",
       "      <th>month_publication</th>\n",
       "      <td>0.269221</td>\n",
       "      <td>-0.009482</td>\n",
       "      <td>-0.019113</td>\n",
       "      <td>-0.155820</td>\n",
       "      <td>1.000000</td>\n",
       "      <td>-0.289615</td>\n",
       "      <td>-0.056876</td>\n",
       "      <td>-0.355876</td>\n",
       "    </tr>\n",
       "    <tr>\n",
       "      <th>rooms</th>\n",
       "      <td>-0.059111</td>\n",
       "      <td>0.177180</td>\n",
       "      <td>0.442449</td>\n",
       "      <td>0.901987</td>\n",
       "      <td>-0.289615</td>\n",
       "      <td>1.000000</td>\n",
       "      <td>0.811538</td>\n",
       "      <td>-0.046553</td>\n",
       "    </tr>\n",
       "    <tr>\n",
       "      <th>total_area</th>\n",
       "      <td>0.320962</td>\n",
       "      <td>0.454583</td>\n",
       "      <td>0.738972</td>\n",
       "      <td>0.922504</td>\n",
       "      <td>-0.056876</td>\n",
       "      <td>0.811538</td>\n",
       "      <td>1.000000</td>\n",
       "      <td>-0.091682</td>\n",
       "    </tr>\n",
       "    <tr>\n",
       "      <th>year_publication</th>\n",
       "      <td>0.181063</td>\n",
       "      <td>-0.254011</td>\n",
       "      <td>-0.052080</td>\n",
       "      <td>-0.054351</td>\n",
       "      <td>-0.355876</td>\n",
       "      <td>-0.046553</td>\n",
       "      <td>-0.091682</td>\n",
       "      <td>1.000000</td>\n",
       "    </tr>\n",
       "  </tbody>\n",
       "</table>\n",
       "</div>"
      ],
      "text/plain": [
       "                   day_publication  kitchen_area  last_price  living_area  \\\n",
       "day_publication           1.000000      0.551975    0.323738     0.086971   \n",
       "kitchen_area              0.551975      1.000000    0.284824     0.150583   \n",
       "last_price                0.323738      0.284824    1.000000     0.618262   \n",
       "living_area               0.086971      0.150583    0.618262     1.000000   \n",
       "month_publication         0.269221     -0.009482   -0.019113    -0.155820   \n",
       "rooms                    -0.059111      0.177180    0.442449     0.901987   \n",
       "total_area                0.320962      0.454583    0.738972     0.922504   \n",
       "year_publication          0.181063     -0.254011   -0.052080    -0.054351   \n",
       "\n",
       "                   month_publication     rooms  total_area  year_publication  \n",
       "day_publication             0.269221 -0.059111    0.320962          0.181063  \n",
       "kitchen_area               -0.009482  0.177180    0.454583         -0.254011  \n",
       "last_price                 -0.019113  0.442449    0.738972         -0.052080  \n",
       "living_area                -0.155820  0.901987    0.922504         -0.054351  \n",
       "month_publication           1.000000 -0.289615   -0.056876         -0.355876  \n",
       "rooms                      -0.289615  1.000000    0.811538         -0.046553  \n",
       "total_area                 -0.056876  0.811538    1.000000         -0.091682  \n",
       "year_publication           -0.355876 -0.046553   -0.091682          1.000000  "
      ]
     },
     "execution_count": 53,
     "metadata": {},
     "output_type": "execute_result"
    }
   ],
   "source": [
    "data_corr = data.pivot_table(index='floor', values=['last_price', 'total_area', 'living_area', 'kitchen_area', 'rooms', 'day_publication', 'month_publication', 'year_publication']).corr()\n",
    "data_corr"
   ]
  },
  {
   "cell_type": "code",
   "execution_count": 54,
   "metadata": {},
   "outputs": [
    {
     "name": "stdout",
     "output_type": "stream",
     "text": [
      "0.6536750579657239\n"
     ]
    },
    {
     "name": "stderr",
     "output_type": "stream",
     "text": [
      "c:\\Users\\aandr\\miniconda3\\envs\\practicum\\lib\\site-packages\\pandas\\plotting\\_matplotlib\\core.py:1041: UserWarning: No data for colormapping provided via 'c'. Parameters 'cmap' will be ignored\n",
      "  scatter = ax.scatter(\n"
     ]
    },
    {
     "data": {
      "text/plain": [
       "<Axes: xlabel='total_area', ylabel='last_price'>"
      ]
     },
     "execution_count": 54,
     "metadata": {},
     "output_type": "execute_result"
    },
    {
     "data": {
      "image/png": "[encoded data removed]",
      "text/plain": [
       "<Figure size 640x480 with 1 Axes>"
      ]
     },
     "metadata": {},
     "output_type": "display_data"
    }
   ],
   "source": [
    "print(data['total_area'].corr(data['last_price']))\n",
    "data.plot(x='total_area', y='last_price', kind='scatter', grid=True)"
   ]
  },
  {
   "cell_type": "code",
   "execution_count": 55,
   "metadata": {},
   "outputs": [
    {
     "name": "stdout",
     "output_type": "stream",
     "text": [
      "0.5567159903291815\n"
     ]
    },
    {
     "data": {
      "text/plain": [
       "<Axes: xlabel='living_area', ylabel='last_price'>"
      ]
     },
     "execution_count": 55,
     "metadata": {},
     "output_type": "execute_result"
    },
    {
     "data": {
      "image/png": "[encoded data removed]",
      "text/plain": [
       "<Figure size 640x480 with 1 Axes>"
      ]
     },
     "metadata": {},
     "output_type": "display_data"
    }
   ],
   "source": [
    "print(data['living_area'].corr(data['last_price']))\n",
    "data.plot(x='living_area', y='last_price', kind='scatter', grid=True)"
   ]
  },
  {
   "cell_type": "code",
   "execution_count": 56,
   "metadata": {},
   "outputs": [
    {
     "name": "stdout",
     "output_type": "stream",
     "text": [
      "0.38644378419384234\n"
     ]
    },
    {
     "data": {
      "text/plain": [
       "<Axes: xlabel='kitchen_area', ylabel='last_price'>"
      ]
     },
     "execution_count": 56,
     "metadata": {},
     "output_type": "execute_result"
    },
    {
     "data": {
      "image/png": "[encoded data removed]",
      "text/plain": [
       "<Figure size 640x480 with 1 Axes>"
      ]
     },
     "metadata": {},
     "output_type": "display_data"
    }
   ],
   "source": [
    "print(data['kitchen_area'].corr(data['last_price']))\n",
    "data.plot(x='kitchen_area', y='last_price', kind='scatter', grid=True)"
   ]
  },
  {
   "cell_type": "code",
   "execution_count": 57,
   "metadata": {},
   "outputs": [
    {
     "data": {
      "text/plain": [
       "<Axes: xlabel='rooms'>"
      ]
     },
     "execution_count": 57,
     "metadata": {},
     "output_type": "execute_result"
    },
    {
     "data": {
      "image/png": "[encoded data removed]",
      "text/plain": [
       "<Figure size 700x500 with 1 Axes>"
      ]
     },
     "metadata": {},
     "output_type": "display_data"
    }
   ],
   "source": [
    "(data\n",
    "    .pivot_table(index='rooms', values='last_price')\n",
    "    .plot(style='o-', grid=True, figsize=(7, 5))\n",
    ")"
   ]
  },
  {
   "cell_type": "code",
   "execution_count": 58,
   "metadata": {},
   "outputs": [
    {
     "data": {
      "text/plain": [
       "<Axes: xlabel='type_floor'>"
      ]
     },
     "execution_count": 58,
     "metadata": {},
     "output_type": "execute_result"
    },
    {
     "data": {
      "image/png": "[encoded data removed]",
      "text/plain": [
       "<Figure size 700x500 with 1 Axes>"
      ]
     },
     "metadata": {},
     "output_type": "display_data"
    }
   ],
   "source": [
    "(data\n",
    "    .pivot_table(index='type_floor', values='last_price')\n",
    "    .plot(style='o-', grid=True, figsize=(7, 5))\n",
    ")"
   ]
  },
  {
   "cell_type": "code",
   "execution_count": 59,
   "metadata": {},
   "outputs": [
    {
     "data": {
      "text/plain": [
       "<Axes: xlabel='day_publication'>"
      ]
     },
     "execution_count": 59,
     "metadata": {},
     "output_type": "execute_result"
    },
    {
     "data": {
      "image/png": "[encoded data removed]",
      "text/plain": [
       "<Figure size 700x500 with 1 Axes>"
      ]
     },
     "metadata": {},
     "output_type": "display_data"
    }
   ],
   "source": [
    "(data\n",
    "    .pivot_table(index='day_publication', values='last_price')\n",
    "    .plot(style='o-', grid=True, figsize=(7, 5))\n",
    ")"
   ]
  },
  {
   "cell_type": "code",
   "execution_count": 60,
   "metadata": {},
   "outputs": [
    {
     "data": {
      "text/plain": [
       "<Axes: xlabel='month_publication'>"
      ]
     },
     "execution_count": 60,
     "metadata": {},
     "output_type": "execute_result"
    },
    {
     "data": {
      "image/png": "[encoded data removed]",
      "text/plain": [
       "<Figure size 700x500 with 1 Axes>"
      ]
     },
     "metadata": {},
     "output_type": "display_data"
    }
   ],
   "source": [
    "(data\n",
    "    .pivot_table(index='month_publication', values='last_price')\n",
    "    .plot(style='o-', grid=True, figsize=(7, 5))\n",
    ")"
   ]
  },
  {
   "cell_type": "code",
   "execution_count": 61,
   "metadata": {},
   "outputs": [
    {
     "data": {
      "text/plain": [
       "<Axes: xlabel='year_publication'>"
      ]
     },
     "execution_count": 61,
     "metadata": {},
     "output_type": "execute_result"
    },
    {
     "data": {
      "image/png": "[encoded data removed]",
      "text/plain": [
       "<Figure size 700x500 with 1 Axes>"
      ]
     },
     "metadata": {},
     "output_type": "display_data"
    }
   ],
   "source": [
    "(data\n",
    "    .pivot_table(index='year_publication', values='last_price')\n",
    "    .plot(style='o-', grid=True, figsize=(7, 5))\n",
    ")"
   ]
  },
  {
   "cell_type": "markdown",
   "metadata": {},
   "source": [
    "Вывод:\n",
    "1. Наибольшую корреляцию имеет общая площадь квартиры (~0,74). Чем больше общая площадь, тем больше стоимость квартиры.\n",
    "2. Корреляция между жилой площадью и стоимостью немного меньше, чем с общей площадью (0,65).\n",
    "3. Слабая зависимость между ценой и днем публикации, площадью кухни, количеством комнат.\n",
    "3. Нет зависимости между ценой и месяцем публикации, годом публикации"
   ]
  },
  {
   "cell_type": "markdown",
   "metadata": {},
   "source": [
    "#### Средняя цена кв.м в 10 населённых пунктах"
   ]
  },
  {
   "cell_type": "code",
   "execution_count": 62,
   "metadata": {},
   "outputs": [
    {
     "data": {
      "text/html": [
       "<div>\n",
       "<style scoped>\n",
       "    .dataframe tbody tr th:only-of-type {\n",
       "        vertical-align: middle;\n",
       "    }\n",
       "\n",
       "    .dataframe tbody tr th {\n",
       "        vertical-align: top;\n",
       "    }\n",
       "\n",
       "    .dataframe thead th {\n",
       "        text-align: right;\n",
       "    }\n",
       "</style>\n",
       "<table border=\"1\" class=\"dataframe\">\n",
       "  <thead>\n",
       "    <tr style=\"text-align: right;\">\n",
       "      <th></th>\n",
       "      <th>count</th>\n",
       "      <th>price_square_meter</th>\n",
       "    </tr>\n",
       "    <tr>\n",
       "      <th>locality_name</th>\n",
       "      <th></th>\n",
       "      <th></th>\n",
       "    </tr>\n",
       "  </thead>\n",
       "  <tbody>\n",
       "    <tr>\n",
       "      <th>Санкт-Петербург</th>\n",
       "      <td>15721</td>\n",
       "      <td>114849.01</td>\n",
       "    </tr>\n",
       "    <tr>\n",
       "      <th>Пушкин</th>\n",
       "      <td>369</td>\n",
       "      <td>103125.82</td>\n",
       "    </tr>\n",
       "    <tr>\n",
       "      <th>Кудрово</th>\n",
       "      <td>472</td>\n",
       "      <td>95324.93</td>\n",
       "    </tr>\n",
       "    <tr>\n",
       "      <th>Парголово</th>\n",
       "      <td>327</td>\n",
       "      <td>90175.91</td>\n",
       "    </tr>\n",
       "    <tr>\n",
       "      <th>Мурино</th>\n",
       "      <td>590</td>\n",
       "      <td>86087.51</td>\n",
       "    </tr>\n",
       "    <tr>\n",
       "      <th>Шушары</th>\n",
       "      <td>440</td>\n",
       "      <td>78677.36</td>\n",
       "    </tr>\n",
       "    <tr>\n",
       "      <th>Колпино</th>\n",
       "      <td>338</td>\n",
       "      <td>75424.58</td>\n",
       "    </tr>\n",
       "    <tr>\n",
       "      <th>Гатчина</th>\n",
       "      <td>307</td>\n",
       "      <td>68746.15</td>\n",
       "    </tr>\n",
       "    <tr>\n",
       "      <th>Всеволожск</th>\n",
       "      <td>398</td>\n",
       "      <td>68654.47</td>\n",
       "    </tr>\n",
       "    <tr>\n",
       "      <th>Выборг</th>\n",
       "      <td>237</td>\n",
       "      <td>58141.91</td>\n",
       "    </tr>\n",
       "  </tbody>\n",
       "</table>\n",
       "</div>"
      ],
      "text/plain": [
       "                 count  price_square_meter\n",
       "locality_name                             \n",
       "Санкт-Петербург  15721           114849.01\n",
       "Пушкин             369           103125.82\n",
       "Кудрово            472            95324.93\n",
       "Парголово          327            90175.91\n",
       "Мурино             590            86087.51\n",
       "Шушары             440            78677.36\n",
       "Колпино            338            75424.58\n",
       "Гатчина            307            68746.15\n",
       "Всеволожск         398            68654.47\n",
       "Выборг             237            58141.91"
      ]
     },
     "execution_count": 62,
     "metadata": {},
     "output_type": "execute_result"
    }
   ],
   "source": [
    "price_sqr_meter = data.pivot_table(index='locality_name', values='last_price', aggfunc=['count'])\n",
    "price_sqr_meter.columns = ['count']\n",
    "price_sqr_meter = price_sqr_meter.sort_values(by='count', ascending=False).head(10)\n",
    "price_sqr_meter['price_square_meter'] = data.pivot_table(index='locality_name', values='price_square_meter').round(2)\n",
    "price_sqr_meter = price_sqr_meter.sort_values(by='price_square_meter', ascending=False)\n",
    "price_sqr_meter.head(10)"
   ]
  },
  {
   "cell_type": "markdown",
   "metadata": {},
   "source": [
    "Вывод: самая высокая стоимость квадратного метра в Санкт-Петербурге, самая низкая стоимость квадратного метра из этих десяти населенных пунтов в Выборге."
   ]
  },
  {
   "cell_type": "markdown",
   "metadata": {},
   "source": [
    "#### Средняя стоимость квартир в Санкт-Петербурге на разном удаленни от центра"
   ]
  },
  {
   "cell_type": "code",
   "execution_count": 63,
   "metadata": {},
   "outputs": [
    {
     "data": {
      "text/html": [
       "<div>\n",
       "<style scoped>\n",
       "    .dataframe tbody tr th:only-of-type {\n",
       "        vertical-align: middle;\n",
       "    }\n",
       "\n",
       "    .dataframe tbody tr th {\n",
       "        vertical-align: top;\n",
       "    }\n",
       "\n",
       "    .dataframe thead tr th {\n",
       "        text-align: left;\n",
       "    }\n",
       "\n",
       "    .dataframe thead tr:last-of-type th {\n",
       "        text-align: right;\n",
       "    }\n",
       "</style>\n",
       "<table border=\"1\" class=\"dataframe\">\n",
       "  <thead>\n",
       "    <tr>\n",
       "      <th></th>\n",
       "      <th>mean</th>\n",
       "    </tr>\n",
       "    <tr>\n",
       "      <th></th>\n",
       "      <th>last_price</th>\n",
       "    </tr>\n",
       "    <tr>\n",
       "      <th>distance_city_center</th>\n",
       "      <th></th>\n",
       "    </tr>\n",
       "  </thead>\n",
       "  <tbody>\n",
       "    <tr>\n",
       "      <th>0</th>\n",
       "      <td>3.144912e+07</td>\n",
       "    </tr>\n",
       "    <tr>\n",
       "      <th>1</th>\n",
       "      <td>2.120672e+07</td>\n",
       "    </tr>\n",
       "    <tr>\n",
       "      <th>2</th>\n",
       "      <td>1.778832e+07</td>\n",
       "    </tr>\n",
       "    <tr>\n",
       "      <th>3</th>\n",
       "      <td>1.112658e+07</td>\n",
       "    </tr>\n",
       "    <tr>\n",
       "      <th>4</th>\n",
       "      <td>1.330428e+07</td>\n",
       "    </tr>\n",
       "    <tr>\n",
       "      <th>5</th>\n",
       "      <td>1.449912e+07</td>\n",
       "    </tr>\n",
       "    <tr>\n",
       "      <th>6</th>\n",
       "      <td>1.533842e+07</td>\n",
       "    </tr>\n",
       "    <tr>\n",
       "      <th>7</th>\n",
       "      <td>1.477515e+07</td>\n",
       "    </tr>\n",
       "    <tr>\n",
       "      <th>8</th>\n",
       "      <td>9.957717e+06</td>\n",
       "    </tr>\n",
       "    <tr>\n",
       "      <th>9</th>\n",
       "      <td>6.950659e+06</td>\n",
       "    </tr>\n",
       "    <tr>\n",
       "      <th>10</th>\n",
       "      <td>6.504119e+06</td>\n",
       "    </tr>\n",
       "    <tr>\n",
       "      <th>11</th>\n",
       "      <td>6.250815e+06</td>\n",
       "    </tr>\n",
       "    <tr>\n",
       "      <th>12</th>\n",
       "      <td>5.828545e+06</td>\n",
       "    </tr>\n",
       "    <tr>\n",
       "      <th>13</th>\n",
       "      <td>6.083141e+06</td>\n",
       "    </tr>\n",
       "    <tr>\n",
       "      <th>14</th>\n",
       "      <td>5.629101e+06</td>\n",
       "    </tr>\n",
       "    <tr>\n",
       "      <th>15</th>\n",
       "      <td>5.884751e+06</td>\n",
       "    </tr>\n",
       "    <tr>\n",
       "      <th>16</th>\n",
       "      <td>5.373131e+06</td>\n",
       "    </tr>\n",
       "    <tr>\n",
       "      <th>17</th>\n",
       "      <td>5.292395e+06</td>\n",
       "    </tr>\n",
       "    <tr>\n",
       "      <th>18</th>\n",
       "      <td>5.091331e+06</td>\n",
       "    </tr>\n",
       "    <tr>\n",
       "      <th>19</th>\n",
       "      <td>5.037675e+06</td>\n",
       "    </tr>\n",
       "    <tr>\n",
       "      <th>20</th>\n",
       "      <td>5.951465e+06</td>\n",
       "    </tr>\n",
       "    <tr>\n",
       "      <th>21</th>\n",
       "      <td>5.493469e+06</td>\n",
       "    </tr>\n",
       "    <tr>\n",
       "      <th>22</th>\n",
       "      <td>5.415524e+06</td>\n",
       "    </tr>\n",
       "    <tr>\n",
       "      <th>23</th>\n",
       "      <td>4.985376e+06</td>\n",
       "    </tr>\n",
       "    <tr>\n",
       "      <th>24</th>\n",
       "      <td>3.854430e+06</td>\n",
       "    </tr>\n",
       "    <tr>\n",
       "      <th>25</th>\n",
       "      <td>4.052840e+06</td>\n",
       "    </tr>\n",
       "    <tr>\n",
       "      <th>26</th>\n",
       "      <td>3.973013e+06</td>\n",
       "    </tr>\n",
       "    <tr>\n",
       "      <th>27</th>\n",
       "      <td>8.300000e+06</td>\n",
       "    </tr>\n",
       "    <tr>\n",
       "      <th>28</th>\n",
       "      <td>5.026429e+06</td>\n",
       "    </tr>\n",
       "    <tr>\n",
       "      <th>29</th>\n",
       "      <td>4.236667e+06</td>\n",
       "    </tr>\n",
       "  </tbody>\n",
       "</table>\n",
       "</div>"
      ],
      "text/plain": [
       "                              mean\n",
       "                        last_price\n",
       "distance_city_center              \n",
       "0                     3.144912e+07\n",
       "1                     2.120672e+07\n",
       "2                     1.778832e+07\n",
       "3                     1.112658e+07\n",
       "4                     1.330428e+07\n",
       "5                     1.449912e+07\n",
       "6                     1.533842e+07\n",
       "7                     1.477515e+07\n",
       "8                     9.957717e+06\n",
       "9                     6.950659e+06\n",
       "10                    6.504119e+06\n",
       "11                    6.250815e+06\n",
       "12                    5.828545e+06\n",
       "13                    6.083141e+06\n",
       "14                    5.629101e+06\n",
       "15                    5.884751e+06\n",
       "16                    5.373131e+06\n",
       "17                    5.292395e+06\n",
       "18                    5.091331e+06\n",
       "19                    5.037675e+06\n",
       "20                    5.951465e+06\n",
       "21                    5.493469e+06\n",
       "22                    5.415524e+06\n",
       "23                    4.985376e+06\n",
       "24                    3.854430e+06\n",
       "25                    4.052840e+06\n",
       "26                    3.973013e+06\n",
       "27                    8.300000e+06\n",
       "28                    5.026429e+06\n",
       "29                    4.236667e+06"
      ]
     },
     "execution_count": 63,
     "metadata": {},
     "output_type": "execute_result"
    }
   ],
   "source": [
    "data['distance_city_center'] = data['distance_city_center'].fillna(1000).astype('int')\n",
    "city_center = (\n",
    "    data\n",
    "    .query('locality_name == \"Санкт-Петербург\" and distance_city_center != 1000')\n",
    "    .pivot_table(index='distance_city_center', values='last_price', aggfunc=['mean'])\n",
    ")\n",
    "city_center"
   ]
  },
  {
   "cell_type": "code",
   "execution_count": 64,
   "metadata": {},
   "outputs": [
    {
     "data": {
      "text/plain": [
       "<Axes: xlabel='distance_city_center'>"
      ]
     },
     "execution_count": 64,
     "metadata": {},
     "output_type": "execute_result"
    },
    {
     "data": {
      "image/png": "[encoded data removed]",
      "text/plain": [
       "<Figure size 1000x700 with 1 Axes>"
      ]
     },
     "metadata": {},
     "output_type": "display_data"
    }
   ],
   "source": [
    "city_center.plot(figsize=(10, 7), style='o-', grid=True)"
   ]
  },
  {
   "cell_type": "markdown",
   "metadata": {},
   "source": [
    "Вывод: По графику видно что самые дорогие квартиры в центре. До 4 км стоимость снижается, а после снова начинаем не значительно возрастает, с 9 км стоимость не зависит от удаления от центра."
   ]
  },
  {
   "cell_type": "code",
   "execution_count": 65,
   "metadata": {},
   "outputs": [
    {
     "data": {
      "text/html": [
       "<div>\n",
       "<style scoped>\n",
       "    .dataframe tbody tr th:only-of-type {\n",
       "        vertical-align: middle;\n",
       "    }\n",
       "\n",
       "    .dataframe tbody tr th {\n",
       "        vertical-align: top;\n",
       "    }\n",
       "\n",
       "    .dataframe thead th {\n",
       "        text-align: right;\n",
       "    }\n",
       "</style>\n",
       "<table border=\"1\" class=\"dataframe\">\n",
       "  <thead>\n",
       "    <tr style=\"text-align: right;\">\n",
       "      <th></th>\n",
       "      <th>total_images</th>\n",
       "      <th>last_price</th>\n",
       "      <th>total_area</th>\n",
       "      <th>first_day_exposition</th>\n",
       "      <th>rooms</th>\n",
       "      <th>ceiling_height</th>\n",
       "      <th>floors_total</th>\n",
       "      <th>living_area</th>\n",
       "      <th>floor</th>\n",
       "      <th>is_apartment</th>\n",
       "      <th>...</th>\n",
       "      <th>ponds_around3000</th>\n",
       "      <th>ponds_nearest</th>\n",
       "      <th>days_exposition</th>\n",
       "      <th>area</th>\n",
       "      <th>price_square_meter</th>\n",
       "      <th>day_publication</th>\n",
       "      <th>month_publication</th>\n",
       "      <th>year_publication</th>\n",
       "      <th>type_floor</th>\n",
       "      <th>distance_city_center</th>\n",
       "    </tr>\n",
       "  </thead>\n",
       "  <tbody>\n",
       "    <tr>\n",
       "      <th>0</th>\n",
       "      <td>20</td>\n",
       "      <td>13000000.0</td>\n",
       "      <td>108.0</td>\n",
       "      <td>2019-03-07</td>\n",
       "      <td>3</td>\n",
       "      <td>2.70</td>\n",
       "      <td>16.0</td>\n",
       "      <td>51.0</td>\n",
       "      <td>8</td>\n",
       "      <td>False</td>\n",
       "      <td>...</td>\n",
       "      <td>2</td>\n",
       "      <td>755.0</td>\n",
       "      <td>NaN</td>\n",
       "      <td>True</td>\n",
       "      <td>120370.37</td>\n",
       "      <td>3</td>\n",
       "      <td>3</td>\n",
       "      <td>2019</td>\n",
       "      <td>другой</td>\n",
       "      <td>16</td>\n",
       "    </tr>\n",
       "    <tr>\n",
       "      <th>1</th>\n",
       "      <td>7</td>\n",
       "      <td>3350000.0</td>\n",
       "      <td>40.4</td>\n",
       "      <td>2018-12-04</td>\n",
       "      <td>1</td>\n",
       "      <td>2.65</td>\n",
       "      <td>11.0</td>\n",
       "      <td>18.6</td>\n",
       "      <td>1</td>\n",
       "      <td>False</td>\n",
       "      <td>...</td>\n",
       "      <td>0</td>\n",
       "      <td>NaN</td>\n",
       "      <td>81.0</td>\n",
       "      <td>True</td>\n",
       "      <td>82920.79</td>\n",
       "      <td>1</td>\n",
       "      <td>12</td>\n",
       "      <td>2018</td>\n",
       "      <td>первый</td>\n",
       "      <td>19</td>\n",
       "    </tr>\n",
       "    <tr>\n",
       "      <th>2</th>\n",
       "      <td>10</td>\n",
       "      <td>5196000.0</td>\n",
       "      <td>56.0</td>\n",
       "      <td>2015-08-20</td>\n",
       "      <td>2</td>\n",
       "      <td>2.65</td>\n",
       "      <td>5.0</td>\n",
       "      <td>34.3</td>\n",
       "      <td>4</td>\n",
       "      <td>False</td>\n",
       "      <td>...</td>\n",
       "      <td>2</td>\n",
       "      <td>574.0</td>\n",
       "      <td>558.0</td>\n",
       "      <td>True</td>\n",
       "      <td>92785.71</td>\n",
       "      <td>3</td>\n",
       "      <td>8</td>\n",
       "      <td>2015</td>\n",
       "      <td>другой</td>\n",
       "      <td>14</td>\n",
       "    </tr>\n",
       "    <tr>\n",
       "      <th>3</th>\n",
       "      <td>0</td>\n",
       "      <td>64900000.0</td>\n",
       "      <td>159.0</td>\n",
       "      <td>2015-07-24</td>\n",
       "      <td>3</td>\n",
       "      <td>2.65</td>\n",
       "      <td>14.0</td>\n",
       "      <td>45.0</td>\n",
       "      <td>9</td>\n",
       "      <td>False</td>\n",
       "      <td>...</td>\n",
       "      <td>3</td>\n",
       "      <td>234.0</td>\n",
       "      <td>424.0</td>\n",
       "      <td>True</td>\n",
       "      <td>408176.10</td>\n",
       "      <td>4</td>\n",
       "      <td>7</td>\n",
       "      <td>2015</td>\n",
       "      <td>другой</td>\n",
       "      <td>7</td>\n",
       "    </tr>\n",
       "    <tr>\n",
       "      <th>4</th>\n",
       "      <td>2</td>\n",
       "      <td>10000000.0</td>\n",
       "      <td>100.0</td>\n",
       "      <td>2018-06-19</td>\n",
       "      <td>2</td>\n",
       "      <td>3.03</td>\n",
       "      <td>14.0</td>\n",
       "      <td>32.0</td>\n",
       "      <td>13</td>\n",
       "      <td>False</td>\n",
       "      <td>...</td>\n",
       "      <td>1</td>\n",
       "      <td>48.0</td>\n",
       "      <td>121.0</td>\n",
       "      <td>True</td>\n",
       "      <td>100000.00</td>\n",
       "      <td>1</td>\n",
       "      <td>6</td>\n",
       "      <td>2018</td>\n",
       "      <td>другой</td>\n",
       "      <td>8</td>\n",
       "    </tr>\n",
       "  </tbody>\n",
       "</table>\n",
       "<p>5 rows × 29 columns</p>\n",
       "</div>"
      ],
      "text/plain": [
       "   total_images  last_price  total_area first_day_exposition  rooms  \\\n",
       "0            20  13000000.0       108.0           2019-03-07      3   \n",
       "1             7   3350000.0        40.4           2018-12-04      1   \n",
       "2            10   5196000.0        56.0           2015-08-20      2   \n",
       "3             0  64900000.0       159.0           2015-07-24      3   \n",
       "4             2  10000000.0       100.0           2018-06-19      2   \n",
       "\n",
       "   ceiling_height  floors_total  living_area  floor  is_apartment  ...  \\\n",
       "0            2.70          16.0         51.0      8         False  ...   \n",
       "1            2.65          11.0         18.6      1         False  ...   \n",
       "2            2.65           5.0         34.3      4         False  ...   \n",
       "3            2.65          14.0         45.0      9         False  ...   \n",
       "4            3.03          14.0         32.0     13         False  ...   \n",
       "\n",
       "   ponds_around3000  ponds_nearest  days_exposition  area price_square_meter  \\\n",
       "0                 2          755.0              NaN  True          120370.37   \n",
       "1                 0            NaN             81.0  True           82920.79   \n",
       "2                 2          574.0            558.0  True           92785.71   \n",
       "3                 3          234.0            424.0  True          408176.10   \n",
       "4                 1           48.0            121.0  True          100000.00   \n",
       "\n",
       "   day_publication  month_publication  year_publication  type_floor  \\\n",
       "0                3                  3              2019      другой   \n",
       "1                1                 12              2018      первый   \n",
       "2                3                  8              2015      другой   \n",
       "3                4                  7              2015      другой   \n",
       "4                1                  6              2018      другой   \n",
       "\n",
       "   distance_city_center  \n",
       "0                    16  \n",
       "1                    19  \n",
       "2                    14  \n",
       "3                     7  \n",
       "4                     8  \n",
       "\n",
       "[5 rows x 29 columns]"
      ]
     },
     "execution_count": 65,
     "metadata": {},
     "output_type": "execute_result"
    }
   ],
   "source": [
    "data.head()"
   ]
  },
  {
   "cell_type": "markdown",
   "metadata": {
    "id": "h7VpzkIDAwb-"
   },
   "source": [
    "### Общий вывод"
   ]
  },
  {
   "cell_type": "markdown",
   "metadata": {
    "id": "3H4lnp_KAwb-"
   },
   "source": [
    "В ходе исследования данных о продаже квартир были выполнены следующие этапы и выводы:\n",
    "1. В данных имеется 23699 записи. В ряду столбцов есть пропущенные данные.\n",
    "2. В процессе предобработки данных:\n",
    " * Переименовали столбец cityCenters_nearest на city_centers_nearest;\n",
    " * Заполнили явные пропуски;\n",
    " * Изменили тип данных в соответствии с данными в столбцах;\n",
    " * В столбце locality_name устранены неявные дубликаты;\n",
    " * Сделали выводы:\n",
    "    - Человеческий фактор;\n",
    "    - Возможны программные сбои;\n",
    "    - Возможно во время работы добавлялись данные, ранее введенные данные не откорректировали.\n",
    "3. В таблицу были добавлены новые столбцы:\n",
    " * price_square_meter - цена квадратного метра с точностью до двух знаков после запятой;\n",
    " * day_publication - день недели публикации объявления (0 - понедельник, 1 - вторник, и т.д.);\n",
    " * month_publication - месяц публикации объявления;\n",
    " * year_publication - год публикации объявления;\n",
    " * type_floor - тип этажа квартиры (значения - \"первый\", \"последний\", \"другой\")\n",
    " * distance_city_center - расстояние до центра города в км.\n",
    "4. Проведен исследовательнский анализ:\n",
    " * Изучены и описаны параметры: \n",
    "    - среднестатистическое предложение, это квратира в пятиэтажном доме средней площадью 52 кв.м, площадью кухни 6 кв.м, высотой потолков 2,65 м, находиться меджу первым и помледним этажем, расстояние до центра города 5 км или 13 км\n",
    " * Изучено, как быстро продавались квартиры: \n",
    "    - среднее значение по времени продажи квартиры - 180 дней, медианное - 95 дней. Медианное значение более точно характеризует среднее время продажи, потому что не зависит от выбросов;\n",
    "    - Быстрыми продажами можно считать продажи за 45 дней (1 квартиль), долгими - больше 232 дней (3 квартиль).\n",
    " * Определили какие факторы влияют на общую стоимость квартиры:\n",
    "    - Чем больше площадь, тем выше стоимость;\n",
    "    - Чем больше жилая площадь, тем выше стоимость, но зависимость ниже;\n",
    "    - На первом этаже стоимость квартиры значительно ниже, чем на остальных этажах. Дороже стоимость квартир на других этажах, самые дорогие квартиры на последнем этаже.\n",
    " * Посчитали среднюю цену одного квадратного метра в 10 населенных пунктах с наибольшим числом публикаций:\n",
    "    - Наибольшая стоимость квадратного метра в Санкт-Петербурге, затем идет Пушкин, вероятно из-за большого количества парков. затем следуют населенные пункты непосредственно прилегающие к Санкт-Петербургу. Самая низкая стоимость из десяти населенных пунктов в Выборге.\n",
    " * Вычислили среднюю стоимость квартир на разном удалении от центра Санкт-Петербурга:\n",
    "    - Самые дорогие квартиры в центре города, стоимость уменьшается до 4 км, а после снова начинаем не значительно возрастает, с 9 км стоимость не зависит от удаления от центра."
   ]
  }
 ],
 "metadata": {
  "ExecuteTimeLog": [
   {
    "duration": 543,
    "start_time": "2025-03-08T20:30:12.328Z"
   },
   {
    "duration": 16,
    "start_time": "2025-03-08T20:30:30.157Z"
   },
   {
    "duration": 99,
    "start_time": "2025-03-08T20:30:47.292Z"
   },
   {
    "duration": 28,
    "start_time": "2025-03-08T20:30:48.700Z"
   },
   {
    "duration": 17,
    "start_time": "2025-03-08T20:31:34.440Z"
   },
   {
    "duration": 2673,
    "start_time": "2025-03-08T20:33:18.296Z"
   },
   {
    "duration": 34,
    "start_time": "2025-03-08T20:36:32.802Z"
   },
   {
    "duration": 29,
    "start_time": "2025-03-08T20:36:38.226Z"
   },
   {
    "duration": 11,
    "start_time": "2025-03-08T20:37:36.686Z"
   },
   {
    "duration": 17,
    "start_time": "2025-03-08T20:48:41.093Z"
   },
   {
    "duration": 2,
    "start_time": "2025-03-08T21:04:37.243Z"
   },
   {
    "duration": 88,
    "start_time": "2025-03-08T21:04:38.058Z"
   },
   {
    "duration": 24,
    "start_time": "2025-03-08T21:04:38.546Z"
   },
   {
    "duration": 16,
    "start_time": "2025-03-08T21:04:39.915Z"
   },
   {
    "duration": 1686,
    "start_time": "2025-03-08T21:04:40.962Z"
   },
   {
    "duration": 55,
    "start_time": "2025-03-09T19:05:03.319Z"
   },
   {
    "duration": 413,
    "start_time": "2025-03-09T19:05:07.846Z"
   },
   {
    "duration": 89,
    "start_time": "2025-03-09T19:05:08.719Z"
   },
   {
    "duration": 32,
    "start_time": "2025-03-09T19:05:09.471Z"
   },
   {
    "duration": 15,
    "start_time": "2025-03-09T19:05:10.174Z"
   },
   {
    "duration": 2423,
    "start_time": "2025-03-09T19:05:10.590Z"
   },
   {
    "duration": 11,
    "start_time": "2025-03-09T19:05:13.014Z"
   },
   {
    "duration": 6,
    "start_time": "2025-03-09T19:05:20.381Z"
   },
   {
    "duration": 49,
    "start_time": "2025-03-09T19:14:39.958Z"
   },
   {
    "duration": 24,
    "start_time": "2025-03-09T19:14:49.141Z"
   },
   {
    "duration": 34,
    "start_time": "2025-03-09T19:16:05.600Z"
   },
   {
    "duration": 13,
    "start_time": "2025-03-09T19:16:58.588Z"
   },
   {
    "duration": 44,
    "start_time": "2025-03-09T19:19:02.380Z"
   },
   {
    "duration": 28,
    "start_time": "2025-03-09T19:19:22.185Z"
   },
   {
    "duration": 29,
    "start_time": "2025-03-09T19:19:32.457Z"
   },
   {
    "duration": 28,
    "start_time": "2025-03-09T19:19:44.576Z"
   },
   {
    "duration": 102,
    "start_time": "2025-03-09T19:19:52.543Z"
   },
   {
    "duration": 30,
    "start_time": "2025-03-09T19:19:55.039Z"
   },
   {
    "duration": 6,
    "start_time": "2025-03-09T19:38:28.896Z"
   },
   {
    "duration": 39,
    "start_time": "2025-03-09T19:38:29.449Z"
   },
   {
    "duration": 17,
    "start_time": "2025-03-09T19:38:34.344Z"
   },
   {
    "duration": 8,
    "start_time": "2025-03-09T19:42:33.471Z"
   },
   {
    "duration": 10,
    "start_time": "2025-03-09T19:42:42.237Z"
   },
   {
    "duration": 14,
    "start_time": "2025-03-09T19:42:53.772Z"
   },
   {
    "duration": 34,
    "start_time": "2025-03-09T19:44:16.566Z"
   },
   {
    "duration": 23,
    "start_time": "2025-03-09T19:45:50.529Z"
   },
   {
    "duration": 98,
    "start_time": "2025-03-09T19:46:04.055Z"
   },
   {
    "duration": 35,
    "start_time": "2025-03-09T19:46:04.440Z"
   },
   {
    "duration": 13,
    "start_time": "2025-03-09T19:46:04.784Z"
   },
   {
    "duration": 1859,
    "start_time": "2025-03-09T19:46:05.183Z"
   },
   {
    "duration": 9,
    "start_time": "2025-03-09T19:46:07.044Z"
   },
   {
    "duration": 6,
    "start_time": "2025-03-09T19:46:07.743Z"
   },
   {
    "duration": 29,
    "start_time": "2025-03-09T19:46:08.591Z"
   },
   {
    "duration": 16,
    "start_time": "2025-03-09T19:46:09.599Z"
   },
   {
    "duration": 17,
    "start_time": "2025-03-09T19:46:10.583Z"
   },
   {
    "duration": 12,
    "start_time": "2025-03-09T19:46:45.941Z"
   },
   {
    "duration": 19,
    "start_time": "2025-03-09T19:46:47.651Z"
   },
   {
    "duration": 49,
    "start_time": "2025-03-09T19:48:51.803Z"
   },
   {
    "duration": 11,
    "start_time": "2025-03-09T19:49:16.643Z"
   },
   {
    "duration": 12,
    "start_time": "2025-03-09T19:49:20.601Z"
   },
   {
    "duration": 6,
    "start_time": "2025-03-09T19:53:42.966Z"
   },
   {
    "duration": 216,
    "start_time": "2025-03-09T20:06:05.402Z"
   },
   {
    "duration": 7,
    "start_time": "2025-03-09T20:06:17.025Z"
   },
   {
    "duration": 222,
    "start_time": "2025-03-09T20:06:51.206Z"
   },
   {
    "duration": 7,
    "start_time": "2025-03-09T20:06:51.894Z"
   },
   {
    "duration": 234,
    "start_time": "2025-03-09T20:07:10.069Z"
   },
   {
    "duration": 7,
    "start_time": "2025-03-09T20:07:11.701Z"
   },
   {
    "duration": 229,
    "start_time": "2025-03-09T20:08:20.281Z"
   },
   {
    "duration": 7,
    "start_time": "2025-03-09T20:08:20.864Z"
   },
   {
    "duration": 226,
    "start_time": "2025-03-09T20:08:35.104Z"
   },
   {
    "duration": 220,
    "start_time": "2025-03-09T20:09:05.477Z"
   },
   {
    "duration": 6,
    "start_time": "2025-03-09T20:09:06.068Z"
   },
   {
    "duration": 27,
    "start_time": "2025-03-09T20:09:11.941Z"
   },
   {
    "duration": 8,
    "start_time": "2025-03-09T20:22:40.489Z"
   },
   {
    "duration": 5,
    "start_time": "2025-03-09T20:22:44.760Z"
   },
   {
    "duration": 4,
    "start_time": "2025-03-09T20:23:19.414Z"
   },
   {
    "duration": 5,
    "start_time": "2025-03-09T20:25:21.022Z"
   },
   {
    "duration": 5,
    "start_time": "2025-03-09T20:25:33.885Z"
   },
   {
    "duration": 5,
    "start_time": "2025-03-09T20:25:42.884Z"
   },
   {
    "duration": 5,
    "start_time": "2025-03-09T20:25:43.436Z"
   },
   {
    "duration": 6,
    "start_time": "2025-03-09T20:25:57.572Z"
   },
   {
    "duration": 8,
    "start_time": "2025-03-09T20:26:11.242Z"
   },
   {
    "duration": 7,
    "start_time": "2025-03-09T20:31:31.604Z"
   },
   {
    "duration": 7,
    "start_time": "2025-03-09T20:32:23.495Z"
   },
   {
    "duration": 84,
    "start_time": "2025-03-09T20:37:07.075Z"
   },
   {
    "duration": 19,
    "start_time": "2025-03-09T20:37:17.163Z"
   },
   {
    "duration": 15,
    "start_time": "2025-03-09T20:37:23.002Z"
   },
   {
    "duration": 451,
    "start_time": "2025-03-09T20:37:34.130Z"
   },
   {
    "duration": 7,
    "start_time": "2025-03-09T20:39:59.463Z"
   },
   {
    "duration": 410,
    "start_time": "2025-03-10T19:42:10.091Z"
   },
   {
    "duration": 104,
    "start_time": "2025-03-10T19:42:10.503Z"
   },
   {
    "duration": 44,
    "start_time": "2025-03-10T19:42:10.608Z"
   },
   {
    "duration": 16,
    "start_time": "2025-03-10T19:42:10.722Z"
   },
   {
    "duration": 2401,
    "start_time": "2025-03-10T19:42:10.905Z"
   },
   {
    "duration": 12,
    "start_time": "2025-03-10T19:42:13.309Z"
   },
   {
    "duration": 6,
    "start_time": "2025-03-10T19:42:13.322Z"
   },
   {
    "duration": 34,
    "start_time": "2025-03-10T19:42:13.331Z"
   },
   {
    "duration": 20,
    "start_time": "2025-03-10T19:42:13.367Z"
   },
   {
    "duration": 9,
    "start_time": "2025-03-10T19:42:13.388Z"
   },
   {
    "duration": 7,
    "start_time": "2025-03-10T19:42:13.399Z"
   },
   {
    "duration": 247,
    "start_time": "2025-03-10T19:42:13.407Z"
   },
   {
    "duration": 6,
    "start_time": "2025-03-10T19:42:13.656Z"
   },
   {
    "duration": 12,
    "start_time": "2025-03-10T19:42:13.673Z"
   },
   {
    "duration": 8,
    "start_time": "2025-03-10T19:42:13.962Z"
   },
   {
    "duration": 8,
    "start_time": "2025-03-10T19:42:14.121Z"
   },
   {
    "duration": 7,
    "start_time": "2025-03-10T19:42:14.346Z"
   },
   {
    "duration": 8,
    "start_time": "2025-03-10T19:42:14.593Z"
   },
   {
    "duration": 331,
    "start_time": "2025-03-10T19:42:14.865Z"
   },
   {
    "duration": 7,
    "start_time": "2025-03-10T19:42:15.265Z"
   },
   {
    "duration": 10,
    "start_time": "2025-03-10T19:52:27.254Z"
   },
   {
    "duration": 1535,
    "start_time": "2025-03-10T20:01:57.260Z"
   },
   {
    "duration": 2,
    "start_time": "2025-03-10T20:05:35.589Z"
   },
   {
    "duration": 83,
    "start_time": "2025-03-10T20:05:35.820Z"
   },
   {
    "duration": 39,
    "start_time": "2025-03-10T20:05:36.454Z"
   },
   {
    "duration": 14,
    "start_time": "2025-03-10T20:05:37.292Z"
   },
   {
    "duration": 1990,
    "start_time": "2025-03-10T20:05:37.988Z"
   },
   {
    "duration": 10,
    "start_time": "2025-03-10T20:05:40.796Z"
   },
   {
    "duration": 7,
    "start_time": "2025-03-10T20:05:42.083Z"
   },
   {
    "duration": 34,
    "start_time": "2025-03-10T20:05:42.843Z"
   },
   {
    "duration": 17,
    "start_time": "2025-03-10T20:05:43.756Z"
   },
   {
    "duration": 9,
    "start_time": "2025-03-10T20:05:44.460Z"
   },
   {
    "duration": 7,
    "start_time": "2025-03-10T20:05:45.196Z"
   },
   {
    "duration": 244,
    "start_time": "2025-03-10T20:05:45.868Z"
   },
   {
    "duration": 7,
    "start_time": "2025-03-10T20:05:46.620Z"
   },
   {
    "duration": 14,
    "start_time": "2025-03-10T20:05:47.324Z"
   },
   {
    "duration": 7,
    "start_time": "2025-03-10T20:05:48.995Z"
   },
   {
    "duration": 8,
    "start_time": "2025-03-10T20:05:49.587Z"
   },
   {
    "duration": 8,
    "start_time": "2025-03-10T20:05:50.171Z"
   },
   {
    "duration": 8,
    "start_time": "2025-03-10T20:05:50.692Z"
   },
   {
    "duration": 333,
    "start_time": "2025-03-10T20:05:51.371Z"
   },
   {
    "duration": 7,
    "start_time": "2025-03-10T20:05:52.099Z"
   },
   {
    "duration": 8,
    "start_time": "2025-03-10T20:05:54.139Z"
   },
   {
    "duration": 382,
    "start_time": "2025-03-10T20:05:54.772Z"
   },
   {
    "duration": 235,
    "start_time": "2025-03-10T20:06:18.114Z"
   },
   {
    "duration": 243,
    "start_time": "2025-03-10T20:06:44.544Z"
   },
   {
    "duration": 311,
    "start_time": "2025-03-10T20:07:32.717Z"
   },
   {
    "duration": 4433,
    "start_time": "2025-03-10T20:07:46.129Z"
   },
   {
    "duration": 289,
    "start_time": "2025-03-10T20:08:01.202Z"
   },
   {
    "duration": 271,
    "start_time": "2025-03-10T20:08:18.233Z"
   },
   {
    "duration": 285,
    "start_time": "2025-03-10T20:08:34.873Z"
   },
   {
    "duration": 267,
    "start_time": "2025-03-10T20:08:41.848Z"
   },
   {
    "duration": 584,
    "start_time": "2025-03-10T20:09:15.812Z"
   },
   {
    "duration": 305,
    "start_time": "2025-03-10T20:09:25.668Z"
   },
   {
    "duration": 286,
    "start_time": "2025-03-10T20:09:45.539Z"
   },
   {
    "duration": 279,
    "start_time": "2025-03-10T20:09:50.187Z"
   },
   {
    "duration": 274,
    "start_time": "2025-03-10T20:11:56.569Z"
   },
   {
    "duration": 311,
    "start_time": "2025-03-10T20:12:14.240Z"
   },
   {
    "duration": 308,
    "start_time": "2025-03-10T20:13:05.108Z"
   },
   {
    "duration": 312,
    "start_time": "2025-03-10T20:13:25.363Z"
   },
   {
    "duration": 307,
    "start_time": "2025-03-10T20:13:32.787Z"
   },
   {
    "duration": 289,
    "start_time": "2025-03-10T20:14:49.765Z"
   },
   {
    "duration": 295,
    "start_time": "2025-03-10T20:16:28.487Z"
   },
   {
    "duration": 10,
    "start_time": "2025-03-10T20:22:57.107Z"
   },
   {
    "duration": 304,
    "start_time": "2025-03-10T20:23:59.935Z"
   },
   {
    "duration": 621,
    "start_time": "2025-03-10T20:24:28.694Z"
   },
   {
    "duration": 296,
    "start_time": "2025-03-10T20:24:31.237Z"
   },
   {
    "duration": 325,
    "start_time": "2025-03-10T20:25:05.435Z"
   },
   {
    "duration": 287,
    "start_time": "2025-03-10T20:25:28.960Z"
   },
   {
    "duration": 342,
    "start_time": "2025-03-10T20:25:32.616Z"
   },
   {
    "duration": 298,
    "start_time": "2025-03-10T20:26:00.191Z"
   },
   {
    "duration": 12,
    "start_time": "2025-03-10T20:31:40.638Z"
   },
   {
    "duration": 9,
    "start_time": "2025-03-10T20:31:46.334Z"
   },
   {
    "duration": 7,
    "start_time": "2025-03-10T20:31:50.494Z"
   },
   {
    "duration": 6,
    "start_time": "2025-03-10T20:32:23.995Z"
   },
   {
    "duration": 8,
    "start_time": "2025-03-10T20:33:06.816Z"
   },
   {
    "duration": 81,
    "start_time": "2025-03-10T20:38:28.242Z"
   },
   {
    "duration": 7,
    "start_time": "2025-03-10T20:38:30.665Z"
   },
   {
    "duration": 6,
    "start_time": "2025-03-10T20:38:47.128Z"
   },
   {
    "duration": 7,
    "start_time": "2025-03-10T20:40:17.442Z"
   },
   {
    "duration": 7,
    "start_time": "2025-03-10T20:40:24.449Z"
   },
   {
    "duration": 8,
    "start_time": "2025-03-10T20:42:27.329Z"
   },
   {
    "duration": 282,
    "start_time": "2025-03-10T20:43:17.813Z"
   },
   {
    "duration": 280,
    "start_time": "2025-03-10T20:44:43.255Z"
   },
   {
    "duration": 9,
    "start_time": "2025-03-10T20:47:10.037Z"
   },
   {
    "duration": 292,
    "start_time": "2025-03-10T20:48:35.710Z"
   },
   {
    "duration": 303,
    "start_time": "2025-03-10T20:48:47.718Z"
   },
   {
    "duration": 307,
    "start_time": "2025-03-10T20:49:14.220Z"
   },
   {
    "duration": 302,
    "start_time": "2025-03-10T20:50:03.457Z"
   },
   {
    "duration": 328,
    "start_time": "2025-03-10T20:51:53.601Z"
   },
   {
    "duration": 318,
    "start_time": "2025-03-10T20:52:25.574Z"
   },
   {
    "duration": 330,
    "start_time": "2025-03-10T20:52:42.765Z"
   },
   {
    "duration": 710,
    "start_time": "2025-03-10T20:52:56.452Z"
   },
   {
    "duration": 6,
    "start_time": "2025-03-10T20:53:18.378Z"
   },
   {
    "duration": 306,
    "start_time": "2025-03-10T20:54:40.253Z"
   },
   {
    "duration": 315,
    "start_time": "2025-03-10T20:55:43.368Z"
   },
   {
    "duration": 10,
    "start_time": "2025-03-10T20:58:18.468Z"
   },
   {
    "duration": 310,
    "start_time": "2025-03-10T20:58:47.594Z"
   },
   {
    "duration": 295,
    "start_time": "2025-03-10T20:59:11.178Z"
   },
   {
    "duration": 167,
    "start_time": "2025-03-10T20:59:19.569Z"
   },
   {
    "duration": 1297,
    "start_time": "2025-03-10T21:01:02.795Z"
   },
   {
    "duration": 5,
    "start_time": "2025-03-10T21:01:08.857Z"
   },
   {
    "duration": 9,
    "start_time": "2025-03-10T21:02:21.852Z"
   },
   {
    "duration": 141,
    "start_time": "2025-03-10T21:02:50.578Z"
   },
   {
    "duration": 171,
    "start_time": "2025-03-10T21:03:38.870Z"
   },
   {
    "duration": 174,
    "start_time": "2025-03-10T21:04:00.637Z"
   },
   {
    "duration": 170,
    "start_time": "2025-03-10T21:04:10.260Z"
   },
   {
    "duration": 181,
    "start_time": "2025-03-10T21:04:34.963Z"
   },
   {
    "duration": 157,
    "start_time": "2025-03-10T21:04:41.818Z"
   },
   {
    "duration": 172,
    "start_time": "2025-03-10T21:04:46.522Z"
   },
   {
    "duration": 6,
    "start_time": "2025-03-10T21:05:32.110Z"
   },
   {
    "duration": 153,
    "start_time": "2025-03-10T21:05:47.421Z"
   },
   {
    "duration": 176,
    "start_time": "2025-03-10T21:06:04.980Z"
   },
   {
    "duration": 191,
    "start_time": "2025-03-10T21:06:12.827Z"
   },
   {
    "duration": 10,
    "start_time": "2025-03-10T21:08:39.865Z"
   },
   {
    "duration": 15,
    "start_time": "2025-03-10T21:09:13.734Z"
   },
   {
    "duration": 97,
    "start_time": "2025-03-10T21:11:54.251Z"
   },
   {
    "duration": 82,
    "start_time": "2025-03-10T21:12:14.017Z"
   },
   {
    "duration": 11,
    "start_time": "2025-03-10T21:13:43.243Z"
   },
   {
    "duration": 201,
    "start_time": "2025-03-10T21:13:43.892Z"
   },
   {
    "duration": 193,
    "start_time": "2025-03-10T21:14:12.321Z"
   },
   {
    "duration": 300,
    "start_time": "2025-03-10T21:14:33.488Z"
   },
   {
    "duration": 220,
    "start_time": "2025-03-10T21:14:43.599Z"
   },
   {
    "duration": 231,
    "start_time": "2025-03-10T21:14:51.479Z"
   },
   {
    "duration": 8,
    "start_time": "2025-03-10T21:15:09.726Z"
   },
   {
    "duration": 220,
    "start_time": "2025-03-10T21:15:10.404Z"
   },
   {
    "duration": 97,
    "start_time": "2025-03-10T21:16:23.744Z"
   },
   {
    "duration": 9,
    "start_time": "2025-03-10T21:17:00.029Z"
   },
   {
    "duration": 315,
    "start_time": "2025-03-10T21:17:38.771Z"
   },
   {
    "duration": 102,
    "start_time": "2025-03-10T21:19:22.387Z"
   },
   {
    "duration": 423,
    "start_time": "2025-03-11T17:19:04.949Z"
   },
   {
    "duration": 95,
    "start_time": "2025-03-11T17:19:05.374Z"
   },
   {
    "duration": 41,
    "start_time": "2025-03-11T17:19:05.685Z"
   },
   {
    "duration": 14,
    "start_time": "2025-03-11T17:19:06.220Z"
   },
   {
    "duration": 2310,
    "start_time": "2025-03-11T17:19:06.636Z"
   },
   {
    "duration": 13,
    "start_time": "2025-03-11T17:19:08.948Z"
   },
   {
    "duration": 6,
    "start_time": "2025-03-11T17:19:08.964Z"
   },
   {
    "duration": 35,
    "start_time": "2025-03-11T17:19:09.060Z"
   },
   {
    "duration": 17,
    "start_time": "2025-03-11T17:19:09.420Z"
   },
   {
    "duration": 10,
    "start_time": "2025-03-11T17:19:09.780Z"
   },
   {
    "duration": 8,
    "start_time": "2025-03-11T17:19:10.173Z"
   },
   {
    "duration": 225,
    "start_time": "2025-03-11T17:19:10.507Z"
   },
   {
    "duration": 7,
    "start_time": "2025-03-11T17:19:10.915Z"
   },
   {
    "duration": 13,
    "start_time": "2025-03-11T17:19:11.276Z"
   },
   {
    "duration": 9,
    "start_time": "2025-03-11T17:19:12.355Z"
   },
   {
    "duration": 8,
    "start_time": "2025-03-11T17:19:12.795Z"
   },
   {
    "duration": 7,
    "start_time": "2025-03-11T17:19:13.171Z"
   },
   {
    "duration": 9,
    "start_time": "2025-03-11T17:19:13.507Z"
   },
   {
    "duration": 358,
    "start_time": "2025-03-11T17:19:13.869Z"
   },
   {
    "duration": 8,
    "start_time": "2025-03-11T17:19:14.243Z"
   },
   {
    "duration": 13,
    "start_time": "2025-03-11T17:19:15.987Z"
   },
   {
    "duration": 6,
    "start_time": "2025-03-11T17:19:16.395Z"
   },
   {
    "duration": 333,
    "start_time": "2025-03-11T17:19:16.842Z"
   },
   {
    "duration": 10,
    "start_time": "2025-03-11T17:19:18.043Z"
   },
   {
    "duration": 357,
    "start_time": "2025-03-11T17:19:18.435Z"
   },
   {
    "duration": 9,
    "start_time": "2025-03-11T17:19:19.595Z"
   },
   {
    "duration": 303,
    "start_time": "2025-03-11T17:19:19.972Z"
   },
   {
    "duration": 12,
    "start_time": "2025-03-11T17:19:21.660Z"
   },
   {
    "duration": 299,
    "start_time": "2025-03-11T17:19:22.315Z"
   },
   {
    "duration": 8,
    "start_time": "2025-03-11T17:19:24.291Z"
   },
   {
    "duration": 187,
    "start_time": "2025-03-11T17:19:24.907Z"
   },
   {
    "duration": 14,
    "start_time": "2025-03-11T17:19:26.259Z"
   },
   {
    "duration": 176,
    "start_time": "2025-03-11T17:19:26.739Z"
   },
   {
    "duration": 11,
    "start_time": "2025-03-11T17:19:27.874Z"
   },
   {
    "duration": 487,
    "start_time": "2025-03-11T17:20:50.899Z"
   },
   {
    "duration": 81,
    "start_time": "2025-03-11T17:21:37.922Z"
   },
   {
    "duration": 80,
    "start_time": "2025-03-11T17:24:23.863Z"
   },
   {
    "duration": 1420,
    "start_time": "2025-03-11T17:34:37.123Z"
   },
   {
    "duration": 2240,
    "start_time": "2025-03-11T17:35:06.667Z"
   },
   {
    "duration": 1466,
    "start_time": "2025-03-11T17:39:16.551Z"
   },
   {
    "duration": 10,
    "start_time": "2025-03-11T17:39:31.357Z"
   },
   {
    "duration": 1257,
    "start_time": "2025-03-11T17:39:33.558Z"
   },
   {
    "duration": 111,
    "start_time": "2025-03-11T17:39:44.805Z"
   },
   {
    "duration": 137,
    "start_time": "2025-03-11T17:40:04.380Z"
   },
   {
    "duration": 163,
    "start_time": "2025-03-11T17:40:48.152Z"
   },
   {
    "duration": 9,
    "start_time": "2025-03-11T17:44:09.889Z"
   },
   {
    "duration": 293,
    "start_time": "2025-03-11T17:44:10.481Z"
   },
   {
    "duration": 10,
    "start_time": "2025-03-11T17:46:08.841Z"
   },
   {
    "duration": 286,
    "start_time": "2025-03-11T17:46:09.289Z"
   },
   {
    "duration": 9,
    "start_time": "2025-03-11T17:47:30.459Z"
   },
   {
    "duration": 193,
    "start_time": "2025-03-11T17:47:41.506Z"
   },
   {
    "duration": 289,
    "start_time": "2025-03-11T17:48:12.631Z"
   },
   {
    "duration": 260,
    "start_time": "2025-03-11T17:48:23.631Z"
   },
   {
    "duration": 260,
    "start_time": "2025-03-11T17:49:00.509Z"
   },
   {
    "duration": 5,
    "start_time": "2025-03-11T17:50:56.195Z"
   },
   {
    "duration": 7,
    "start_time": "2025-03-11T17:51:49.409Z"
   },
   {
    "duration": 8,
    "start_time": "2025-03-11T17:58:09.573Z"
   },
   {
    "duration": 372,
    "start_time": "2025-03-11T17:59:32.223Z"
   },
   {
    "duration": 268,
    "start_time": "2025-03-11T17:59:46.014Z"
   },
   {
    "duration": 265,
    "start_time": "2025-03-11T18:00:18.812Z"
   },
   {
    "duration": 6,
    "start_time": "2025-03-11T18:09:07.502Z"
   },
   {
    "duration": 101,
    "start_time": "2025-03-11T18:21:16.810Z"
   },
   {
    "duration": 6,
    "start_time": "2025-03-11T18:21:42.560Z"
   },
   {
    "duration": 3,
    "start_time": "2025-03-11T18:22:45.186Z"
   },
   {
    "duration": 9,
    "start_time": "2025-03-11T18:23:14.521Z"
   },
   {
    "duration": 268,
    "start_time": "2025-03-11T18:23:26.695Z"
   },
   {
    "duration": 182,
    "start_time": "2025-03-11T18:28:55.968Z"
   },
   {
    "duration": 169,
    "start_time": "2025-03-11T18:29:29.517Z"
   },
   {
    "duration": 24,
    "start_time": "2025-03-11T18:37:35.122Z"
   },
   {
    "duration": 21,
    "start_time": "2025-03-11T18:38:04.456Z"
   },
   {
    "duration": 14,
    "start_time": "2025-03-11T18:38:20.719Z"
   },
   {
    "duration": 13,
    "start_time": "2025-03-11T18:38:24.886Z"
   },
   {
    "duration": 21,
    "start_time": "2025-03-11T18:38:34.230Z"
   },
   {
    "duration": 2416,
    "start_time": "2025-03-11T18:39:00.444Z"
   },
   {
    "duration": 2410,
    "start_time": "2025-03-11T18:39:14.067Z"
   },
   {
    "duration": 2683,
    "start_time": "2025-03-11T18:39:24.250Z"
   },
   {
    "duration": 2789,
    "start_time": "2025-03-11T18:39:53.568Z"
   },
   {
    "duration": 2471,
    "start_time": "2025-03-11T18:40:13.918Z"
   },
   {
    "duration": 22,
    "start_time": "2025-03-11T18:40:29.974Z"
   },
   {
    "duration": 136,
    "start_time": "2025-03-11T18:42:35.189Z"
   },
   {
    "duration": 120,
    "start_time": "2025-03-11T18:44:07.910Z"
   },
   {
    "duration": 171,
    "start_time": "2025-03-11T18:45:50.166Z"
   },
   {
    "duration": 171,
    "start_time": "2025-03-11T18:46:13.013Z"
   },
   {
    "duration": 171,
    "start_time": "2025-03-11T18:46:55.366Z"
   },
   {
    "duration": 2587,
    "start_time": "2025-03-11T18:48:23.188Z"
   },
   {
    "duration": 18,
    "start_time": "2025-03-11T18:48:52.114Z"
   },
   {
    "duration": 137,
    "start_time": "2025-03-11T18:49:02.649Z"
   },
   {
    "duration": 123,
    "start_time": "2025-03-11T18:49:18.687Z"
   },
   {
    "duration": 188,
    "start_time": "2025-03-11T18:50:35.378Z"
   },
   {
    "duration": 173,
    "start_time": "2025-03-11T18:51:10.775Z"
   },
   {
    "duration": 191,
    "start_time": "2025-03-11T18:51:23.654Z"
   },
   {
    "duration": 141,
    "start_time": "2025-03-11T18:52:31.130Z"
   },
   {
    "duration": 330,
    "start_time": "2025-03-11T18:53:46.624Z"
   },
   {
    "duration": 78,
    "start_time": "2025-03-11T18:55:46.749Z"
   },
   {
    "duration": 129,
    "start_time": "2025-03-11T18:56:17.058Z"
   },
   {
    "duration": 89,
    "start_time": "2025-03-11T18:56:24.969Z"
   },
   {
    "duration": 207,
    "start_time": "2025-03-11T18:56:59.727Z"
   },
   {
    "duration": 196,
    "start_time": "2025-03-11T18:57:05.062Z"
   },
   {
    "duration": 639,
    "start_time": "2025-03-11T18:57:12.709Z"
   },
   {
    "duration": 199,
    "start_time": "2025-03-11T18:58:16.761Z"
   },
   {
    "duration": 176,
    "start_time": "2025-03-11T18:58:20.096Z"
   },
   {
    "duration": 186,
    "start_time": "2025-03-11T18:58:22.112Z"
   },
   {
    "duration": 17,
    "start_time": "2025-03-11T19:05:51.448Z"
   },
   {
    "duration": 22,
    "start_time": "2025-03-11T19:06:03.991Z"
   },
   {
    "duration": 184,
    "start_time": "2025-03-11T19:12:00.317Z"
   },
   {
    "duration": 176,
    "start_time": "2025-03-11T19:12:07.404Z"
   },
   {
    "duration": 26,
    "start_time": "2025-03-11T19:22:25.799Z"
   },
   {
    "duration": 17,
    "start_time": "2025-03-11T19:23:51.545Z"
   },
   {
    "duration": 16,
    "start_time": "2025-03-11T19:23:55.329Z"
   },
   {
    "duration": 27,
    "start_time": "2025-03-11T19:25:40.113Z"
   },
   {
    "duration": 7,
    "start_time": "2025-03-11T19:27:07.515Z"
   },
   {
    "duration": 8,
    "start_time": "2025-03-11T19:27:19.154Z"
   },
   {
    "duration": 8,
    "start_time": "2025-03-11T19:27:23.833Z"
   },
   {
    "duration": 34,
    "start_time": "2025-03-11T19:27:29.753Z"
   },
   {
    "duration": 25,
    "start_time": "2025-03-11T19:27:38.881Z"
   },
   {
    "duration": 24,
    "start_time": "2025-03-11T19:28:05.455Z"
   },
   {
    "duration": 23,
    "start_time": "2025-03-11T19:28:58.251Z"
   },
   {
    "duration": 24,
    "start_time": "2025-03-11T19:29:07.434Z"
   },
   {
    "duration": 30,
    "start_time": "2025-03-11T19:29:36.160Z"
   },
   {
    "duration": 6,
    "start_time": "2025-03-11T19:30:45.291Z"
   },
   {
    "duration": 9,
    "start_time": "2025-03-11T19:35:07.373Z"
   },
   {
    "duration": 7,
    "start_time": "2025-03-11T19:36:24.890Z"
   },
   {
    "duration": 8,
    "start_time": "2025-03-11T19:36:40.249Z"
   },
   {
    "duration": 4,
    "start_time": "2025-03-11T19:37:06.184Z"
   },
   {
    "duration": 5,
    "start_time": "2025-03-11T19:37:17.126Z"
   },
   {
    "duration": 33,
    "start_time": "2025-03-11T19:43:13.189Z"
   },
   {
    "duration": 17,
    "start_time": "2025-03-11T19:43:47.586Z"
   },
   {
    "duration": 13,
    "start_time": "2025-03-11T19:44:09.145Z"
   },
   {
    "duration": 6,
    "start_time": "2025-03-11T19:44:27.312Z"
   },
   {
    "duration": 7,
    "start_time": "2025-03-11T19:47:01.045Z"
   },
   {
    "duration": 6,
    "start_time": "2025-03-11T19:47:25.203Z"
   },
   {
    "duration": 7,
    "start_time": "2025-03-11T19:47:29.578Z"
   },
   {
    "duration": 7,
    "start_time": "2025-03-11T19:47:33.633Z"
   },
   {
    "duration": 7,
    "start_time": "2025-03-11T19:47:37.650Z"
   },
   {
    "duration": 5,
    "start_time": "2025-03-11T19:47:45.897Z"
   },
   {
    "duration": 111,
    "start_time": "2025-03-11T19:50:04.183Z"
   },
   {
    "duration": 83,
    "start_time": "2025-03-11T19:50:11.927Z"
   },
   {
    "duration": 16,
    "start_time": "2025-03-11T19:50:23.157Z"
   },
   {
    "duration": 18,
    "start_time": "2025-03-11T19:50:58.428Z"
   },
   {
    "duration": 19,
    "start_time": "2025-03-11T19:51:15.538Z"
   },
   {
    "duration": 20,
    "start_time": "2025-03-11T19:52:20.774Z"
   },
   {
    "duration": 19,
    "start_time": "2025-03-11T19:52:45.716Z"
   },
   {
    "duration": 20,
    "start_time": "2025-03-11T19:52:58.819Z"
   },
   {
    "duration": 22,
    "start_time": "2025-03-11T19:54:00.062Z"
   },
   {
    "duration": 147,
    "start_time": "2025-03-11T19:55:50.374Z"
   },
   {
    "duration": 154,
    "start_time": "2025-03-11T19:56:31.491Z"
   },
   {
    "duration": 4,
    "start_time": "2025-03-11T19:56:52.394Z"
   },
   {
    "duration": 20,
    "start_time": "2025-03-11T19:57:33.575Z"
   },
   {
    "duration": 15,
    "start_time": "2025-03-11T19:57:36.616Z"
   },
   {
    "duration": 22,
    "start_time": "2025-03-11T19:57:40.270Z"
   },
   {
    "duration": 140,
    "start_time": "2025-03-11T19:57:44.806Z"
   },
   {
    "duration": 146,
    "start_time": "2025-03-11T19:59:10.472Z"
   },
   {
    "duration": 149,
    "start_time": "2025-03-11T19:59:18.367Z"
   },
   {
    "duration": 435,
    "start_time": "2025-03-13T17:10:31.649Z"
   },
   {
    "duration": 109,
    "start_time": "2025-03-13T17:10:33.048Z"
   },
   {
    "duration": 46,
    "start_time": "2025-03-13T17:10:33.560Z"
   },
   {
    "duration": 17,
    "start_time": "2025-03-13T17:10:34.744Z"
   },
   {
    "duration": 2455,
    "start_time": "2025-03-13T17:10:35.816Z"
   },
   {
    "duration": 11,
    "start_time": "2025-03-13T17:10:39.184Z"
   },
   {
    "duration": 7,
    "start_time": "2025-03-13T17:10:40.759Z"
   },
   {
    "duration": 35,
    "start_time": "2025-03-13T17:10:41.471Z"
   },
   {
    "duration": 18,
    "start_time": "2025-03-13T17:10:42.450Z"
   },
   {
    "duration": 10,
    "start_time": "2025-03-13T17:10:43.168Z"
   },
   {
    "duration": 8,
    "start_time": "2025-03-13T17:10:43.975Z"
   },
   {
    "duration": 233,
    "start_time": "2025-03-13T17:10:44.687Z"
   },
   {
    "duration": 7,
    "start_time": "2025-03-13T17:10:46.039Z"
   },
   {
    "duration": 15,
    "start_time": "2025-03-13T17:10:46.983Z"
   },
   {
    "duration": 9,
    "start_time": "2025-03-13T17:10:48.758Z"
   },
   {
    "duration": 8,
    "start_time": "2025-03-13T17:10:49.383Z"
   },
   {
    "duration": 7,
    "start_time": "2025-03-13T17:10:50.007Z"
   },
   {
    "duration": 7,
    "start_time": "2025-03-13T17:10:50.663Z"
   },
   {
    "duration": 363,
    "start_time": "2025-03-13T17:10:51.254Z"
   },
   {
    "duration": 7,
    "start_time": "2025-03-13T17:10:51.894Z"
   },
   {
    "duration": 10,
    "start_time": "2025-03-13T17:10:54.950Z"
   },
   {
    "duration": 6,
    "start_time": "2025-03-13T17:10:55.886Z"
   },
   {
    "duration": 294,
    "start_time": "2025-03-13T17:10:57.455Z"
   },
   {
    "duration": 11,
    "start_time": "2025-03-13T17:11:00.013Z"
   },
   {
    "duration": 418,
    "start_time": "2025-03-13T17:11:00.718Z"
   },
   {
    "duration": 10,
    "start_time": "2025-03-13T17:11:02.557Z"
   },
   {
    "duration": 313,
    "start_time": "2025-03-13T17:11:03.133Z"
   },
   {
    "duration": 9,
    "start_time": "2025-03-13T17:11:04.958Z"
   },
   {
    "duration": 312,
    "start_time": "2025-03-13T17:11:05.582Z"
   },
   {
    "duration": 9,
    "start_time": "2025-03-13T17:11:07.189Z"
   },
   {
    "duration": 168,
    "start_time": "2025-03-13T17:11:07.901Z"
   },
   {
    "duration": 11,
    "start_time": "2025-03-13T17:11:10.189Z"
   },
   {
    "duration": 215,
    "start_time": "2025-03-13T17:11:10.893Z"
   },
   {
    "duration": 10,
    "start_time": "2025-03-13T17:11:12.553Z"
   },
   {
    "duration": 168,
    "start_time": "2025-03-13T17:11:13.117Z"
   },
   {
    "duration": 10,
    "start_time": "2025-03-13T17:11:15.012Z"
   },
   {
    "duration": 221,
    "start_time": "2025-03-13T17:11:15.613Z"
   },
   {
    "duration": 10,
    "start_time": "2025-03-13T17:11:17.324Z"
   },
   {
    "duration": 409,
    "start_time": "2025-03-13T17:11:17.860Z"
   },
   {
    "duration": 9,
    "start_time": "2025-03-13T17:11:19.708Z"
   },
   {
    "duration": 297,
    "start_time": "2025-03-13T17:11:20.244Z"
   },
   {
    "duration": 9,
    "start_time": "2025-03-13T17:11:21.916Z"
   },
   {
    "duration": 288,
    "start_time": "2025-03-13T17:11:22.436Z"
   },
   {
    "duration": 27,
    "start_time": "2025-03-13T17:11:23.949Z"
   },
   {
    "duration": 204,
    "start_time": "2025-03-13T17:11:24.540Z"
   },
   {
    "duration": 204,
    "start_time": "2025-03-13T17:11:25.403Z"
   },
   {
    "duration": 194,
    "start_time": "2025-03-13T17:11:26.099Z"
   },
   {
    "duration": 222,
    "start_time": "2025-03-13T17:11:26.740Z"
   },
   {
    "duration": 139,
    "start_time": "2025-03-13T17:11:27.419Z"
   },
   {
    "duration": 209,
    "start_time": "2025-03-13T17:11:28.059Z"
   },
   {
    "duration": 195,
    "start_time": "2025-03-13T17:11:28.699Z"
   },
   {
    "duration": 194,
    "start_time": "2025-03-13T17:11:29.523Z"
   },
   {
    "duration": 29,
    "start_time": "2025-03-13T17:11:31.515Z"
   },
   {
    "duration": 8,
    "start_time": "2025-03-13T17:11:32.308Z"
   },
   {
    "duration": 8,
    "start_time": "2025-03-13T17:11:32.891Z"
   },
   {
    "duration": 4,
    "start_time": "2025-03-13T17:11:33.468Z"
   },
   {
    "duration": 25,
    "start_time": "2025-03-13T17:11:35.635Z"
   },
   {
    "duration": 178,
    "start_time": "2025-03-13T17:11:36.339Z"
   },
   {
    "duration": 26,
    "start_time": "2025-03-13T17:28:32.255Z"
   },
   {
    "duration": 26,
    "start_time": "2025-03-13T18:11:13.178Z"
   },
   {
    "duration": 30,
    "start_time": "2025-03-13T18:12:37.611Z"
   },
   {
    "duration": 29,
    "start_time": "2025-03-13T18:12:54.433Z"
   },
   {
    "duration": 2,
    "start_time": "2025-03-13T18:27:13.583Z"
   },
   {
    "duration": 85,
    "start_time": "2025-03-13T18:27:55.883Z"
   },
   {
    "duration": 156,
    "start_time": "2025-03-13T18:27:56.147Z"
   },
   {
    "duration": 14,
    "start_time": "2025-03-13T18:27:56.403Z"
   },
   {
    "duration": 1959,
    "start_time": "2025-03-13T18:27:56.642Z"
   },
   {
    "duration": 10,
    "start_time": "2025-03-13T18:27:58.603Z"
   },
   {
    "duration": 6,
    "start_time": "2025-03-13T18:27:58.615Z"
   },
   {
    "duration": 54,
    "start_time": "2025-03-13T18:27:58.623Z"
   },
   {
    "duration": 17,
    "start_time": "2025-03-13T18:27:59.690Z"
   },
   {
    "duration": 10,
    "start_time": "2025-03-13T18:28:00.058Z"
   },
   {
    "duration": 6,
    "start_time": "2025-03-13T18:28:00.522Z"
   },
   {
    "duration": 245,
    "start_time": "2025-03-13T18:28:00.826Z"
   },
   {
    "duration": 9,
    "start_time": "2025-03-13T18:28:01.073Z"
   },
   {
    "duration": 15,
    "start_time": "2025-03-13T18:28:01.210Z"
   },
   {
    "duration": 8,
    "start_time": "2025-03-13T18:28:01.778Z"
   },
   {
    "duration": 8,
    "start_time": "2025-03-13T18:28:01.978Z"
   },
   {
    "duration": 8,
    "start_time": "2025-03-13T18:28:02.210Z"
   },
   {
    "duration": 8,
    "start_time": "2025-03-13T18:28:02.426Z"
   },
   {
    "duration": 472,
    "start_time": "2025-03-13T18:28:02.946Z"
   },
   {
    "duration": 8,
    "start_time": "2025-03-13T18:28:28.336Z"
   },
   {
    "duration": 10,
    "start_time": "2025-03-13T18:28:31.783Z"
   },
   {
    "duration": 7,
    "start_time": "2025-03-13T18:28:32.215Z"
   },
   {
    "duration": 291,
    "start_time": "2025-03-13T18:28:36.327Z"
   },
   {
    "duration": 10,
    "start_time": "2025-03-13T18:28:38.111Z"
   },
   {
    "duration": 299,
    "start_time": "2025-03-13T18:28:38.710Z"
   },
   {
    "duration": 9,
    "start_time": "2025-03-13T18:28:39.975Z"
   },
   {
    "duration": 307,
    "start_time": "2025-03-13T18:28:40.158Z"
   },
   {
    "duration": 10,
    "start_time": "2025-03-13T18:28:40.806Z"
   },
   {
    "duration": 321,
    "start_time": "2025-03-13T18:28:41.199Z"
   },
   {
    "duration": 10,
    "start_time": "2025-03-13T18:28:42.383Z"
   },
   {
    "duration": 176,
    "start_time": "2025-03-13T18:28:42.559Z"
   },
   {
    "duration": 10,
    "start_time": "2025-03-13T18:28:43.599Z"
   },
   {
    "duration": 199,
    "start_time": "2025-03-13T18:28:43.791Z"
   },
   {
    "duration": 11,
    "start_time": "2025-03-13T18:28:44.239Z"
   },
   {
    "duration": 148,
    "start_time": "2025-03-13T18:28:44.375Z"
   },
   {
    "duration": 10,
    "start_time": "2025-03-13T18:28:44.822Z"
   },
   {
    "duration": 245,
    "start_time": "2025-03-13T18:28:45.175Z"
   },
   {
    "duration": 11,
    "start_time": "2025-03-13T18:28:45.974Z"
   },
   {
    "duration": 317,
    "start_time": "2025-03-13T18:28:46.383Z"
   },
   {
    "duration": 11,
    "start_time": "2025-03-13T18:28:47.846Z"
   },
   {
    "duration": 470,
    "start_time": "2025-03-13T18:28:48.391Z"
   },
   {
    "duration": 11,
    "start_time": "2025-03-13T18:28:48.863Z"
   },
   {
    "duration": 315,
    "start_time": "2025-03-13T18:28:48.998Z"
   },
   {
    "duration": 25,
    "start_time": "2025-03-13T18:28:50.006Z"
   },
   {
    "duration": 196,
    "start_time": "2025-03-13T18:28:50.463Z"
   },
   {
    "duration": 228,
    "start_time": "2025-03-13T18:28:50.958Z"
   },
   {
    "duration": 199,
    "start_time": "2025-03-13T18:28:51.278Z"
   },
   {
    "duration": 218,
    "start_time": "2025-03-13T18:28:51.726Z"
   },
   {
    "duration": 148,
    "start_time": "2025-03-13T18:28:52.230Z"
   },
   {
    "duration": 202,
    "start_time": "2025-03-13T18:28:52.910Z"
   },
   {
    "duration": 196,
    "start_time": "2025-03-13T18:28:53.325Z"
   },
   {
    "duration": 205,
    "start_time": "2025-03-13T18:28:53.830Z"
   },
   {
    "duration": 28,
    "start_time": "2025-03-13T18:28:55.238Z"
   },
   {
    "duration": 27,
    "start_time": "2025-03-13T18:28:56.350Z"
   },
   {
    "duration": 163,
    "start_time": "2025-03-13T18:28:56.702Z"
   },
   {
    "duration": 25,
    "start_time": "2025-03-13T18:28:57.486Z"
   },
   {
    "duration": 44,
    "start_time": "2025-03-14T15:42:22.856Z"
   },
   {
    "duration": 384,
    "start_time": "2025-03-14T15:42:30.270Z"
   },
   {
    "duration": 89,
    "start_time": "2025-03-14T15:42:30.656Z"
   },
   {
    "duration": 41,
    "start_time": "2025-03-14T15:42:31.511Z"
   },
   {
    "duration": 16,
    "start_time": "2025-03-14T15:42:32.255Z"
   },
   {
    "duration": 2382,
    "start_time": "2025-03-14T15:42:32.734Z"
   },
   {
    "duration": 11,
    "start_time": "2025-03-14T15:42:41.166Z"
   },
   {
    "duration": 39,
    "start_time": "2025-03-14T15:42:58.388Z"
   },
   {
    "duration": 11,
    "start_time": "2025-03-14T15:43:05.212Z"
   },
   {
    "duration": 6,
    "start_time": "2025-03-14T15:57:30.607Z"
   },
   {
    "duration": 32,
    "start_time": "2025-03-14T15:57:31.775Z"
   },
   {
    "duration": 17,
    "start_time": "2025-03-14T15:57:41.231Z"
   },
   {
    "duration": 35,
    "start_time": "2025-03-14T15:57:41.838Z"
   },
   {
    "duration": 5,
    "start_time": "2025-03-14T15:58:13.348Z"
   },
   {
    "duration": 7,
    "start_time": "2025-03-14T15:58:25.707Z"
   },
   {
    "duration": 8,
    "start_time": "2025-03-14T16:01:39.493Z"
   },
   {
    "duration": 16,
    "start_time": "2025-03-14T16:01:46.997Z"
   },
   {
    "duration": 16,
    "start_time": "2025-03-14T16:01:54.501Z"
   },
   {
    "duration": 9,
    "start_time": "2025-03-14T16:14:20.016Z"
   },
   {
    "duration": 5,
    "start_time": "2025-03-14T16:14:34.359Z"
   },
   {
    "duration": 8,
    "start_time": "2025-03-14T16:14:42.014Z"
   },
   {
    "duration": 84,
    "start_time": "2025-03-14T16:23:36.049Z"
   },
   {
    "duration": 9,
    "start_time": "2025-03-14T16:23:50.991Z"
   },
   {
    "duration": 6,
    "start_time": "2025-03-14T16:26:04.630Z"
   },
   {
    "duration": 1114,
    "start_time": "2025-03-14T16:51:35.234Z"
   },
   {
    "duration": 308,
    "start_time": "2025-03-14T16:52:26.711Z"
   },
   {
    "duration": 297,
    "start_time": "2025-03-14T16:52:37.997Z"
   },
   {
    "duration": 19,
    "start_time": "2025-03-14T16:53:19.059Z"
   },
   {
    "duration": 7,
    "start_time": "2025-03-14T17:01:08.998Z"
   },
   {
    "duration": 3,
    "start_time": "2025-03-14T17:01:45.135Z"
   },
   {
    "duration": 96,
    "start_time": "2025-03-14T17:01:45.528Z"
   },
   {
    "duration": 41,
    "start_time": "2025-03-14T17:01:46.167Z"
   },
   {
    "duration": 15,
    "start_time": "2025-03-14T17:01:46.687Z"
   },
   {
    "duration": 2059,
    "start_time": "2025-03-14T17:01:47.191Z"
   },
   {
    "duration": 11,
    "start_time": "2025-03-14T17:01:49.518Z"
   },
   {
    "duration": 6,
    "start_time": "2025-03-14T17:01:51.494Z"
   },
   {
    "duration": 17,
    "start_time": "2025-03-14T17:01:52.014Z"
   },
   {
    "duration": 6,
    "start_time": "2025-03-14T17:01:56.486Z"
   },
   {
    "duration": 18,
    "start_time": "2025-03-14T17:06:18.668Z"
   },
   {
    "duration": 1165,
    "start_time": "2025-03-14T17:08:34.179Z"
   },
   {
    "duration": 10,
    "start_time": "2025-03-14T17:08:46.034Z"
   },
   {
    "duration": 15,
    "start_time": "2025-03-14T17:08:55.185Z"
   },
   {
    "duration": 80,
    "start_time": "2025-03-14T17:11:21.703Z"
   },
   {
    "duration": 87,
    "start_time": "2025-03-14T17:16:50.168Z"
   },
   {
    "duration": 84,
    "start_time": "2025-03-14T17:17:00.248Z"
   },
   {
    "duration": 14,
    "start_time": "2025-03-14T17:17:04.447Z"
   },
   {
    "duration": 11,
    "start_time": "2025-03-14T17:17:26.918Z"
   },
   {
    "duration": 13,
    "start_time": "2025-03-14T17:17:57.236Z"
   },
   {
    "duration": 12,
    "start_time": "2025-03-14T17:18:44.753Z"
   },
   {
    "duration": 9,
    "start_time": "2025-03-14T17:20:28.616Z"
   },
   {
    "duration": 10,
    "start_time": "2025-03-14T17:20:46.856Z"
   },
   {
    "duration": 18,
    "start_time": "2025-03-14T17:23:50.115Z"
   },
   {
    "duration": 7,
    "start_time": "2025-03-14T17:59:34.344Z"
   },
   {
    "duration": 7,
    "start_time": "2025-03-14T17:59:40.703Z"
   },
   {
    "duration": 139,
    "start_time": "2025-03-14T18:06:33.714Z"
   },
   {
    "duration": 12,
    "start_time": "2025-03-14T18:12:51.249Z"
   },
   {
    "duration": 20,
    "start_time": "2025-03-14T18:16:07.425Z"
   },
   {
    "duration": 81,
    "start_time": "2025-03-14T18:16:25.817Z"
   },
   {
    "duration": 180,
    "start_time": "2025-03-14T18:18:08.904Z"
   },
   {
    "duration": 106,
    "start_time": "2025-03-14T18:18:23.831Z"
   },
   {
    "duration": 13,
    "start_time": "2025-03-14T18:18:52.133Z"
   },
   {
    "duration": 11,
    "start_time": "2025-03-14T18:19:17.867Z"
   },
   {
    "duration": 614,
    "start_time": "2025-03-14T18:30:24.092Z"
   },
   {
    "duration": 16,
    "start_time": "2025-03-14T18:31:18.632Z"
   },
   {
    "duration": 321,
    "start_time": "2025-03-14T18:33:15.280Z"
   },
   {
    "duration": 14,
    "start_time": "2025-03-14T18:34:39.986Z"
   },
   {
    "duration": 7,
    "start_time": "2025-03-14T18:36:30.338Z"
   },
   {
    "duration": 78,
    "start_time": "2025-03-14T18:36:44.761Z"
   },
   {
    "duration": 6,
    "start_time": "2025-03-14T18:37:14.647Z"
   },
   {
    "duration": 88,
    "start_time": "2025-03-14T18:38:14.106Z"
   },
   {
    "duration": 7,
    "start_time": "2025-03-14T18:38:53.391Z"
   },
   {
    "duration": 14,
    "start_time": "2025-03-14T18:39:45.508Z"
   },
   {
    "duration": 5,
    "start_time": "2025-03-14T18:41:23.637Z"
   },
   {
    "duration": 43,
    "start_time": "2025-03-14T18:41:32.204Z"
   },
   {
    "duration": 5,
    "start_time": "2025-03-14T18:42:10.697Z"
   },
   {
    "duration": 3,
    "start_time": "2025-03-14T18:42:36.023Z"
   },
   {
    "duration": 80,
    "start_time": "2025-03-14T18:42:36.351Z"
   },
   {
    "duration": 37,
    "start_time": "2025-03-14T18:42:36.753Z"
   },
   {
    "duration": 14,
    "start_time": "2025-03-14T18:42:37.079Z"
   },
   {
    "duration": 1775,
    "start_time": "2025-03-14T18:42:37.752Z"
   },
   {
    "duration": 10,
    "start_time": "2025-03-14T18:42:41.583Z"
   },
   {
    "duration": 5,
    "start_time": "2025-03-14T18:42:43.551Z"
   },
   {
    "duration": 15,
    "start_time": "2025-03-14T18:42:44.207Z"
   },
   {
    "duration": 6,
    "start_time": "2025-03-14T18:42:44.680Z"
   },
   {
    "duration": 39,
    "start_time": "2025-03-14T18:42:45.703Z"
   },
   {
    "duration": 5,
    "start_time": "2025-03-14T18:42:47.776Z"
   },
   {
    "duration": 280,
    "start_time": "2025-03-14T18:43:45.411Z"
   },
   {
    "duration": 284,
    "start_time": "2025-03-14T18:44:01.922Z"
   },
   {
    "duration": 5,
    "start_time": "2025-03-14T18:44:19.776Z"
   },
   {
    "duration": 13,
    "start_time": "2025-03-14T18:46:36.991Z"
   },
   {
    "duration": 13,
    "start_time": "2025-03-14T18:46:41.774Z"
   },
   {
    "duration": 8,
    "start_time": "2025-03-14T18:47:09.077Z"
   },
   {
    "duration": 3381,
    "start_time": "2025-03-14T18:47:16.027Z"
   },
   {
    "duration": 3406,
    "start_time": "2025-03-14T18:47:24.931Z"
   },
   {
    "duration": 6,
    "start_time": "2025-03-14T18:51:11.008Z"
   },
   {
    "duration": 21,
    "start_time": "2025-03-14T18:53:22.975Z"
   },
   {
    "duration": 153,
    "start_time": "2025-03-14T18:57:17.958Z"
   },
   {
    "duration": 155,
    "start_time": "2025-03-14T18:57:23.077Z"
   },
   {
    "duration": 161,
    "start_time": "2025-03-14T18:57:26.628Z"
   },
   {
    "duration": 164,
    "start_time": "2025-03-14T18:57:30.660Z"
   },
   {
    "duration": 163,
    "start_time": "2025-03-14T18:57:34.948Z"
   },
   {
    "duration": 154,
    "start_time": "2025-03-14T18:57:38.092Z"
   },
   {
    "duration": 175,
    "start_time": "2025-03-14T18:58:59.014Z"
   },
   {
    "duration": 165,
    "start_time": "2025-03-14T18:59:20.108Z"
   },
   {
    "duration": 229,
    "start_time": "2025-03-14T18:59:27.940Z"
   },
   {
    "duration": 195,
    "start_time": "2025-03-14T18:59:36.803Z"
   },
   {
    "duration": 223,
    "start_time": "2025-03-14T18:59:49.019Z"
   },
   {
    "duration": 374,
    "start_time": "2025-03-14T19:01:31.532Z"
   },
   {
    "duration": 45,
    "start_time": "2025-03-14T19:02:16.944Z"
   },
   {
    "duration": 5,
    "start_time": "2025-03-14T19:02:45.613Z"
   },
   {
    "duration": 5,
    "start_time": "2025-03-14T19:03:36.162Z"
   },
   {
    "duration": 271,
    "start_time": "2025-03-14T19:04:20.342Z"
   },
   {
    "duration": 13,
    "start_time": "2025-03-14T19:05:22.714Z"
   },
   {
    "duration": 43,
    "start_time": "2025-03-14T19:05:35.897Z"
   },
   {
    "duration": 178,
    "start_time": "2025-03-14T19:06:23.877Z"
   },
   {
    "duration": 264,
    "start_time": "2025-03-14T19:07:21.825Z"
   },
   {
    "duration": 1160,
    "start_time": "2025-03-14T19:07:37.552Z"
   },
   {
    "duration": 9,
    "start_time": "2025-03-14T19:07:58.078Z"
   },
   {
    "duration": 24,
    "start_time": "2025-03-14T19:07:58.679Z"
   },
   {
    "duration": 6,
    "start_time": "2025-03-14T19:07:59.222Z"
   },
   {
    "duration": 207,
    "start_time": "2025-03-14T19:07:59.398Z"
   },
   {
    "duration": 6,
    "start_time": "2025-03-14T19:07:59.607Z"
   },
   {
    "duration": 13,
    "start_time": "2025-03-14T19:08:00.005Z"
   },
   {
    "duration": 6,
    "start_time": "2025-03-14T19:08:01.190Z"
   },
   {
    "duration": 7,
    "start_time": "2025-03-14T19:08:01.470Z"
   },
   {
    "duration": 7,
    "start_time": "2025-03-14T19:08:01.742Z"
   },
   {
    "duration": 7,
    "start_time": "2025-03-14T19:08:01.990Z"
   },
   {
    "duration": 310,
    "start_time": "2025-03-14T19:08:02.238Z"
   },
   {
    "duration": 6,
    "start_time": "2025-03-14T19:08:02.550Z"
   },
   {
    "duration": 10,
    "start_time": "2025-03-14T19:08:05.765Z"
   },
   {
    "duration": 6,
    "start_time": "2025-03-14T19:08:08.030Z"
   },
   {
    "duration": 270,
    "start_time": "2025-03-14T19:08:10.470Z"
   },
   {
    "duration": 9,
    "start_time": "2025-03-14T19:08:15.477Z"
   },
   {
    "duration": 258,
    "start_time": "2025-03-14T19:08:15.822Z"
   },
   {
    "duration": 10,
    "start_time": "2025-03-14T19:08:18.012Z"
   },
   {
    "duration": 282,
    "start_time": "2025-03-14T19:08:18.541Z"
   },
   {
    "duration": 8,
    "start_time": "2025-03-14T19:08:20.261Z"
   },
   {
    "duration": 286,
    "start_time": "2025-03-14T19:08:20.525Z"
   },
   {
    "duration": 8,
    "start_time": "2025-03-14T19:08:21.652Z"
   },
   {
    "duration": 206,
    "start_time": "2025-03-14T19:08:21.933Z"
   },
   {
    "duration": 10,
    "start_time": "2025-03-14T19:08:23.972Z"
   },
   {
    "duration": 318,
    "start_time": "2025-03-14T19:08:24.444Z"
   },
   {
    "duration": 9,
    "start_time": "2025-03-14T19:08:25.876Z"
   },
   {
    "duration": 146,
    "start_time": "2025-03-14T19:08:26.525Z"
   },
   {
    "duration": 9,
    "start_time": "2025-03-14T19:08:27.972Z"
   },
   {
    "duration": 196,
    "start_time": "2025-03-14T19:08:28.332Z"
   },
   {
    "duration": 10,
    "start_time": "2025-03-14T19:08:30.163Z"
   },
   {
    "duration": 278,
    "start_time": "2025-03-14T19:08:30.684Z"
   },
   {
    "duration": 9,
    "start_time": "2025-03-14T19:08:32.364Z"
   },
   {
    "duration": 272,
    "start_time": "2025-03-14T19:08:32.723Z"
   },
   {
    "duration": 9,
    "start_time": "2025-03-14T19:08:33.724Z"
   },
   {
    "duration": 319,
    "start_time": "2025-03-14T19:08:33.964Z"
   },
   {
    "duration": 24,
    "start_time": "2025-03-14T19:08:34.972Z"
   },
   {
    "duration": 170,
    "start_time": "2025-03-14T19:08:35.708Z"
   },
   {
    "duration": 200,
    "start_time": "2025-03-14T19:09:03.690Z"
   },
   {
    "duration": 8,
    "start_time": "2025-03-14T19:11:45.374Z"
   },
   {
    "duration": 11,
    "start_time": "2025-03-14T19:12:19.587Z"
   },
   {
    "duration": 177,
    "start_time": "2025-03-14T19:12:53.593Z"
   },
   {
    "duration": 163,
    "start_time": "2025-03-14T19:13:02.097Z"
   },
   {
    "duration": 177,
    "start_time": "2025-03-14T19:13:12.344Z"
   },
   {
    "duration": 319,
    "start_time": "2025-03-14T19:13:38.669Z"
   },
   {
    "duration": 147,
    "start_time": "2025-03-14T19:14:29.402Z"
   },
   {
    "duration": 180,
    "start_time": "2025-03-14T19:14:54.064Z"
   },
   {
    "duration": 145,
    "start_time": "2025-03-14T19:15:41.741Z"
   },
   {
    "duration": 14,
    "start_time": "2025-03-14T19:16:03.115Z"
   },
   {
    "duration": 132,
    "start_time": "2025-03-14T19:16:07.795Z"
   },
   {
    "duration": 128,
    "start_time": "2025-03-14T19:16:36.009Z"
   },
   {
    "duration": 329,
    "start_time": "2025-03-14T19:17:12.366Z"
   },
   {
    "duration": 183,
    "start_time": "2025-03-14T19:17:28.317Z"
   },
   {
    "duration": 175,
    "start_time": "2025-03-14T19:17:33.053Z"
   },
   {
    "duration": 144,
    "start_time": "2025-03-14T19:18:47.431Z"
   },
   {
    "duration": 170,
    "start_time": "2025-03-14T19:18:54.143Z"
   },
   {
    "duration": 143,
    "start_time": "2025-03-14T19:19:00.959Z"
   },
   {
    "duration": 140,
    "start_time": "2025-03-14T19:19:05.430Z"
   },
   {
    "duration": 130,
    "start_time": "2025-03-14T19:19:12.389Z"
   },
   {
    "duration": 145,
    "start_time": "2025-03-14T19:19:59.490Z"
   },
   {
    "duration": 144,
    "start_time": "2025-03-14T19:20:11.921Z"
   },
   {
    "duration": 147,
    "start_time": "2025-03-14T19:20:27.176Z"
   },
   {
    "duration": 135,
    "start_time": "2025-03-14T19:21:26.316Z"
   },
   {
    "duration": 42,
    "start_time": "2025-03-14T19:25:05.740Z"
   },
   {
    "duration": 38,
    "start_time": "2025-03-14T19:25:28.667Z"
   },
   {
    "duration": 6,
    "start_time": "2025-03-14T19:26:46.237Z"
   },
   {
    "duration": 6,
    "start_time": "2025-03-14T19:27:06.292Z"
   },
   {
    "duration": 10,
    "start_time": "2025-03-14T19:27:24.234Z"
   },
   {
    "duration": 38,
    "start_time": "2025-03-14T19:27:33.561Z"
   },
   {
    "duration": 14,
    "start_time": "2025-03-14T19:35:33.743Z"
   },
   {
    "duration": 15,
    "start_time": "2025-03-14T19:35:42.166Z"
   },
   {
    "duration": 9,
    "start_time": "2025-03-14T19:36:56.913Z"
   },
   {
    "duration": 15,
    "start_time": "2025-03-14T19:37:13.863Z"
   },
   {
    "duration": 16,
    "start_time": "2025-03-14T19:38:11.892Z"
   },
   {
    "duration": 12,
    "start_time": "2025-03-14T19:38:39.433Z"
   },
   {
    "duration": 17,
    "start_time": "2025-03-14T19:38:58.752Z"
   },
   {
    "duration": 14,
    "start_time": "2025-03-14T19:39:56.876Z"
   },
   {
    "duration": 88,
    "start_time": "2025-03-14T19:40:19.611Z"
   },
   {
    "duration": 87,
    "start_time": "2025-03-14T19:40:28.946Z"
   },
   {
    "duration": 217,
    "start_time": "2025-03-14T19:40:49.088Z"
   },
   {
    "duration": 35,
    "start_time": "2025-03-14T19:40:52.136Z"
   },
   {
    "duration": 12,
    "start_time": "2025-03-14T19:41:54.164Z"
   },
   {
    "duration": 5,
    "start_time": "2025-03-14T19:42:27.401Z"
   },
   {
    "duration": 7,
    "start_time": "2025-03-14T19:42:32.968Z"
   },
   {
    "duration": 6,
    "start_time": "2025-03-14T19:42:47.536Z"
   },
   {
    "duration": 7,
    "start_time": "2025-03-14T19:43:02.726Z"
   },
   {
    "duration": 6,
    "start_time": "2025-03-14T19:43:05.214Z"
   },
   {
    "duration": 7,
    "start_time": "2025-03-14T19:43:18.125Z"
   },
   {
    "duration": 7,
    "start_time": "2025-03-14T19:43:19.901Z"
   },
   {
    "duration": 7,
    "start_time": "2025-03-14T19:43:37.765Z"
   },
   {
    "duration": 7,
    "start_time": "2025-03-14T19:43:42.819Z"
   },
   {
    "duration": 6,
    "start_time": "2025-03-14T19:44:03.018Z"
   },
   {
    "duration": 36,
    "start_time": "2025-03-14T19:44:13.745Z"
   },
   {
    "duration": 36,
    "start_time": "2025-03-14T19:46:11.961Z"
   },
   {
    "duration": 6,
    "start_time": "2025-03-14T19:47:03.309Z"
   },
   {
    "duration": 414,
    "start_time": "2025-03-14T19:47:58.362Z"
   },
   {
    "duration": 39,
    "start_time": "2025-03-14T19:47:59.145Z"
   },
   {
    "duration": 6,
    "start_time": "2025-03-14T19:48:00.433Z"
   },
   {
    "duration": 6,
    "start_time": "2025-03-14T19:48:53.805Z"
   },
   {
    "duration": 6,
    "start_time": "2025-03-14T19:48:55.653Z"
   },
   {
    "duration": 37,
    "start_time": "2025-03-14T19:49:01.564Z"
   },
   {
    "duration": 5,
    "start_time": "2025-03-14T19:49:02.380Z"
   },
   {
    "duration": 7,
    "start_time": "2025-03-14T19:50:00.009Z"
   },
   {
    "duration": 8,
    "start_time": "2025-03-14T19:52:38.293Z"
   },
   {
    "duration": 7,
    "start_time": "2025-03-14T19:53:39.737Z"
   },
   {
    "duration": 3,
    "start_time": "2025-03-14T19:54:13.790Z"
   },
   {
    "duration": 6,
    "start_time": "2025-03-14T19:54:14.687Z"
   },
   {
    "duration": 3,
    "start_time": "2025-03-14T19:54:18.190Z"
   },
   {
    "duration": 8,
    "start_time": "2025-03-14T19:54:19.477Z"
   },
   {
    "duration": 3,
    "start_time": "2025-03-14T19:54:35.100Z"
   },
   {
    "duration": 77,
    "start_time": "2025-03-14T19:54:35.388Z"
   },
   {
    "duration": 38,
    "start_time": "2025-03-14T19:54:35.765Z"
   },
   {
    "duration": 15,
    "start_time": "2025-03-14T19:54:36.076Z"
   },
   {
    "duration": 1699,
    "start_time": "2025-03-14T19:54:36.596Z"
   },
   {
    "duration": 9,
    "start_time": "2025-03-14T19:54:40.212Z"
   },
   {
    "duration": 6,
    "start_time": "2025-03-14T19:54:41.635Z"
   },
   {
    "duration": 16,
    "start_time": "2025-03-14T19:54:41.972Z"
   },
   {
    "duration": 7,
    "start_time": "2025-03-14T19:54:42.364Z"
   },
   {
    "duration": 4,
    "start_time": "2025-03-14T19:54:42.787Z"
   },
   {
    "duration": 8,
    "start_time": "2025-03-14T19:54:43.324Z"
   },
   {
    "duration": 9,
    "start_time": "2025-03-14T19:55:17.210Z"
   },
   {
    "duration": 2,
    "start_time": "2025-03-14T19:58:56.624Z"
   },
   {
    "duration": 81,
    "start_time": "2025-03-14T19:58:56.816Z"
   },
   {
    "duration": 35,
    "start_time": "2025-03-14T19:58:56.985Z"
   },
   {
    "duration": 14,
    "start_time": "2025-03-14T19:58:57.224Z"
   },
   {
    "duration": 1726,
    "start_time": "2025-03-14T19:58:57.464Z"
   },
   {
    "duration": 10,
    "start_time": "2025-03-14T19:59:00.496Z"
   },
   {
    "duration": 5,
    "start_time": "2025-03-14T19:59:01.968Z"
   },
   {
    "duration": 16,
    "start_time": "2025-03-14T19:59:02.352Z"
   },
   {
    "duration": 160,
    "start_time": "2025-03-14T19:59:02.744Z"
   },
   {
    "duration": 4,
    "start_time": "2025-03-14T19:59:04.048Z"
   },
   {
    "duration": 7,
    "start_time": "2025-03-14T19:59:05.096Z"
   },
   {
    "duration": 6,
    "start_time": "2025-03-14T19:59:17.359Z"
   },
   {
    "duration": 3,
    "start_time": "2025-03-14T19:59:18.383Z"
   },
   {
    "duration": 6,
    "start_time": "2025-03-14T19:59:18.935Z"
   },
   {
    "duration": 3,
    "start_time": "2025-03-14T19:59:24.942Z"
   },
   {
    "duration": 80,
    "start_time": "2025-03-14T19:59:25.110Z"
   },
   {
    "duration": 36,
    "start_time": "2025-03-14T19:59:25.263Z"
   },
   {
    "duration": 14,
    "start_time": "2025-03-14T19:59:25.413Z"
   },
   {
    "duration": 1995,
    "start_time": "2025-03-14T19:59:25.598Z"
   },
   {
    "duration": 9,
    "start_time": "2025-03-14T19:59:27.595Z"
   },
   {
    "duration": 5,
    "start_time": "2025-03-14T19:59:28.894Z"
   },
   {
    "duration": 16,
    "start_time": "2025-03-14T19:59:29.422Z"
   },
   {
    "duration": 8,
    "start_time": "2025-03-14T19:59:29.870Z"
   },
   {
    "duration": 3,
    "start_time": "2025-03-14T19:59:30.286Z"
   },
   {
    "duration": 7,
    "start_time": "2025-03-14T19:59:30.934Z"
   },
   {
    "duration": 9,
    "start_time": "2025-03-14T19:59:34.021Z"
   },
   {
    "duration": 6,
    "start_time": "2025-03-14T20:00:38.537Z"
   },
   {
    "duration": 6,
    "start_time": "2025-03-14T20:00:43.464Z"
   },
   {
    "duration": 4,
    "start_time": "2025-03-14T20:00:58.535Z"
   },
   {
    "duration": 1334,
    "start_time": "2025-03-14T20:01:04.471Z"
   },
   {
    "duration": 36,
    "start_time": "2025-03-14T20:02:21.121Z"
   },
   {
    "duration": 2,
    "start_time": "2025-03-14T20:03:34.284Z"
   },
   {
    "duration": 81,
    "start_time": "2025-03-14T20:03:34.467Z"
   },
   {
    "duration": 36,
    "start_time": "2025-03-14T20:03:34.637Z"
   },
   {
    "duration": 14,
    "start_time": "2025-03-14T20:03:34.780Z"
   },
   {
    "duration": 1757,
    "start_time": "2025-03-14T20:03:34.931Z"
   },
   {
    "duration": 11,
    "start_time": "2025-03-14T20:03:36.690Z"
   },
   {
    "duration": 9,
    "start_time": "2025-03-14T20:03:36.702Z"
   },
   {
    "duration": 15,
    "start_time": "2025-03-14T20:03:36.915Z"
   },
   {
    "duration": 7,
    "start_time": "2025-03-14T20:03:37.235Z"
   },
   {
    "duration": 4,
    "start_time": "2025-03-14T20:03:37.555Z"
   },
   {
    "duration": 8,
    "start_time": "2025-03-14T20:03:38.147Z"
   },
   {
    "duration": 7,
    "start_time": "2025-03-14T20:03:39.275Z"
   },
   {
    "duration": 33,
    "start_time": "2025-03-14T20:03:40.195Z"
   },
   {
    "duration": 33,
    "start_time": "2025-03-14T20:03:52.506Z"
   },
   {
    "duration": 4,
    "start_time": "2025-03-14T20:05:28.364Z"
   },
   {
    "duration": 8,
    "start_time": "2025-03-14T20:06:20.391Z"
   },
   {
    "duration": 4,
    "start_time": "2025-03-14T20:06:22.207Z"
   },
   {
    "duration": 3,
    "start_time": "2025-03-14T20:06:24.879Z"
   },
   {
    "duration": 8,
    "start_time": "2025-03-14T20:06:25.151Z"
   },
   {
    "duration": 7,
    "start_time": "2025-03-14T20:06:25.966Z"
   },
   {
    "duration": 36,
    "start_time": "2025-03-14T20:06:26.918Z"
   },
   {
    "duration": 32,
    "start_time": "2025-03-14T20:07:26.346Z"
   },
   {
    "duration": 81,
    "start_time": "2025-03-14T20:07:27.786Z"
   },
   {
    "duration": 35,
    "start_time": "2025-03-14T20:07:28.290Z"
   },
   {
    "duration": 15,
    "start_time": "2025-03-14T20:07:29.113Z"
   },
   {
    "duration": 1994,
    "start_time": "2025-03-14T20:07:29.273Z"
   },
   {
    "duration": 9,
    "start_time": "2025-03-14T20:07:31.269Z"
   },
   {
    "duration": 14,
    "start_time": "2025-03-14T20:07:31.279Z"
   },
   {
    "duration": 16,
    "start_time": "2025-03-14T20:07:31.294Z"
   },
   {
    "duration": 265,
    "start_time": "2025-03-14T20:07:33.250Z"
   },
   {
    "duration": 4,
    "start_time": "2025-03-14T20:07:36.890Z"
   },
   {
    "duration": 3,
    "start_time": "2025-03-14T20:07:38.241Z"
   },
   {
    "duration": 7,
    "start_time": "2025-03-14T20:07:39.193Z"
   },
   {
    "duration": 6,
    "start_time": "2025-03-14T20:07:40.888Z"
   },
   {
    "duration": 32,
    "start_time": "2025-03-14T20:07:45.113Z"
   },
   {
    "duration": 263,
    "start_time": "2025-03-14T20:08:44.245Z"
   },
   {
    "duration": 7,
    "start_time": "2025-03-14T20:08:47.972Z"
   },
   {
    "duration": 5,
    "start_time": "2025-03-14T20:08:48.188Z"
   },
   {
    "duration": 4,
    "start_time": "2025-03-14T20:08:48.932Z"
   },
   {
    "duration": 7,
    "start_time": "2025-03-14T20:08:49.292Z"
   },
   {
    "duration": 6,
    "start_time": "2025-03-14T20:08:50.107Z"
   },
   {
    "duration": 34,
    "start_time": "2025-03-14T20:08:50.965Z"
   },
   {
    "duration": 3,
    "start_time": "2025-03-14T20:10:59.995Z"
   },
   {
    "duration": 84,
    "start_time": "2025-03-14T20:11:00.162Z"
   },
   {
    "duration": 36,
    "start_time": "2025-03-14T20:11:00.331Z"
   },
   {
    "duration": 15,
    "start_time": "2025-03-14T20:11:00.489Z"
   },
   {
    "duration": 1769,
    "start_time": "2025-03-14T20:11:00.666Z"
   },
   {
    "duration": 9,
    "start_time": "2025-03-14T20:11:02.437Z"
   },
   {
    "duration": 6,
    "start_time": "2025-03-14T20:11:03.098Z"
   },
   {
    "duration": 16,
    "start_time": "2025-03-14T20:11:03.338Z"
   },
   {
    "duration": 276,
    "start_time": "2025-03-14T20:11:03.562Z"
   },
   {
    "duration": 4,
    "start_time": "2025-03-14T20:11:03.840Z"
   },
   {
    "duration": 8,
    "start_time": "2025-03-14T20:11:04.010Z"
   },
   {
    "duration": 7,
    "start_time": "2025-03-14T20:11:04.753Z"
   },
   {
    "duration": 34,
    "start_time": "2025-03-14T20:11:05.411Z"
   },
   {
    "duration": 24,
    "start_time": "2025-03-14T20:16:26.971Z"
   },
   {
    "duration": 35,
    "start_time": "2025-03-14T20:16:32.098Z"
   },
   {
    "duration": 91,
    "start_time": "2025-03-14T20:21:11.613Z"
   },
   {
    "duration": 202,
    "start_time": "2025-03-14T20:23:27.451Z"
   },
   {
    "duration": 6,
    "start_time": "2025-03-14T20:23:37.738Z"
   },
   {
    "duration": 33,
    "start_time": "2025-03-14T20:23:53.130Z"
   },
   {
    "duration": 4,
    "start_time": "2025-03-14T20:24:23.647Z"
   },
   {
    "duration": 6,
    "start_time": "2025-03-14T20:24:24.975Z"
   },
   {
    "duration": 21,
    "start_time": "2025-03-14T20:24:35.254Z"
   },
   {
    "duration": 21,
    "start_time": "2025-03-14T20:26:38.437Z"
   },
   {
    "duration": 5,
    "start_time": "2025-03-14T20:28:06.567Z"
   },
   {
    "duration": 3,
    "start_time": "2025-03-14T20:29:02.602Z"
   },
   {
    "duration": 80,
    "start_time": "2025-03-14T20:29:02.882Z"
   },
   {
    "duration": 36,
    "start_time": "2025-03-14T20:29:03.266Z"
   },
   {
    "duration": 14,
    "start_time": "2025-03-14T20:29:03.659Z"
   },
   {
    "duration": 1719,
    "start_time": "2025-03-14T20:29:04.122Z"
   },
   {
    "duration": 10,
    "start_time": "2025-03-14T20:29:07.194Z"
   },
   {
    "duration": 6,
    "start_time": "2025-03-14T20:29:09.370Z"
   },
   {
    "duration": 16,
    "start_time": "2025-03-14T20:29:10.003Z"
   },
   {
    "duration": 270,
    "start_time": "2025-03-14T20:29:10.554Z"
   },
   {
    "duration": 4,
    "start_time": "2025-03-14T20:29:11.274Z"
   },
   {
    "duration": 7,
    "start_time": "2025-03-14T20:29:13.706Z"
   },
   {
    "duration": 212,
    "start_time": "2025-03-14T20:29:14.834Z"
   },
   {
    "duration": 7,
    "start_time": "2025-03-14T20:29:16.082Z"
   },
   {
    "duration": 21,
    "start_time": "2025-03-14T20:29:17.586Z"
   },
   {
    "duration": 94,
    "start_time": "2025-03-14T20:33:44.750Z"
   },
   {
    "duration": 7,
    "start_time": "2025-03-14T20:34:07.548Z"
   },
   {
    "duration": 6,
    "start_time": "2025-03-14T20:34:08.643Z"
   },
   {
    "duration": 20,
    "start_time": "2025-03-14T20:35:17.735Z"
   },
   {
    "duration": 366,
    "start_time": "2025-03-15T11:55:30.672Z"
   },
   {
    "duration": 94,
    "start_time": "2025-03-15T11:55:31.543Z"
   },
   {
    "duration": 41,
    "start_time": "2025-03-15T11:55:32.311Z"
   },
   {
    "duration": 14,
    "start_time": "2025-03-15T11:55:33.286Z"
   },
   {
    "duration": 2202,
    "start_time": "2025-03-15T11:55:33.958Z"
   },
   {
    "duration": 11,
    "start_time": "2025-03-15T11:55:37.117Z"
   },
   {
    "duration": 5,
    "start_time": "2025-03-15T11:55:39.366Z"
   },
   {
    "duration": 18,
    "start_time": "2025-03-15T11:55:39.982Z"
   },
   {
    "duration": 268,
    "start_time": "2025-03-15T11:55:40.630Z"
   },
   {
    "duration": 4,
    "start_time": "2025-03-15T11:55:41.445Z"
   },
   {
    "duration": 8,
    "start_time": "2025-03-15T11:55:43.277Z"
   },
   {
    "duration": 212,
    "start_time": "2025-03-15T11:55:44.286Z"
   },
   {
    "duration": 7,
    "start_time": "2025-03-15T11:55:45.461Z"
   },
   {
    "duration": 20,
    "start_time": "2025-03-15T11:55:46.109Z"
   },
   {
    "duration": 4,
    "start_time": "2025-03-15T11:55:46.637Z"
   },
   {
    "duration": 9,
    "start_time": "2025-03-15T11:55:48.375Z"
   },
   {
    "duration": 19,
    "start_time": "2025-03-15T11:55:49.237Z"
   },
   {
    "duration": 7,
    "start_time": "2025-03-15T11:55:49.620Z"
   },
   {
    "duration": 208,
    "start_time": "2025-03-15T11:55:50.005Z"
   },
   {
    "duration": 7,
    "start_time": "2025-03-15T11:55:50.404Z"
   },
   {
    "duration": 14,
    "start_time": "2025-03-15T11:55:52.636Z"
   },
   {
    "duration": 7,
    "start_time": "2025-03-15T11:55:56.228Z"
   },
   {
    "duration": 7,
    "start_time": "2025-03-15T11:55:56.700Z"
   },
   {
    "duration": 8,
    "start_time": "2025-03-15T11:55:57.084Z"
   },
   {
    "duration": 7,
    "start_time": "2025-03-15T11:55:57.444Z"
   },
   {
    "duration": 311,
    "start_time": "2025-03-15T11:55:57.788Z"
   },
   {
    "duration": 9,
    "start_time": "2025-03-15T11:55:58.220Z"
   },
   {
    "duration": 9,
    "start_time": "2025-03-15T11:56:00.660Z"
   },
   {
    "duration": 6,
    "start_time": "2025-03-15T11:56:01.228Z"
   },
   {
    "duration": 255,
    "start_time": "2025-03-15T11:56:01.892Z"
   },
   {
    "duration": 8,
    "start_time": "2025-03-15T11:56:03.924Z"
   },
   {
    "duration": 317,
    "start_time": "2025-03-15T11:56:04.380Z"
   },
   {
    "duration": 9,
    "start_time": "2025-03-15T11:56:06.291Z"
   },
   {
    "duration": 256,
    "start_time": "2025-03-15T11:56:06.756Z"
   },
   {
    "duration": 9,
    "start_time": "2025-03-15T11:56:08.707Z"
   },
   {
    "duration": 278,
    "start_time": "2025-03-15T11:56:09.332Z"
   },
   {
    "duration": 7,
    "start_time": "2025-03-15T11:56:11.307Z"
   },
   {
    "duration": 219,
    "start_time": "2025-03-15T11:56:11.723Z"
   },
   {
    "duration": 8,
    "start_time": "2025-03-15T11:56:13.451Z"
   },
   {
    "duration": 173,
    "start_time": "2025-03-15T11:56:13.907Z"
   },
   {
    "duration": 9,
    "start_time": "2025-03-15T11:56:16.226Z"
   },
   {
    "duration": 128,
    "start_time": "2025-03-15T11:56:16.804Z"
   },
   {
    "duration": 9,
    "start_time": "2025-03-15T11:56:21.530Z"
   },
   {
    "duration": 194,
    "start_time": "2025-03-15T11:56:22.075Z"
   },
   {
    "duration": 10,
    "start_time": "2025-03-15T11:56:24.554Z"
   },
   {
    "duration": 377,
    "start_time": "2025-03-15T11:56:25.178Z"
   },
   {
    "duration": 8,
    "start_time": "2025-03-15T11:56:27.226Z"
   },
   {
    "duration": 278,
    "start_time": "2025-03-15T11:56:27.722Z"
   },
   {
    "duration": 9,
    "start_time": "2025-03-15T11:56:29.409Z"
   },
   {
    "duration": 255,
    "start_time": "2025-03-15T11:56:29.802Z"
   },
   {
    "duration": 22,
    "start_time": "2025-03-15T11:56:31.681Z"
   },
   {
    "duration": 171,
    "start_time": "2025-03-15T11:56:32.369Z"
   },
   {
    "duration": 189,
    "start_time": "2025-03-15T11:56:33.042Z"
   },
   {
    "duration": 175,
    "start_time": "2025-03-15T11:56:33.673Z"
   },
   {
    "duration": 143,
    "start_time": "2025-03-15T11:56:34.426Z"
   },
   {
    "duration": 129,
    "start_time": "2025-03-15T11:56:35.065Z"
   },
   {
    "duration": 149,
    "start_time": "2025-03-15T11:56:35.714Z"
   },
   {
    "duration": 277,
    "start_time": "2025-03-15T11:56:36.329Z"
   },
   {
    "duration": 142,
    "start_time": "2025-03-15T11:56:36.986Z"
   },
   {
    "duration": 24,
    "start_time": "2025-03-15T11:56:39.881Z"
   },
   {
    "duration": 24,
    "start_time": "2025-03-15T11:56:42.377Z"
   },
   {
    "duration": 147,
    "start_time": "2025-03-15T11:56:43.793Z"
   },
   {
    "duration": 21,
    "start_time": "2025-03-15T11:56:45.928Z"
   }
  ],
  "colab": {
   "provenance": []
  },
  "kernelspec": {
   "display_name": "practicum",
   "language": "python",
   "name": "python3"
  },
  "language_info": {
   "codemirror_mode": {
    "name": "ipython",
    "version": 3
   },
   "file_extension": ".py",
   "mimetype": "text/x-python",
   "name": "python",
   "nbconvert_exporter": "python",
   "pygments_lexer": "ipython3",
   "version": "3.9.21"
  },
  "toc": {
   "base_numbering": 1,
   "nav_menu": {},
   "number_sections": true,
   "sideBar": true,
   "skip_h1_title": true,
   "title_cell": "Table of Contents",
   "title_sidebar": "Contents",
   "toc_cell": false,
   "toc_position": {},
   "toc_section_display": true,
   "toc_window_display": false
  }
 },
 "nbformat": 4,
 "nbformat_minor": 1
}
